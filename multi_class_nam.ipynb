{
 "cells": [
  {
   "cell_type": "code",
   "execution_count": 1,
   "metadata": {},
   "outputs": [],
   "source": [
    "import numpy as np\n",
    "from typing import Union, Iterable, Sized, Tuple\n",
    "import torch\n",
    "import torch.nn.functional as F\n",
    "from torch.distributions.uniform import Uniform\n",
    "import matplotlib.pyplot as plt\n",
    "import math\n",
    "import os\n",
    "import random\n",
    "import logging\n",
    "from torch.utils.data import TensorDataset, DataLoader\n",
    "from tqdm import tqdm\n",
    "from torch.optim.lr_scheduler import StepLR\n",
    "from torchinfo import summary\n",
    "\n",
    "from data_processing.data_loader import *\n",
    "from model.activation_layers import ExULayer, ReLULayer, LipschitzMonotonicLayer\n",
    "from model.model_network import HierarchNeuralAdditiveModel\n",
    "from utils.model_architecture_type import get_defult_architecture_phase1, get_defult_architecture_phase2\n",
    "from training.trainer import Trainer\n",
    "from utils.utils import define_device, seed_everything\n",
    "from utils.model_parser import parse_args\n",
    "from training.metrics import visualize_gam\n",
    "import wandb\n",
    "\n"
   ]
  },
  {
   "cell_type": "code",
   "execution_count": 2,
   "metadata": {},
   "outputs": [],
   "source": [
    "# wandb.login()"
   ]
  },
  {
   "cell_type": "code",
   "execution_count": 3,
   "metadata": {
    "scrolled": true
   },
   "outputs": [
    {
     "name": "stdout",
     "output_type": "stream",
     "text": [
      "cuda\n"
     ]
    }
   ],
   "source": [
    "# Parsing arguments\n",
    "args = parse_args()\n",
    "\n",
    "# Set device and seed\n",
    "device = define_device(\"auto\")\n",
    "print(device)\n",
    "\n",
    "seed_everything(args.seed)"
   ]
  },
  {
   "cell_type": "code",
   "execution_count": 4,
   "metadata": {},
   "outputs": [],
   "source": [
    "# args.featureNN_arch_phase1='multi_output'#'single_to_multi_output'\n",
    "# args.featureNN_arch_phase2='multi_output'#'parallel_single_output'"
   ]
  },
  {
   "cell_type": "markdown",
   "metadata": {},
   "source": [
    "DATA PROCESSING"
   ]
  },
  {
   "cell_type": "code",
   "execution_count": 4,
   "metadata": {},
   "outputs": [
    {
     "name": "stdout",
     "output_type": "stream",
     "text": [
      "torch.Size([50000, 10])\n",
      "torch.Size([50000, 4])\n",
      "torch.Size([50000, 2])\n",
      "torch.Size([5000, 10])\n",
      "torch.Size([5000, 4])\n",
      "torch.Size([5000, 2])\n",
      "Train size: 50000 Val size: 5000\n"
     ]
    }
   ],
   "source": [
    "# Generate synthetic data for Phase 1 and Phase 2\n",
    "X, y_phase1 = SyntheticDatasetGenerator.get_synthetic_data_phase1(args.num_exp, args.in_features)\n",
    "y_phase2 = SyntheticDatasetGenerator.get_synthetic_data_phase2(y_phase1)\n",
    "\n",
    "SyntheticDataset= True\n",
    "if SyntheticDataset:\n",
    "    # Generate synthetic data for validation set\n",
    "    X_val, y_phase1_val = SyntheticDatasetGenerator.get_synthetic_data_phase1(5000, args.in_features)\n",
    "    y_phase2_val = SyntheticDatasetGenerator.get_synthetic_data_phase2(y_phase1_val)\n",
    "\n",
    "    train_loader = SyntheticDatasetGenerator.make_loader(X, y_phase2, batch_size=args.batch_size)\n",
    "    val_loader = SyntheticDatasetGenerator.make_loader(X_val, y_phase2_val, batch_size=args.batch_size)\n",
    "else:\n",
    "    # Initialize DataLoaderWrapper with validation split\n",
    "    dataloader_wrapper = DataLoaderWrapper(X, y_phase2, val_split=args.val_split)\n",
    "    # Create DataLoaders\n",
    "    train_loader, val_loader = dataloader_wrapper.create_dataloaders()\n",
    "\n",
    "# Print the size of training and validation datasets\n",
    "print(\"Train size:\", len(train_loader.dataset), \"Val size:\", len(val_loader.dataset))"
   ]
  },
  {
   "cell_type": "code",
   "execution_count": 5,
   "metadata": {},
   "outputs": [],
   "source": [
    "args.featureNN_arch_phase1 = \"single_to_multi_output\"\n",
    "args.featureNN_arch_phase2 = \"parallel_single_output\""
   ]
  },
  {
   "cell_type": "code",
   "execution_count": 6,
   "metadata": {},
   "outputs": [
    {
     "data": {
      "text/plain": [
       "Namespace(GAM_block_layers_type_phase1='ReLU', GAM_block_layers_type_phase2='ReLU', base_lr=0.001, batch_size=1024, clip_value=0, cycle_momentum=False, div_factor=25, early_stop_delta=0.0, early_stop_patience=30, epochs=2000, eval_every=100, featureNN_arch_phase1='single_to_multi_output', featureNN_arch_phase2='parallel_single_output', feature_dropout_phase1=0.3, feature_dropout_phase2=0.0, final_div_factor=10000.0, first_activate_layer_phase1='ReLU', first_activate_layer_phase2='LipschitzMonotonic', first_hidden_dim_phase1=64, first_hidden_dim_phase2=128, group_size_phase1=2, group_size_phase2=2, hidden_activate_layer_phase1='ReLU', hidden_activate_layer_phase2='LipschitzMonotonic', hidden_dim_phase1=[64, 32], hidden_dim_phase2=[128, 64], hidden_dropout_phase1=0.2, hidden_dropout_phase2=0.0, hierarch_net=True, in_features=10, l1_lambda_phase1=0.0, l1_lambda_phase2=0.0, l2_lambda_phase1=0.0, l2_lambda_phase2=0.0002, latent_dim=4, learning_rate=0.0035, lr_scheduler='NoScheduler', max_lr=0.01, monitor='val_loss', monotonic_constraint_phase1=None, monotonic_constraint_phase2=None, n_cycles=5, num_exp=50000, optimizer='Adam', output_dim=2, pct_step_up=0.3, rop_factor=0.2, rop_mode='min', rop_patience=10, rop_threshold=0.001, rop_threshold_mode='abs', save_results=False, seed=42, shallow_phase1=False, shallow_phase2=False, task_type='regression', val_split=0.2, weight_decay=0.0001, weight_norms_kind_phase1='one-inf', weight_norms_kind_phase2='one-inf')"
      ]
     },
     "execution_count": 6,
     "metadata": {},
     "output_type": "execute_result"
    }
   ],
   "source": [
    "args"
   ]
  },
  {
   "cell_type": "markdown",
   "metadata": {},
   "source": [
    "Initialaize Model "
   ]
  },
  {
   "cell_type": "code",
   "execution_count": 7,
   "metadata": {},
   "outputs": [
    {
     "name": "stdout",
     "output_type": "stream",
     "text": [
      "Number of parameters: 465160\n"
     ]
    }
   ],
   "source": [
    "# Model definition: HierarchNeuralAdditiveModel\n",
    "model = HierarchNeuralAdditiveModel(num_inputs=args.in_features,\n",
    "                                    task_type= args.task_type,\n",
    "                                    hierarch_net= args.hierarch_net,\n",
    "                                    #phase1 - latent_features:\n",
    "                                    num_units_phase1= args.first_hidden_dim_phase1,\n",
    "                                    hidden_units_phase1 = args.hidden_dim_phase1,\n",
    "                                    hidden_dropout_phase1 =args.hidden_dropout_phase1,\n",
    "                                    feature_dropout_phase1 = args.feature_dropout_phase1,\n",
    "                                    shallow_phase1 = args.shallow_phase1,\n",
    "                                    first_layer_phase1 = args.first_activate_layer_phase1,\n",
    "                                    hidden_layer_phase1= args.hidden_activate_layer_phase1,         \n",
    "                                    latent_var_dim= args.latent_dim,\n",
    "                                    featureNN_architecture_phase1= args.featureNN_arch_phase1,\n",
    "                                    weight_norms_kind_phase1= args.weight_norms_kind_phase1, \n",
    "                                    group_size_phase1= args.group_size_phase1, \n",
    "                                    monotonic_constraint_phase1= args.monotonic_constraint_phase1,\n",
    "                                    #phase2 - final outputs:\n",
    "                                    num_units_phase2= args.first_hidden_dim_phase2,\n",
    "                                    hidden_units_phase2 = args.hidden_dim_phase2,\n",
    "                                    hidden_dropout_phase2 = args.hidden_dropout_phase2,\n",
    "                                    feature_dropout_phase2 = args.feature_dropout_phase2,\n",
    "                                    shallow_phase2 = args.shallow_phase2,\n",
    "                                    first_layer_phase2 = args.first_activate_layer_phase2,\n",
    "                                    hidden_layer_phase2 = args.hidden_activate_layer_phase2,          \n",
    "                                    output_dim = args.output_dim,\n",
    "                                    featureNN_architecture_phase2 = args.featureNN_arch_phase2,\n",
    "                                    weight_norms_kind_phase2 = args.weight_norms_kind_phase2, \n",
    "                                    group_size_phase2 = args.group_size_phase2, \n",
    "                                    monotonic_constraint_phase2 = args.monotonic_constraint_phase2\n",
    "                                    ).to(device)\n",
    "\n",
    "# model = HierarchNeuralAdditiveModel(num_inputs=10, \n",
    "#                                     output_dim = 2, \n",
    "#                                     latent_var_dim = 4, \n",
    "#                                     task_type = 'regression', \n",
    "#                                     hierarch_net = True,\n",
    "#                                     first_layer_phase1 = 'ReLU',\n",
    "#                                     hidden_layer_phase1 = 'ReLU',\n",
    "#                                     first_layer_phase2 = 'LipschitzMonotonic',\n",
    "#                                     hidden_layer_phase2 = 'LipschitzMonotonic',\n",
    "#                                     shallow_phase1 = False,\n",
    "#                                     shallow_phase2 = False\n",
    "#                                     ).to(device)\n",
    "\n",
    "total_params = sum(p.numel() for p in model.parameters())\n",
    "print(f\"Number of parameters: {total_params}\")\n",
    "\n",
    "if 0:\n",
    "    for name, param in model.named_parameters():\n",
    "        if param.requires_grad:\n",
    "            print(f'{name}: {param.numel()} parameters')\n",
    "if 0:\n",
    "    print(summary(model,input_size=(1, 10)))"
   ]
  },
  {
   "cell_type": "markdown",
   "metadata": {},
   "source": [
    "Train the model"
   ]
  },
  {
   "cell_type": "code",
   "execution_count": 9,
   "metadata": {},
   "outputs": [
    {
     "name": "stderr",
     "output_type": "stream",
     "text": [
      "Failed to detect the name of this notebook, you can set it manually with the WANDB_NOTEBOOK_NAME environment variable to enable code saving.\n",
      "\u001b[34m\u001b[1mwandb\u001b[0m: Currently logged in as: \u001b[33myuvalzehavi22\u001b[0m (\u001b[33myuvalzehavi_22\u001b[0m). Use \u001b[1m`wandb login --relogin`\u001b[0m to force relogin\n"
     ]
    },
    {
     "data": {
      "text/html": [
       "Tracking run with wandb version 0.17.9"
      ],
      "text/plain": [
       "<IPython.core.display.HTML object>"
      ]
     },
     "metadata": {},
     "output_type": "display_data"
    },
    {
     "data": {
      "text/html": [
       "Run data is saved locally in <code>/home/yuvalzehavi1/Repos/multi-classification-NAM/wandb/run-20240914_172335-kzzz753k</code>"
      ],
      "text/plain": [
       "<IPython.core.display.HTML object>"
      ]
     },
     "metadata": {},
     "output_type": "display_data"
    },
    {
     "data": {
      "text/html": [
       "Syncing run <strong><a href='https://wandb.ai/yuvalzehavi_22/Hirarchial%20GAMs/runs/kzzz753k' target=\"_blank\">unique-pond-2</a></strong> to <a href='https://wandb.ai/yuvalzehavi_22/Hirarchial%20GAMs' target=\"_blank\">Weights & Biases</a> (<a href='https://wandb.me/run' target=\"_blank\">docs</a>)<br/>"
      ],
      "text/plain": [
       "<IPython.core.display.HTML object>"
      ]
     },
     "metadata": {},
     "output_type": "display_data"
    },
    {
     "data": {
      "text/html": [
       " View project at <a href='https://wandb.ai/yuvalzehavi_22/Hirarchial%20GAMs' target=\"_blank\">https://wandb.ai/yuvalzehavi_22/Hirarchial%20GAMs</a>"
      ],
      "text/plain": [
       "<IPython.core.display.HTML object>"
      ]
     },
     "metadata": {},
     "output_type": "display_data"
    },
    {
     "data": {
      "text/html": [
       " View run at <a href='https://wandb.ai/yuvalzehavi_22/Hirarchial%20GAMs/runs/kzzz753k' target=\"_blank\">https://wandb.ai/yuvalzehavi_22/Hirarchial%20GAMs/runs/kzzz753k</a>"
      ],
      "text/plain": [
       "<IPython.core.display.HTML object>"
      ]
     },
     "metadata": {},
     "output_type": "display_data"
    },
    {
     "name": "stderr",
     "output_type": "stream",
     "text": [
      "  0%|          | 1/2000 [00:04<2:29:24,  4.48s/it]"
     ]
    },
    {
     "name": "stdout",
     "output_type": "stream",
     "text": [
      "Epoch 0 | Total Loss: 49.57803\n"
     ]
    },
    {
     "name": "stderr",
     "output_type": "stream",
     "text": [
      "  1%|          | 11/2000 [00:34<1:45:13,  3.17s/it]"
     ]
    },
    {
     "name": "stdout",
     "output_type": "stream",
     "text": [
      "Epoch 10 | Total Loss: 13.57393\n"
     ]
    },
    {
     "name": "stderr",
     "output_type": "stream",
     "text": [
      "  1%|          | 21/2000 [01:06<1:44:13,  3.16s/it]"
     ]
    },
    {
     "name": "stdout",
     "output_type": "stream",
     "text": [
      "Epoch 20 | Total Loss: 12.03690\n"
     ]
    },
    {
     "name": "stderr",
     "output_type": "stream",
     "text": [
      "  2%|▏         | 31/2000 [01:39<1:46:37,  3.25s/it]"
     ]
    },
    {
     "name": "stdout",
     "output_type": "stream",
     "text": [
      "Epoch 30 | Total Loss: 11.14684\n"
     ]
    },
    {
     "name": "stderr",
     "output_type": "stream",
     "text": [
      "  2%|▏         | 41/2000 [02:08<1:30:58,  2.79s/it]"
     ]
    },
    {
     "name": "stdout",
     "output_type": "stream",
     "text": [
      "Epoch 40 | Total Loss: 10.35957\n"
     ]
    },
    {
     "name": "stderr",
     "output_type": "stream",
     "text": [
      "  3%|▎         | 51/2000 [02:32<1:10:11,  2.16s/it]"
     ]
    },
    {
     "name": "stdout",
     "output_type": "stream",
     "text": [
      "Epoch 50 | Total Loss: 9.65296\n"
     ]
    },
    {
     "name": "stderr",
     "output_type": "stream",
     "text": [
      "  3%|▎         | 61/2000 [02:53<1:06:27,  2.06s/it]"
     ]
    },
    {
     "name": "stdout",
     "output_type": "stream",
     "text": [
      "Epoch 60 | Total Loss: 9.02690\n"
     ]
    },
    {
     "name": "stderr",
     "output_type": "stream",
     "text": [
      "  4%|▎         | 71/2000 [03:14<1:06:28,  2.07s/it]"
     ]
    },
    {
     "name": "stdout",
     "output_type": "stream",
     "text": [
      "Epoch 70 | Total Loss: 8.61294\n"
     ]
    },
    {
     "name": "stderr",
     "output_type": "stream",
     "text": [
      "  4%|▍         | 81/2000 [03:34<1:06:08,  2.07s/it]"
     ]
    },
    {
     "name": "stdout",
     "output_type": "stream",
     "text": [
      "Epoch 80 | Total Loss: 8.23048\n"
     ]
    },
    {
     "name": "stderr",
     "output_type": "stream",
     "text": [
      "  5%|▍         | 91/2000 [03:56<1:12:53,  2.29s/it]"
     ]
    },
    {
     "name": "stdout",
     "output_type": "stream",
     "text": [
      "Epoch 90 | Total Loss: 7.96812\n"
     ]
    },
    {
     "name": "stderr",
     "output_type": "stream",
     "text": [
      "  5%|▌         | 101/2000 [04:23<1:23:38,  2.64s/it]"
     ]
    },
    {
     "name": "stdout",
     "output_type": "stream",
     "text": [
      "Epoch 100 | Total Loss: 7.79256\n"
     ]
    },
    {
     "name": "stderr",
     "output_type": "stream",
     "text": [
      "  6%|▌         | 111/2000 [04:50<1:25:01,  2.70s/it]"
     ]
    },
    {
     "name": "stdout",
     "output_type": "stream",
     "text": [
      "Epoch 110 | Total Loss: 7.68718\n"
     ]
    },
    {
     "name": "stderr",
     "output_type": "stream",
     "text": [
      "  6%|▌         | 121/2000 [05:17<1:21:15,  2.59s/it]"
     ]
    },
    {
     "name": "stdout",
     "output_type": "stream",
     "text": [
      "Epoch 120 | Total Loss: 7.64903\n"
     ]
    },
    {
     "name": "stderr",
     "output_type": "stream",
     "text": [
      "  7%|▋         | 131/2000 [05:42<1:22:15,  2.64s/it]"
     ]
    },
    {
     "name": "stdout",
     "output_type": "stream",
     "text": [
      "Epoch 130 | Total Loss: 7.61392\n"
     ]
    },
    {
     "name": "stderr",
     "output_type": "stream",
     "text": [
      "  7%|▋         | 141/2000 [06:10<1:25:52,  2.77s/it]"
     ]
    },
    {
     "name": "stdout",
     "output_type": "stream",
     "text": [
      "Epoch 140 | Total Loss: 7.56058\n"
     ]
    },
    {
     "name": "stderr",
     "output_type": "stream",
     "text": [
      "  8%|▊         | 151/2000 [06:39<1:22:32,  2.68s/it]"
     ]
    },
    {
     "name": "stdout",
     "output_type": "stream",
     "text": [
      "Epoch 150 | Total Loss: 7.53307\n"
     ]
    },
    {
     "name": "stderr",
     "output_type": "stream",
     "text": [
      "  8%|▊         | 161/2000 [07:07<1:18:51,  2.57s/it]"
     ]
    },
    {
     "name": "stdout",
     "output_type": "stream",
     "text": [
      "Epoch 160 | Total Loss: 7.52744\n"
     ]
    },
    {
     "name": "stderr",
     "output_type": "stream",
     "text": [
      "  9%|▊         | 171/2000 [07:34<1:36:52,  3.18s/it]"
     ]
    },
    {
     "name": "stdout",
     "output_type": "stream",
     "text": [
      "Epoch 170 | Total Loss: 7.52712\n"
     ]
    },
    {
     "name": "stderr",
     "output_type": "stream",
     "text": [
      "  9%|▉         | 181/2000 [07:59<1:21:07,  2.68s/it]"
     ]
    },
    {
     "name": "stdout",
     "output_type": "stream",
     "text": [
      "Epoch 180 | Total Loss: 7.52575\n"
     ]
    },
    {
     "name": "stderr",
     "output_type": "stream",
     "text": [
      " 10%|▉         | 191/2000 [08:28<1:25:30,  2.84s/it]"
     ]
    },
    {
     "name": "stdout",
     "output_type": "stream",
     "text": [
      "Epoch 190 | Total Loss: 7.55027\n"
     ]
    },
    {
     "name": "stderr",
     "output_type": "stream",
     "text": [
      " 10%|█         | 201/2000 [08:55<1:20:31,  2.69s/it]"
     ]
    },
    {
     "name": "stdout",
     "output_type": "stream",
     "text": [
      "Epoch 200 | Total Loss: 7.50857\n"
     ]
    },
    {
     "name": "stderr",
     "output_type": "stream",
     "text": [
      " 11%|█         | 211/2000 [09:22<1:20:16,  2.69s/it]"
     ]
    },
    {
     "name": "stdout",
     "output_type": "stream",
     "text": [
      "Epoch 210 | Total Loss: 7.50723\n"
     ]
    },
    {
     "name": "stderr",
     "output_type": "stream",
     "text": [
      " 11%|█         | 221/2000 [09:51<1:26:30,  2.92s/it]"
     ]
    },
    {
     "name": "stdout",
     "output_type": "stream",
     "text": [
      "Epoch 220 | Total Loss: 7.49444\n"
     ]
    },
    {
     "name": "stderr",
     "output_type": "stream",
     "text": [
      " 12%|█▏        | 231/2000 [10:20<1:24:10,  2.85s/it]"
     ]
    },
    {
     "name": "stdout",
     "output_type": "stream",
     "text": [
      "Epoch 230 | Total Loss: 7.49265\n"
     ]
    },
    {
     "name": "stderr",
     "output_type": "stream",
     "text": [
      " 12%|█▏        | 241/2000 [10:45<1:06:01,  2.25s/it]"
     ]
    },
    {
     "name": "stdout",
     "output_type": "stream",
     "text": [
      "Epoch 240 | Total Loss: 7.47885\n"
     ]
    },
    {
     "name": "stderr",
     "output_type": "stream",
     "text": [
      " 13%|█▎        | 251/2000 [11:06<1:00:41,  2.08s/it]"
     ]
    },
    {
     "name": "stdout",
     "output_type": "stream",
     "text": [
      "Epoch 250 | Total Loss: 7.44572\n"
     ]
    },
    {
     "name": "stderr",
     "output_type": "stream",
     "text": [
      " 13%|█▎        | 261/2000 [11:35<1:30:52,  3.14s/it]"
     ]
    },
    {
     "name": "stdout",
     "output_type": "stream",
     "text": [
      "Epoch 260 | Total Loss: 7.42223\n"
     ]
    },
    {
     "name": "stderr",
     "output_type": "stream",
     "text": [
      " 14%|█▎        | 271/2000 [12:03<1:19:13,  2.75s/it]"
     ]
    },
    {
     "name": "stdout",
     "output_type": "stream",
     "text": [
      "Epoch 270 | Total Loss: 7.41785\n"
     ]
    },
    {
     "name": "stderr",
     "output_type": "stream",
     "text": [
      " 14%|█▍        | 281/2000 [12:30<1:15:53,  2.65s/it]"
     ]
    },
    {
     "name": "stdout",
     "output_type": "stream",
     "text": [
      "Epoch 280 | Total Loss: 7.40527\n"
     ]
    },
    {
     "name": "stderr",
     "output_type": "stream",
     "text": [
      " 15%|█▍        | 291/2000 [12:57<1:19:59,  2.81s/it]"
     ]
    },
    {
     "name": "stdout",
     "output_type": "stream",
     "text": [
      "Epoch 290 | Total Loss: 7.39587\n"
     ]
    },
    {
     "name": "stderr",
     "output_type": "stream",
     "text": [
      " 15%|█▌        | 301/2000 [13:24<1:16:09,  2.69s/it]"
     ]
    },
    {
     "name": "stdout",
     "output_type": "stream",
     "text": [
      "Epoch 300 | Total Loss: 7.37178\n"
     ]
    },
    {
     "name": "stderr",
     "output_type": "stream",
     "text": [
      " 16%|█▌        | 311/2000 [13:52<1:17:38,  2.76s/it]"
     ]
    },
    {
     "name": "stdout",
     "output_type": "stream",
     "text": [
      "Epoch 310 | Total Loss: 7.43188\n"
     ]
    },
    {
     "name": "stderr",
     "output_type": "stream",
     "text": [
      " 16%|█▌        | 321/2000 [14:20<1:21:07,  2.90s/it]"
     ]
    },
    {
     "name": "stdout",
     "output_type": "stream",
     "text": [
      "Epoch 320 | Total Loss: 7.38966\n"
     ]
    },
    {
     "name": "stderr",
     "output_type": "stream",
     "text": [
      " 17%|█▋        | 331/2000 [14:42<1:03:47,  2.29s/it]"
     ]
    },
    {
     "name": "stdout",
     "output_type": "stream",
     "text": [
      "Epoch 330 | Total Loss: 7.42737\n"
     ]
    },
    {
     "name": "stderr",
     "output_type": "stream",
     "text": [
      " 17%|█▋        | 341/2000 [15:09<1:13:20,  2.65s/it]"
     ]
    },
    {
     "name": "stdout",
     "output_type": "stream",
     "text": [
      "Epoch 340 | Total Loss: 7.36248\n"
     ]
    },
    {
     "name": "stderr",
     "output_type": "stream",
     "text": [
      " 18%|█▊        | 351/2000 [15:36<1:12:56,  2.65s/it]"
     ]
    },
    {
     "name": "stdout",
     "output_type": "stream",
     "text": [
      "Epoch 350 | Total Loss: 7.35897\n"
     ]
    },
    {
     "name": "stderr",
     "output_type": "stream",
     "text": [
      " 18%|█▊        | 361/2000 [16:04<1:17:05,  2.82s/it]"
     ]
    },
    {
     "name": "stdout",
     "output_type": "stream",
     "text": [
      "Epoch 360 | Total Loss: 7.39443\n"
     ]
    },
    {
     "name": "stderr",
     "output_type": "stream",
     "text": [
      " 19%|█▊        | 371/2000 [16:33<1:17:35,  2.86s/it]"
     ]
    },
    {
     "name": "stdout",
     "output_type": "stream",
     "text": [
      "Epoch 370 | Total Loss: 7.39375\n"
     ]
    },
    {
     "name": "stderr",
     "output_type": "stream",
     "text": [
      " 19%|█▉        | 381/2000 [16:55<1:03:56,  2.37s/it]"
     ]
    },
    {
     "name": "stdout",
     "output_type": "stream",
     "text": [
      "Epoch 380 | Total Loss: 7.38985\n"
     ]
    },
    {
     "name": "stderr",
     "output_type": "stream",
     "text": [
      " 20%|█▉        | 391/2000 [17:16<56:05,  2.09s/it]  "
     ]
    },
    {
     "name": "stdout",
     "output_type": "stream",
     "text": [
      "Epoch 390 | Total Loss: 7.37540\n"
     ]
    },
    {
     "name": "stderr",
     "output_type": "stream",
     "text": [
      " 20%|██        | 401/2000 [17:44<1:12:41,  2.73s/it]"
     ]
    },
    {
     "name": "stdout",
     "output_type": "stream",
     "text": [
      "Epoch 400 | Total Loss: 7.32969\n"
     ]
    },
    {
     "name": "stderr",
     "output_type": "stream",
     "text": [
      " 21%|██        | 411/2000 [18:12<1:11:24,  2.70s/it]"
     ]
    },
    {
     "name": "stdout",
     "output_type": "stream",
     "text": [
      "Epoch 410 | Total Loss: 7.35977\n"
     ]
    },
    {
     "name": "stderr",
     "output_type": "stream",
     "text": [
      " 21%|██        | 421/2000 [18:42<1:13:05,  2.78s/it]"
     ]
    },
    {
     "name": "stdout",
     "output_type": "stream",
     "text": [
      "Epoch 420 | Total Loss: 7.36717\n"
     ]
    },
    {
     "name": "stderr",
     "output_type": "stream",
     "text": [
      " 22%|██▏       | 431/2000 [19:10<1:13:27,  2.81s/it]"
     ]
    },
    {
     "name": "stdout",
     "output_type": "stream",
     "text": [
      "Epoch 430 | Total Loss: 7.35538\n"
     ]
    },
    {
     "name": "stderr",
     "output_type": "stream",
     "text": [
      " 22%|██▏       | 441/2000 [19:37<1:08:58,  2.65s/it]"
     ]
    },
    {
     "name": "stdout",
     "output_type": "stream",
     "text": [
      "Epoch 440 | Total Loss: 7.34525\n"
     ]
    },
    {
     "name": "stderr",
     "output_type": "stream",
     "text": [
      " 23%|██▎       | 451/2000 [20:03<1:08:55,  2.67s/it]"
     ]
    },
    {
     "name": "stdout",
     "output_type": "stream",
     "text": [
      "Epoch 450 | Total Loss: 7.33790\n"
     ]
    },
    {
     "name": "stderr",
     "output_type": "stream",
     "text": [
      " 23%|██▎       | 461/2000 [20:30<1:08:27,  2.67s/it]"
     ]
    },
    {
     "name": "stdout",
     "output_type": "stream",
     "text": [
      "Epoch 460 | Total Loss: 7.33609\n"
     ]
    },
    {
     "name": "stderr",
     "output_type": "stream",
     "text": [
      " 24%|██▎       | 471/2000 [20:59<1:16:33,  3.00s/it]"
     ]
    },
    {
     "name": "stdout",
     "output_type": "stream",
     "text": [
      "Epoch 470 | Total Loss: 7.35696\n"
     ]
    },
    {
     "name": "stderr",
     "output_type": "stream",
     "text": [
      " 24%|██▍       | 481/2000 [21:30<1:13:11,  2.89s/it]"
     ]
    },
    {
     "name": "stdout",
     "output_type": "stream",
     "text": [
      "Epoch 480 | Total Loss: 7.34482\n"
     ]
    },
    {
     "name": "stderr",
     "output_type": "stream",
     "text": [
      " 25%|██▍       | 491/2000 [21:57<1:08:28,  2.72s/it]"
     ]
    },
    {
     "name": "stdout",
     "output_type": "stream",
     "text": [
      "Epoch 490 | Total Loss: 7.32896\n"
     ]
    },
    {
     "name": "stderr",
     "output_type": "stream",
     "text": [
      " 25%|██▌       | 501/2000 [22:24<1:08:21,  2.74s/it]"
     ]
    },
    {
     "name": "stdout",
     "output_type": "stream",
     "text": [
      "Epoch 500 | Total Loss: 7.36399\n"
     ]
    },
    {
     "name": "stderr",
     "output_type": "stream",
     "text": [
      " 26%|██▌       | 511/2000 [22:52<1:07:52,  2.74s/it]"
     ]
    },
    {
     "name": "stdout",
     "output_type": "stream",
     "text": [
      "Epoch 510 | Total Loss: 7.38344\n"
     ]
    },
    {
     "name": "stderr",
     "output_type": "stream",
     "text": [
      " 26%|██▌       | 521/2000 [23:20<1:11:06,  2.88s/it]"
     ]
    },
    {
     "name": "stdout",
     "output_type": "stream",
     "text": [
      "Epoch 520 | Total Loss: 7.33584\n"
     ]
    },
    {
     "name": "stderr",
     "output_type": "stream",
     "text": [
      " 27%|██▋       | 531/2000 [23:46<57:26,  2.35s/it]  "
     ]
    },
    {
     "name": "stdout",
     "output_type": "stream",
     "text": [
      "Epoch 530 | Total Loss: 7.36687\n"
     ]
    },
    {
     "name": "stderr",
     "output_type": "stream",
     "text": [
      " 27%|██▋       | 541/2000 [24:10<1:02:44,  2.58s/it]"
     ]
    },
    {
     "name": "stdout",
     "output_type": "stream",
     "text": [
      "Epoch 540 | Total Loss: 7.38126\n"
     ]
    },
    {
     "name": "stderr",
     "output_type": "stream",
     "text": [
      " 28%|██▊       | 551/2000 [24:41<1:11:26,  2.96s/it]"
     ]
    },
    {
     "name": "stdout",
     "output_type": "stream",
     "text": [
      "Epoch 550 | Total Loss: 7.37925\n"
     ]
    },
    {
     "name": "stderr",
     "output_type": "stream",
     "text": [
      " 28%|██▊       | 561/2000 [25:07<1:04:26,  2.69s/it]"
     ]
    },
    {
     "name": "stdout",
     "output_type": "stream",
     "text": [
      "Epoch 560 | Total Loss: 7.35203\n"
     ]
    },
    {
     "name": "stderr",
     "output_type": "stream",
     "text": [
      " 29%|██▊       | 571/2000 [25:34<1:04:32,  2.71s/it]"
     ]
    },
    {
     "name": "stdout",
     "output_type": "stream",
     "text": [
      "Epoch 570 | Total Loss: 7.34884\n"
     ]
    },
    {
     "name": "stderr",
     "output_type": "stream",
     "text": [
      " 29%|██▉       | 581/2000 [26:01<1:04:35,  2.73s/it]"
     ]
    },
    {
     "name": "stdout",
     "output_type": "stream",
     "text": [
      "Epoch 580 | Total Loss: 7.36519\n"
     ]
    },
    {
     "name": "stderr",
     "output_type": "stream",
     "text": [
      " 30%|██▉       | 591/2000 [26:28<1:02:28,  2.66s/it]"
     ]
    },
    {
     "name": "stdout",
     "output_type": "stream",
     "text": [
      "Epoch 590 | Total Loss: 7.33474\n"
     ]
    },
    {
     "name": "stderr",
     "output_type": "stream",
     "text": [
      " 30%|███       | 601/2000 [26:57<1:06:43,  2.86s/it]"
     ]
    },
    {
     "name": "stdout",
     "output_type": "stream",
     "text": [
      "Epoch 600 | Total Loss: 7.37203\n"
     ]
    },
    {
     "name": "stderr",
     "output_type": "stream",
     "text": [
      " 31%|███       | 611/2000 [27:26<1:06:07,  2.86s/it]"
     ]
    },
    {
     "name": "stdout",
     "output_type": "stream",
     "text": [
      "Epoch 610 | Total Loss: 7.36321\n"
     ]
    },
    {
     "name": "stderr",
     "output_type": "stream",
     "text": [
      " 31%|███       | 621/2000 [27:54<1:03:12,  2.75s/it]"
     ]
    },
    {
     "name": "stdout",
     "output_type": "stream",
     "text": [
      "Epoch 620 | Total Loss: 7.38585\n"
     ]
    },
    {
     "name": "stderr",
     "output_type": "stream",
     "text": [
      " 32%|███▏      | 631/2000 [28:24<1:11:58,  3.15s/it]"
     ]
    },
    {
     "name": "stdout",
     "output_type": "stream",
     "text": [
      "Epoch 630 | Total Loss: 7.36760\n"
     ]
    },
    {
     "name": "stderr",
     "output_type": "stream",
     "text": [
      " 32%|███▏      | 641/2000 [28:55<1:05:25,  2.89s/it]"
     ]
    },
    {
     "name": "stdout",
     "output_type": "stream",
     "text": [
      "Epoch 640 | Total Loss: 7.36348\n"
     ]
    },
    {
     "name": "stderr",
     "output_type": "stream",
     "text": [
      " 33%|███▎      | 651/2000 [29:28<1:15:53,  3.38s/it]"
     ]
    },
    {
     "name": "stdout",
     "output_type": "stream",
     "text": [
      "Epoch 650 | Total Loss: 7.33682\n"
     ]
    },
    {
     "name": "stderr",
     "output_type": "stream",
     "text": [
      " 33%|███▎      | 661/2000 [29:57<1:02:57,  2.82s/it]"
     ]
    },
    {
     "name": "stdout",
     "output_type": "stream",
     "text": [
      "Epoch 660 | Total Loss: 7.30591\n"
     ]
    },
    {
     "name": "stderr",
     "output_type": "stream",
     "text": [
      " 34%|███▎      | 671/2000 [30:26<1:00:20,  2.72s/it]"
     ]
    },
    {
     "name": "stdout",
     "output_type": "stream",
     "text": [
      "Epoch 670 | Total Loss: 7.33314\n"
     ]
    },
    {
     "name": "stderr",
     "output_type": "stream",
     "text": [
      " 34%|███▍      | 681/2000 [30:56<1:09:41,  3.17s/it]"
     ]
    },
    {
     "name": "stdout",
     "output_type": "stream",
     "text": [
      "Epoch 680 | Total Loss: 7.36133\n"
     ]
    },
    {
     "name": "stderr",
     "output_type": "stream",
     "text": [
      " 35%|███▍      | 691/2000 [31:29<1:10:22,  3.23s/it]"
     ]
    },
    {
     "name": "stdout",
     "output_type": "stream",
     "text": [
      "Epoch 690 | Total Loss: 7.38299\n"
     ]
    },
    {
     "name": "stderr",
     "output_type": "stream",
     "text": [
      " 35%|███▌      | 701/2000 [31:58<1:01:05,  2.82s/it]"
     ]
    },
    {
     "name": "stdout",
     "output_type": "stream",
     "text": [
      "Epoch 700 | Total Loss: 7.37871\n"
     ]
    },
    {
     "name": "stderr",
     "output_type": "stream",
     "text": [
      " 36%|███▌      | 711/2000 [32:30<1:07:15,  3.13s/it]"
     ]
    },
    {
     "name": "stdout",
     "output_type": "stream",
     "text": [
      "Epoch 710 | Total Loss: 7.35242\n"
     ]
    },
    {
     "name": "stderr",
     "output_type": "stream",
     "text": [
      " 36%|███▌      | 721/2000 [33:01<1:02:25,  2.93s/it]"
     ]
    },
    {
     "name": "stdout",
     "output_type": "stream",
     "text": [
      "Epoch 720 | Total Loss: 7.35085\n"
     ]
    },
    {
     "name": "stderr",
     "output_type": "stream",
     "text": [
      " 37%|███▋      | 731/2000 [33:29<53:04,  2.51s/it]  "
     ]
    },
    {
     "name": "stdout",
     "output_type": "stream",
     "text": [
      "Epoch 730 | Total Loss: 7.34413\n"
     ]
    },
    {
     "name": "stderr",
     "output_type": "stream",
     "text": [
      " 37%|███▋      | 741/2000 [33:57<1:02:44,  2.99s/it]"
     ]
    },
    {
     "name": "stdout",
     "output_type": "stream",
     "text": [
      "Epoch 740 | Total Loss: 7.38478\n"
     ]
    },
    {
     "name": "stderr",
     "output_type": "stream",
     "text": [
      " 38%|███▊      | 751/2000 [34:25<1:01:38,  2.96s/it]"
     ]
    },
    {
     "name": "stdout",
     "output_type": "stream",
     "text": [
      "Epoch 750 | Total Loss: 7.32771\n"
     ]
    },
    {
     "name": "stderr",
     "output_type": "stream",
     "text": [
      " 38%|███▊      | 761/2000 [34:53<56:39,  2.74s/it]  "
     ]
    },
    {
     "name": "stdout",
     "output_type": "stream",
     "text": [
      "Epoch 760 | Total Loss: 7.37795\n"
     ]
    },
    {
     "name": "stderr",
     "output_type": "stream",
     "text": [
      " 39%|███▊      | 771/2000 [35:22<1:00:42,  2.96s/it]"
     ]
    },
    {
     "name": "stdout",
     "output_type": "stream",
     "text": [
      "Epoch 770 | Total Loss: 7.36277\n"
     ]
    },
    {
     "name": "stderr",
     "output_type": "stream",
     "text": [
      " 39%|███▉      | 781/2000 [35:52<1:01:31,  3.03s/it]"
     ]
    },
    {
     "name": "stdout",
     "output_type": "stream",
     "text": [
      "Epoch 780 | Total Loss: 7.34205\n"
     ]
    },
    {
     "name": "stderr",
     "output_type": "stream",
     "text": [
      " 40%|███▉      | 791/2000 [36:21<56:59,  2.83s/it]  "
     ]
    },
    {
     "name": "stdout",
     "output_type": "stream",
     "text": [
      "Epoch 790 | Total Loss: 7.30336\n"
     ]
    },
    {
     "name": "stderr",
     "output_type": "stream",
     "text": [
      " 40%|████      | 801/2000 [36:52<1:01:08,  3.06s/it]"
     ]
    },
    {
     "name": "stdout",
     "output_type": "stream",
     "text": [
      "Epoch 800 | Total Loss: 7.35820\n"
     ]
    },
    {
     "name": "stderr",
     "output_type": "stream",
     "text": [
      " 41%|████      | 811/2000 [37:22<1:00:39,  3.06s/it]"
     ]
    },
    {
     "name": "stdout",
     "output_type": "stream",
     "text": [
      "Epoch 810 | Total Loss: 7.34978\n"
     ]
    },
    {
     "name": "stderr",
     "output_type": "stream",
     "text": [
      " 41%|████      | 821/2000 [37:55<1:01:04,  3.11s/it]"
     ]
    },
    {
     "name": "stdout",
     "output_type": "stream",
     "text": [
      "Epoch 820 | Total Loss: 7.35399\n"
     ]
    },
    {
     "name": "stderr",
     "output_type": "stream",
     "text": [
      " 42%|████▏     | 831/2000 [38:26<1:00:03,  3.08s/it]"
     ]
    },
    {
     "name": "stdout",
     "output_type": "stream",
     "text": [
      "Epoch 830 | Total Loss: 7.38102\n"
     ]
    },
    {
     "name": "stderr",
     "output_type": "stream",
     "text": [
      " 42%|████▏     | 841/2000 [38:58<1:03:00,  3.26s/it]"
     ]
    },
    {
     "name": "stdout",
     "output_type": "stream",
     "text": [
      "Epoch 840 | Total Loss: 7.34181\n"
     ]
    },
    {
     "name": "stderr",
     "output_type": "stream",
     "text": [
      " 43%|████▎     | 851/2000 [39:26<51:35,  2.69s/it]  "
     ]
    },
    {
     "name": "stdout",
     "output_type": "stream",
     "text": [
      "Epoch 850 | Total Loss: 7.37016\n"
     ]
    },
    {
     "name": "stderr",
     "output_type": "stream",
     "text": [
      " 43%|████▎     | 861/2000 [39:53<51:16,  2.70s/it]"
     ]
    },
    {
     "name": "stdout",
     "output_type": "stream",
     "text": [
      "Epoch 860 | Total Loss: 7.32407\n"
     ]
    },
    {
     "name": "stderr",
     "output_type": "stream",
     "text": [
      " 44%|████▎     | 871/2000 [40:20<50:35,  2.69s/it]"
     ]
    },
    {
     "name": "stdout",
     "output_type": "stream",
     "text": [
      "Epoch 870 | Total Loss: 7.36890\n"
     ]
    },
    {
     "name": "stderr",
     "output_type": "stream",
     "text": [
      " 44%|████▍     | 881/2000 [40:47<50:11,  2.69s/it]"
     ]
    },
    {
     "name": "stdout",
     "output_type": "stream",
     "text": [
      "Epoch 880 | Total Loss: 7.33229\n"
     ]
    },
    {
     "name": "stderr",
     "output_type": "stream",
     "text": [
      " 45%|████▍     | 891/2000 [41:15<52:12,  2.82s/it]"
     ]
    },
    {
     "name": "stdout",
     "output_type": "stream",
     "text": [
      "Epoch 890 | Total Loss: 7.36232\n"
     ]
    },
    {
     "name": "stderr",
     "output_type": "stream",
     "text": [
      " 45%|████▌     | 901/2000 [41:40<39:53,  2.18s/it]"
     ]
    },
    {
     "name": "stdout",
     "output_type": "stream",
     "text": [
      "Epoch 900 | Total Loss: 7.30684\n"
     ]
    },
    {
     "name": "stderr",
     "output_type": "stream",
     "text": [
      " 46%|████▌     | 911/2000 [42:01<40:34,  2.24s/it]"
     ]
    },
    {
     "name": "stdout",
     "output_type": "stream",
     "text": [
      "Epoch 910 | Total Loss: 7.30680\n"
     ]
    },
    {
     "name": "stderr",
     "output_type": "stream",
     "text": [
      " 46%|████▌     | 921/2000 [42:24<38:26,  2.14s/it]"
     ]
    },
    {
     "name": "stdout",
     "output_type": "stream",
     "text": [
      "Epoch 920 | Total Loss: 7.32272\n"
     ]
    },
    {
     "name": "stderr",
     "output_type": "stream",
     "text": [
      " 47%|████▋     | 931/2000 [42:45<36:41,  2.06s/it]"
     ]
    },
    {
     "name": "stdout",
     "output_type": "stream",
     "text": [
      "Epoch 930 | Total Loss: 7.33665\n"
     ]
    },
    {
     "name": "stderr",
     "output_type": "stream",
     "text": [
      " 47%|████▋     | 941/2000 [43:05<36:26,  2.06s/it]"
     ]
    },
    {
     "name": "stdout",
     "output_type": "stream",
     "text": [
      "Epoch 940 | Total Loss: 7.37814\n"
     ]
    },
    {
     "name": "stderr",
     "output_type": "stream",
     "text": [
      " 48%|████▊     | 951/2000 [43:28<42:01,  2.40s/it]"
     ]
    },
    {
     "name": "stdout",
     "output_type": "stream",
     "text": [
      "Epoch 950 | Total Loss: 7.33093\n"
     ]
    },
    {
     "name": "stderr",
     "output_type": "stream",
     "text": [
      " 48%|████▊     | 961/2000 [43:54<45:51,  2.65s/it]"
     ]
    },
    {
     "name": "stdout",
     "output_type": "stream",
     "text": [
      "Epoch 960 | Total Loss: 7.31534\n"
     ]
    },
    {
     "name": "stderr",
     "output_type": "stream",
     "text": [
      " 49%|████▊     | 971/2000 [44:21<45:35,  2.66s/it]"
     ]
    },
    {
     "name": "stdout",
     "output_type": "stream",
     "text": [
      "Epoch 970 | Total Loss: 7.37713\n"
     ]
    },
    {
     "name": "stderr",
     "output_type": "stream",
     "text": [
      " 49%|████▉     | 981/2000 [44:48<47:49,  2.82s/it]"
     ]
    },
    {
     "name": "stdout",
     "output_type": "stream",
     "text": [
      "Epoch 980 | Total Loss: 7.36643\n"
     ]
    },
    {
     "name": "stderr",
     "output_type": "stream",
     "text": [
      " 50%|████▉     | 991/2000 [45:10<35:10,  2.09s/it]"
     ]
    },
    {
     "name": "stdout",
     "output_type": "stream",
     "text": [
      "Epoch 990 | Total Loss: 7.33003\n"
     ]
    },
    {
     "name": "stderr",
     "output_type": "stream",
     "text": [
      " 50%|█████     | 1001/2000 [45:35<38:08,  2.29s/it]"
     ]
    },
    {
     "name": "stdout",
     "output_type": "stream",
     "text": [
      "Epoch 1000 | Total Loss: 7.32357\n"
     ]
    },
    {
     "name": "stderr",
     "output_type": "stream",
     "text": [
      " 51%|█████     | 1011/2000 [45:56<34:21,  2.08s/it]"
     ]
    },
    {
     "name": "stdout",
     "output_type": "stream",
     "text": [
      "Epoch 1010 | Total Loss: 7.35876\n"
     ]
    },
    {
     "name": "stderr",
     "output_type": "stream",
     "text": [
      " 51%|█████     | 1021/2000 [46:21<35:24,  2.17s/it]"
     ]
    },
    {
     "name": "stdout",
     "output_type": "stream",
     "text": [
      "Epoch 1020 | Total Loss: 7.33868\n"
     ]
    },
    {
     "name": "stderr",
     "output_type": "stream",
     "text": [
      " 52%|█████▏    | 1031/2000 [46:41<33:26,  2.07s/it]"
     ]
    },
    {
     "name": "stdout",
     "output_type": "stream",
     "text": [
      "Epoch 1030 | Total Loss: 7.31748\n"
     ]
    },
    {
     "name": "stderr",
     "output_type": "stream",
     "text": [
      " 52%|█████▏    | 1041/2000 [47:03<37:19,  2.33s/it]"
     ]
    },
    {
     "name": "stdout",
     "output_type": "stream",
     "text": [
      "Epoch 1040 | Total Loss: 7.34258\n"
     ]
    },
    {
     "name": "stderr",
     "output_type": "stream",
     "text": [
      " 53%|█████▎    | 1051/2000 [47:32<44:02,  2.78s/it]"
     ]
    },
    {
     "name": "stdout",
     "output_type": "stream",
     "text": [
      "Epoch 1050 | Total Loss: 7.34583\n"
     ]
    },
    {
     "name": "stderr",
     "output_type": "stream",
     "text": [
      " 53%|█████▎    | 1061/2000 [47:59<40:14,  2.57s/it]"
     ]
    },
    {
     "name": "stdout",
     "output_type": "stream",
     "text": [
      "Epoch 1060 | Total Loss: 7.36436\n"
     ]
    },
    {
     "name": "stderr",
     "output_type": "stream",
     "text": [
      " 54%|█████▎    | 1071/2000 [48:20<32:32,  2.10s/it]"
     ]
    },
    {
     "name": "stdout",
     "output_type": "stream",
     "text": [
      "Epoch 1070 | Total Loss: 7.34805\n"
     ]
    },
    {
     "name": "stderr",
     "output_type": "stream",
     "text": [
      " 54%|█████▍    | 1081/2000 [48:45<40:37,  2.65s/it]"
     ]
    },
    {
     "name": "stdout",
     "output_type": "stream",
     "text": [
      "Epoch 1080 | Total Loss: 7.34932\n"
     ]
    },
    {
     "name": "stderr",
     "output_type": "stream",
     "text": [
      " 55%|█████▍    | 1091/2000 [49:13<42:18,  2.79s/it]"
     ]
    },
    {
     "name": "stdout",
     "output_type": "stream",
     "text": [
      "Epoch 1090 | Total Loss: 7.39789\n"
     ]
    },
    {
     "name": "stderr",
     "output_type": "stream",
     "text": [
      " 55%|█████▌    | 1101/2000 [49:39<38:15,  2.55s/it]"
     ]
    },
    {
     "name": "stdout",
     "output_type": "stream",
     "text": [
      "Epoch 1100 | Total Loss: 7.34640\n"
     ]
    },
    {
     "name": "stderr",
     "output_type": "stream",
     "text": [
      " 56%|█████▌    | 1111/2000 [50:05<33:00,  2.23s/it]"
     ]
    },
    {
     "name": "stdout",
     "output_type": "stream",
     "text": [
      "Epoch 1110 | Total Loss: 7.34307\n"
     ]
    },
    {
     "name": "stderr",
     "output_type": "stream",
     "text": [
      " 56%|█████▌    | 1121/2000 [50:26<30:47,  2.10s/it]"
     ]
    },
    {
     "name": "stdout",
     "output_type": "stream",
     "text": [
      "Epoch 1120 | Total Loss: 7.30807\n"
     ]
    },
    {
     "name": "stderr",
     "output_type": "stream",
     "text": [
      " 57%|█████▋    | 1131/2000 [50:47<30:13,  2.09s/it]"
     ]
    },
    {
     "name": "stdout",
     "output_type": "stream",
     "text": [
      "Epoch 1130 | Total Loss: 7.32293\n"
     ]
    },
    {
     "name": "stderr",
     "output_type": "stream",
     "text": [
      " 57%|█████▋    | 1141/2000 [51:08<29:52,  2.09s/it]"
     ]
    },
    {
     "name": "stdout",
     "output_type": "stream",
     "text": [
      "Epoch 1140 | Total Loss: 7.33005\n"
     ]
    },
    {
     "name": "stderr",
     "output_type": "stream",
     "text": [
      " 58%|█████▊    | 1151/2000 [51:29<31:05,  2.20s/it]"
     ]
    },
    {
     "name": "stdout",
     "output_type": "stream",
     "text": [
      "Epoch 1150 | Total Loss: 7.32097\n"
     ]
    },
    {
     "name": "stderr",
     "output_type": "stream",
     "text": [
      " 58%|█████▊    | 1161/2000 [51:51<31:58,  2.29s/it]"
     ]
    },
    {
     "name": "stdout",
     "output_type": "stream",
     "text": [
      "Epoch 1160 | Total Loss: 7.34311\n"
     ]
    },
    {
     "name": "stderr",
     "output_type": "stream",
     "text": [
      " 59%|█████▊    | 1171/2000 [52:18<37:27,  2.71s/it]"
     ]
    },
    {
     "name": "stdout",
     "output_type": "stream",
     "text": [
      "Epoch 1170 | Total Loss: 7.33280\n"
     ]
    },
    {
     "name": "stderr",
     "output_type": "stream",
     "text": [
      " 59%|█████▉    | 1181/2000 [52:47<39:02,  2.86s/it]"
     ]
    },
    {
     "name": "stdout",
     "output_type": "stream",
     "text": [
      "Epoch 1180 | Total Loss: 7.34667\n"
     ]
    },
    {
     "name": "stderr",
     "output_type": "stream",
     "text": [
      " 60%|█████▉    | 1191/2000 [53:16<39:34,  2.94s/it]"
     ]
    },
    {
     "name": "stdout",
     "output_type": "stream",
     "text": [
      "Epoch 1190 | Total Loss: 7.34220\n"
     ]
    },
    {
     "name": "stderr",
     "output_type": "stream",
     "text": [
      " 60%|██████    | 1201/2000 [53:43<36:15,  2.72s/it]"
     ]
    },
    {
     "name": "stdout",
     "output_type": "stream",
     "text": [
      "Epoch 1200 | Total Loss: 7.38121\n"
     ]
    },
    {
     "name": "stderr",
     "output_type": "stream",
     "text": [
      " 61%|██████    | 1211/2000 [54:11<35:54,  2.73s/it]"
     ]
    },
    {
     "name": "stdout",
     "output_type": "stream",
     "text": [
      "Epoch 1210 | Total Loss: 7.36066\n"
     ]
    },
    {
     "name": "stderr",
     "output_type": "stream",
     "text": [
      " 61%|██████    | 1221/2000 [54:38<35:00,  2.70s/it]"
     ]
    },
    {
     "name": "stdout",
     "output_type": "stream",
     "text": [
      "Epoch 1220 | Total Loss: 7.35273\n"
     ]
    },
    {
     "name": "stderr",
     "output_type": "stream",
     "text": [
      " 62%|██████▏   | 1231/2000 [55:04<30:55,  2.41s/it]"
     ]
    },
    {
     "name": "stdout",
     "output_type": "stream",
     "text": [
      "Epoch 1230 | Total Loss: 7.34299\n"
     ]
    },
    {
     "name": "stderr",
     "output_type": "stream",
     "text": [
      " 62%|██████▏   | 1241/2000 [55:25<26:09,  2.07s/it]"
     ]
    },
    {
     "name": "stdout",
     "output_type": "stream",
     "text": [
      "Epoch 1240 | Total Loss: 7.34620\n"
     ]
    },
    {
     "name": "stderr",
     "output_type": "stream",
     "text": [
      " 63%|██████▎   | 1251/2000 [55:52<35:51,  2.87s/it]"
     ]
    },
    {
     "name": "stdout",
     "output_type": "stream",
     "text": [
      "Epoch 1250 | Total Loss: 7.33677\n"
     ]
    },
    {
     "name": "stderr",
     "output_type": "stream",
     "text": [
      " 63%|██████▎   | 1261/2000 [56:21<35:54,  2.92s/it]"
     ]
    },
    {
     "name": "stdout",
     "output_type": "stream",
     "text": [
      "Epoch 1260 | Total Loss: 7.33041\n"
     ]
    },
    {
     "name": "stderr",
     "output_type": "stream",
     "text": [
      " 64%|██████▎   | 1271/2000 [56:49<33:15,  2.74s/it]"
     ]
    },
    {
     "name": "stdout",
     "output_type": "stream",
     "text": [
      "Epoch 1270 | Total Loss: 7.35238\n"
     ]
    },
    {
     "name": "stderr",
     "output_type": "stream",
     "text": [
      " 64%|██████▍   | 1281/2000 [57:21<37:56,  3.17s/it]"
     ]
    },
    {
     "name": "stdout",
     "output_type": "stream",
     "text": [
      "Epoch 1280 | Total Loss: 7.34075\n"
     ]
    },
    {
     "name": "stderr",
     "output_type": "stream",
     "text": [
      " 65%|██████▍   | 1291/2000 [57:48<31:40,  2.68s/it]"
     ]
    },
    {
     "name": "stdout",
     "output_type": "stream",
     "text": [
      "Epoch 1290 | Total Loss: 7.35618\n"
     ]
    },
    {
     "name": "stderr",
     "output_type": "stream",
     "text": [
      " 65%|██████▌   | 1301/2000 [58:15<31:11,  2.68s/it]"
     ]
    },
    {
     "name": "stdout",
     "output_type": "stream",
     "text": [
      "Epoch 1300 | Total Loss: 7.36604\n"
     ]
    },
    {
     "name": "stderr",
     "output_type": "stream",
     "text": [
      " 66%|██████▌   | 1311/2000 [58:40<26:30,  2.31s/it]"
     ]
    },
    {
     "name": "stdout",
     "output_type": "stream",
     "text": [
      "Epoch 1310 | Total Loss: 7.34773\n"
     ]
    },
    {
     "name": "stderr",
     "output_type": "stream",
     "text": [
      " 66%|██████▌   | 1321/2000 [59:01<23:17,  2.06s/it]"
     ]
    },
    {
     "name": "stdout",
     "output_type": "stream",
     "text": [
      "Epoch 1320 | Total Loss: 7.36664\n"
     ]
    },
    {
     "name": "stderr",
     "output_type": "stream",
     "text": [
      " 67%|██████▋   | 1331/2000 [59:27<29:22,  2.63s/it]"
     ]
    },
    {
     "name": "stdout",
     "output_type": "stream",
     "text": [
      "Epoch 1330 | Total Loss: 7.37627\n"
     ]
    },
    {
     "name": "stderr",
     "output_type": "stream",
     "text": [
      " 67%|██████▋   | 1341/2000 [59:57<34:41,  3.16s/it]"
     ]
    },
    {
     "name": "stdout",
     "output_type": "stream",
     "text": [
      "Epoch 1340 | Total Loss: 7.34047\n"
     ]
    },
    {
     "name": "stderr",
     "output_type": "stream",
     "text": [
      " 68%|██████▊   | 1351/2000 [1:00:29<33:29,  3.10s/it]"
     ]
    },
    {
     "name": "stdout",
     "output_type": "stream",
     "text": [
      "Epoch 1350 | Total Loss: 7.32493\n"
     ]
    },
    {
     "name": "stderr",
     "output_type": "stream",
     "text": [
      " 68%|██████▊   | 1361/2000 [1:00:56<28:28,  2.67s/it]"
     ]
    },
    {
     "name": "stdout",
     "output_type": "stream",
     "text": [
      "Epoch 1360 | Total Loss: 7.34250\n"
     ]
    },
    {
     "name": "stderr",
     "output_type": "stream",
     "text": [
      " 69%|██████▊   | 1371/2000 [1:01:23<28:15,  2.70s/it]"
     ]
    },
    {
     "name": "stdout",
     "output_type": "stream",
     "text": [
      "Epoch 1370 | Total Loss: 7.35537\n"
     ]
    },
    {
     "name": "stderr",
     "output_type": "stream",
     "text": [
      " 69%|██████▉   | 1381/2000 [1:01:52<30:19,  2.94s/it]"
     ]
    },
    {
     "name": "stdout",
     "output_type": "stream",
     "text": [
      "Epoch 1380 | Total Loss: 7.37000\n"
     ]
    },
    {
     "name": "stderr",
     "output_type": "stream",
     "text": [
      " 70%|██████▉   | 1391/2000 [1:02:22<29:52,  2.94s/it]"
     ]
    },
    {
     "name": "stdout",
     "output_type": "stream",
     "text": [
      "Epoch 1390 | Total Loss: 7.35715\n"
     ]
    },
    {
     "name": "stderr",
     "output_type": "stream",
     "text": [
      " 70%|███████   | 1401/2000 [1:02:50<28:00,  2.81s/it]"
     ]
    },
    {
     "name": "stdout",
     "output_type": "stream",
     "text": [
      "Epoch 1400 | Total Loss: 7.37129\n"
     ]
    },
    {
     "name": "stderr",
     "output_type": "stream",
     "text": [
      " 71%|███████   | 1411/2000 [1:03:19<30:22,  3.09s/it]"
     ]
    },
    {
     "name": "stdout",
     "output_type": "stream",
     "text": [
      "Epoch 1410 | Total Loss: 7.35312\n"
     ]
    },
    {
     "name": "stderr",
     "output_type": "stream",
     "text": [
      " 71%|███████   | 1421/2000 [1:03:49<27:29,  2.85s/it]"
     ]
    },
    {
     "name": "stdout",
     "output_type": "stream",
     "text": [
      "Epoch 1420 | Total Loss: 7.34228\n"
     ]
    },
    {
     "name": "stderr",
     "output_type": "stream",
     "text": [
      " 72%|███████▏  | 1431/2000 [1:04:18<27:32,  2.90s/it]"
     ]
    },
    {
     "name": "stdout",
     "output_type": "stream",
     "text": [
      "Epoch 1430 | Total Loss: 7.37413\n"
     ]
    },
    {
     "name": "stderr",
     "output_type": "stream",
     "text": [
      " 72%|███████▏  | 1441/2000 [1:04:46<26:17,  2.82s/it]"
     ]
    },
    {
     "name": "stdout",
     "output_type": "stream",
     "text": [
      "Epoch 1440 | Total Loss: 7.33199\n"
     ]
    },
    {
     "name": "stderr",
     "output_type": "stream",
     "text": [
      " 73%|███████▎  | 1451/2000 [1:05:17<26:33,  2.90s/it]"
     ]
    },
    {
     "name": "stdout",
     "output_type": "stream",
     "text": [
      "Epoch 1450 | Total Loss: 7.35015\n"
     ]
    },
    {
     "name": "stderr",
     "output_type": "stream",
     "text": [
      " 73%|███████▎  | 1461/2000 [1:05:47<27:55,  3.11s/it]"
     ]
    },
    {
     "name": "stdout",
     "output_type": "stream",
     "text": [
      "Epoch 1460 | Total Loss: 7.36348\n"
     ]
    },
    {
     "name": "stderr",
     "output_type": "stream",
     "text": [
      " 74%|███████▎  | 1471/2000 [1:06:20<28:50,  3.27s/it]"
     ]
    },
    {
     "name": "stdout",
     "output_type": "stream",
     "text": [
      "Epoch 1470 | Total Loss: 7.35732\n"
     ]
    },
    {
     "name": "stderr",
     "output_type": "stream",
     "text": [
      " 74%|███████▍  | 1481/2000 [1:06:49<24:07,  2.79s/it]"
     ]
    },
    {
     "name": "stdout",
     "output_type": "stream",
     "text": [
      "Epoch 1480 | Total Loss: 7.37135\n"
     ]
    },
    {
     "name": "stderr",
     "output_type": "stream",
     "text": [
      " 75%|███████▍  | 1491/2000 [1:07:16<22:22,  2.64s/it]"
     ]
    },
    {
     "name": "stdout",
     "output_type": "stream",
     "text": [
      "Epoch 1490 | Total Loss: 7.36309\n"
     ]
    },
    {
     "name": "stderr",
     "output_type": "stream",
     "text": [
      " 75%|███████▌  | 1501/2000 [1:07:43<23:03,  2.77s/it]"
     ]
    },
    {
     "name": "stdout",
     "output_type": "stream",
     "text": [
      "Epoch 1500 | Total Loss: 7.33954\n"
     ]
    },
    {
     "name": "stderr",
     "output_type": "stream",
     "text": [
      " 76%|███████▌  | 1511/2000 [1:08:12<24:37,  3.02s/it]"
     ]
    },
    {
     "name": "stdout",
     "output_type": "stream",
     "text": [
      "Epoch 1510 | Total Loss: 7.32747\n"
     ]
    },
    {
     "name": "stderr",
     "output_type": "stream",
     "text": [
      " 76%|███████▌  | 1521/2000 [1:08:40<21:32,  2.70s/it]"
     ]
    },
    {
     "name": "stdout",
     "output_type": "stream",
     "text": [
      "Epoch 1520 | Total Loss: 7.31897\n"
     ]
    },
    {
     "name": "stderr",
     "output_type": "stream",
     "text": [
      " 77%|███████▋  | 1531/2000 [1:09:08<20:46,  2.66s/it]"
     ]
    },
    {
     "name": "stdout",
     "output_type": "stream",
     "text": [
      "Epoch 1530 | Total Loss: 7.34359\n"
     ]
    },
    {
     "name": "stderr",
     "output_type": "stream",
     "text": [
      " 77%|███████▋  | 1541/2000 [1:09:35<20:55,  2.73s/it]"
     ]
    },
    {
     "name": "stdout",
     "output_type": "stream",
     "text": [
      "Epoch 1540 | Total Loss: 7.34499\n"
     ]
    },
    {
     "name": "stderr",
     "output_type": "stream",
     "text": [
      " 78%|███████▊  | 1551/2000 [1:10:06<22:02,  2.95s/it]"
     ]
    },
    {
     "name": "stdout",
     "output_type": "stream",
     "text": [
      "Epoch 1550 | Total Loss: 7.35705\n"
     ]
    },
    {
     "name": "stderr",
     "output_type": "stream",
     "text": [
      " 78%|███████▊  | 1561/2000 [1:10:37<20:50,  2.85s/it]"
     ]
    },
    {
     "name": "stdout",
     "output_type": "stream",
     "text": [
      "Epoch 1560 | Total Loss: 7.35704\n"
     ]
    },
    {
     "name": "stderr",
     "output_type": "stream",
     "text": [
      " 79%|███████▊  | 1571/2000 [1:11:04<19:19,  2.70s/it]"
     ]
    },
    {
     "name": "stdout",
     "output_type": "stream",
     "text": [
      "Epoch 1570 | Total Loss: 7.33344\n"
     ]
    },
    {
     "name": "stderr",
     "output_type": "stream",
     "text": [
      " 79%|███████▉  | 1581/2000 [1:11:33<19:48,  2.84s/it]"
     ]
    },
    {
     "name": "stdout",
     "output_type": "stream",
     "text": [
      "Epoch 1580 | Total Loss: 7.31333\n"
     ]
    },
    {
     "name": "stderr",
     "output_type": "stream",
     "text": [
      " 80%|███████▉  | 1591/2000 [1:12:01<19:20,  2.84s/it]"
     ]
    },
    {
     "name": "stdout",
     "output_type": "stream",
     "text": [
      "Epoch 1590 | Total Loss: 7.34140\n"
     ]
    },
    {
     "name": "stderr",
     "output_type": "stream",
     "text": [
      " 80%|████████  | 1601/2000 [1:12:29<17:25,  2.62s/it]"
     ]
    },
    {
     "name": "stdout",
     "output_type": "stream",
     "text": [
      "Epoch 1600 | Total Loss: 7.35701\n"
     ]
    },
    {
     "name": "stderr",
     "output_type": "stream",
     "text": [
      " 81%|████████  | 1611/2000 [1:12:54<14:44,  2.27s/it]"
     ]
    },
    {
     "name": "stdout",
     "output_type": "stream",
     "text": [
      "Epoch 1610 | Total Loss: 7.35858\n"
     ]
    },
    {
     "name": "stderr",
     "output_type": "stream",
     "text": [
      " 81%|████████  | 1621/2000 [1:13:21<16:48,  2.66s/it]"
     ]
    },
    {
     "name": "stdout",
     "output_type": "stream",
     "text": [
      "Epoch 1620 | Total Loss: 7.36779\n"
     ]
    },
    {
     "name": "stderr",
     "output_type": "stream",
     "text": [
      " 82%|████████▏ | 1631/2000 [1:13:45<13:13,  2.15s/it]"
     ]
    },
    {
     "name": "stdout",
     "output_type": "stream",
     "text": [
      "Epoch 1630 | Total Loss: 7.34681\n"
     ]
    },
    {
     "name": "stderr",
     "output_type": "stream",
     "text": [
      " 82%|████████▏ | 1641/2000 [1:14:07<13:02,  2.18s/it]"
     ]
    },
    {
     "name": "stdout",
     "output_type": "stream",
     "text": [
      "Epoch 1640 | Total Loss: 7.34113\n"
     ]
    },
    {
     "name": "stderr",
     "output_type": "stream",
     "text": [
      " 83%|████████▎ | 1651/2000 [1:14:31<12:43,  2.19s/it]"
     ]
    },
    {
     "name": "stdout",
     "output_type": "stream",
     "text": [
      "Epoch 1650 | Total Loss: 7.35852\n"
     ]
    },
    {
     "name": "stderr",
     "output_type": "stream",
     "text": [
      " 83%|████████▎ | 1661/2000 [1:14:54<14:29,  2.57s/it]"
     ]
    },
    {
     "name": "stdout",
     "output_type": "stream",
     "text": [
      "Epoch 1660 | Total Loss: 7.33349\n"
     ]
    },
    {
     "name": "stderr",
     "output_type": "stream",
     "text": [
      " 84%|████████▎ | 1671/2000 [1:15:21<14:32,  2.65s/it]"
     ]
    },
    {
     "name": "stdout",
     "output_type": "stream",
     "text": [
      "Epoch 1670 | Total Loss: 7.35206\n"
     ]
    },
    {
     "name": "stderr",
     "output_type": "stream",
     "text": [
      " 84%|████████▍ | 1681/2000 [1:15:48<14:20,  2.70s/it]"
     ]
    },
    {
     "name": "stdout",
     "output_type": "stream",
     "text": [
      "Epoch 1680 | Total Loss: 7.34448\n"
     ]
    },
    {
     "name": "stderr",
     "output_type": "stream",
     "text": [
      " 85%|████████▍ | 1691/2000 [1:16:15<13:21,  2.59s/it]"
     ]
    },
    {
     "name": "stdout",
     "output_type": "stream",
     "text": [
      "Epoch 1690 | Total Loss: 7.35668\n"
     ]
    },
    {
     "name": "stderr",
     "output_type": "stream",
     "text": [
      " 85%|████████▌ | 1701/2000 [1:16:41<13:34,  2.72s/it]"
     ]
    },
    {
     "name": "stdout",
     "output_type": "stream",
     "text": [
      "Epoch 1700 | Total Loss: 7.34354\n"
     ]
    },
    {
     "name": "stderr",
     "output_type": "stream",
     "text": [
      " 86%|████████▌ | 1711/2000 [1:17:07<12:46,  2.65s/it]"
     ]
    },
    {
     "name": "stdout",
     "output_type": "stream",
     "text": [
      "Epoch 1710 | Total Loss: 7.31043\n"
     ]
    },
    {
     "name": "stderr",
     "output_type": "stream",
     "text": [
      " 86%|████████▌ | 1721/2000 [1:17:40<16:49,  3.62s/it]"
     ]
    },
    {
     "name": "stdout",
     "output_type": "stream",
     "text": [
      "Epoch 1720 | Total Loss: 7.33066\n"
     ]
    },
    {
     "name": "stderr",
     "output_type": "stream",
     "text": [
      " 87%|████████▋ | 1731/2000 [1:18:09<12:11,  2.72s/it]"
     ]
    },
    {
     "name": "stdout",
     "output_type": "stream",
     "text": [
      "Epoch 1730 | Total Loss: 7.33561\n"
     ]
    },
    {
     "name": "stderr",
     "output_type": "stream",
     "text": [
      " 87%|████████▋ | 1741/2000 [1:18:36<11:40,  2.70s/it]"
     ]
    },
    {
     "name": "stdout",
     "output_type": "stream",
     "text": [
      "Epoch 1740 | Total Loss: 7.35648\n"
     ]
    },
    {
     "name": "stderr",
     "output_type": "stream",
     "text": [
      " 88%|████████▊ | 1751/2000 [1:18:58<08:47,  2.12s/it]"
     ]
    },
    {
     "name": "stdout",
     "output_type": "stream",
     "text": [
      "Epoch 1750 | Total Loss: 7.34850\n"
     ]
    },
    {
     "name": "stderr",
     "output_type": "stream",
     "text": [
      " 88%|████████▊ | 1761/2000 [1:19:19<08:18,  2.09s/it]"
     ]
    },
    {
     "name": "stdout",
     "output_type": "stream",
     "text": [
      "Epoch 1760 | Total Loss: 7.34930\n"
     ]
    },
    {
     "name": "stderr",
     "output_type": "stream",
     "text": [
      " 89%|████████▊ | 1771/2000 [1:19:51<12:14,  3.21s/it]"
     ]
    },
    {
     "name": "stdout",
     "output_type": "stream",
     "text": [
      "Epoch 1770 | Total Loss: 7.33686\n"
     ]
    },
    {
     "name": "stderr",
     "output_type": "stream",
     "text": [
      " 89%|████████▉ | 1781/2000 [1:20:23<11:33,  3.17s/it]"
     ]
    },
    {
     "name": "stdout",
     "output_type": "stream",
     "text": [
      "Epoch 1780 | Total Loss: 7.36211\n"
     ]
    },
    {
     "name": "stderr",
     "output_type": "stream",
     "text": [
      " 90%|████████▉ | 1791/2000 [1:20:57<12:20,  3.55s/it]"
     ]
    },
    {
     "name": "stdout",
     "output_type": "stream",
     "text": [
      "Epoch 1790 | Total Loss: 7.35784\n"
     ]
    },
    {
     "name": "stderr",
     "output_type": "stream",
     "text": [
      " 90%|█████████ | 1801/2000 [1:21:29<10:47,  3.26s/it]"
     ]
    },
    {
     "name": "stdout",
     "output_type": "stream",
     "text": [
      "Epoch 1800 | Total Loss: 7.36204\n"
     ]
    },
    {
     "name": "stderr",
     "output_type": "stream",
     "text": [
      " 91%|█████████ | 1811/2000 [1:22:02<10:11,  3.23s/it]"
     ]
    },
    {
     "name": "stdout",
     "output_type": "stream",
     "text": [
      "Epoch 1810 | Total Loss: 7.33882\n"
     ]
    },
    {
     "name": "stderr",
     "output_type": "stream",
     "text": [
      " 91%|█████████ | 1821/2000 [1:22:32<08:46,  2.94s/it]"
     ]
    },
    {
     "name": "stdout",
     "output_type": "stream",
     "text": [
      "Epoch 1820 | Total Loss: 7.32904\n"
     ]
    },
    {
     "name": "stderr",
     "output_type": "stream",
     "text": [
      " 92%|█████████▏| 1831/2000 [1:22:54<05:58,  2.12s/it]"
     ]
    },
    {
     "name": "stdout",
     "output_type": "stream",
     "text": [
      "Epoch 1830 | Total Loss: 7.30580\n"
     ]
    },
    {
     "name": "stderr",
     "output_type": "stream",
     "text": [
      " 92%|█████████▏| 1841/2000 [1:23:16<05:41,  2.15s/it]"
     ]
    },
    {
     "name": "stdout",
     "output_type": "stream",
     "text": [
      "Epoch 1840 | Total Loss: 7.32894\n"
     ]
    },
    {
     "name": "stderr",
     "output_type": "stream",
     "text": [
      " 93%|█████████▎| 1851/2000 [1:23:44<07:02,  2.84s/it]"
     ]
    },
    {
     "name": "stdout",
     "output_type": "stream",
     "text": [
      "Epoch 1850 | Total Loss: 7.34992\n"
     ]
    },
    {
     "name": "stderr",
     "output_type": "stream",
     "text": [
      " 93%|█████████▎| 1861/2000 [1:24:15<07:14,  3.12s/it]"
     ]
    },
    {
     "name": "stdout",
     "output_type": "stream",
     "text": [
      "Epoch 1860 | Total Loss: 7.33716\n"
     ]
    },
    {
     "name": "stderr",
     "output_type": "stream",
     "text": [
      " 94%|█████████▎| 1871/2000 [1:24:40<04:39,  2.16s/it]"
     ]
    },
    {
     "name": "stdout",
     "output_type": "stream",
     "text": [
      "Epoch 1870 | Total Loss: 7.33303\n"
     ]
    },
    {
     "name": "stderr",
     "output_type": "stream",
     "text": [
      " 94%|█████████▍| 1881/2000 [1:25:01<04:06,  2.07s/it]"
     ]
    },
    {
     "name": "stdout",
     "output_type": "stream",
     "text": [
      "Epoch 1880 | Total Loss: 7.33464\n"
     ]
    },
    {
     "name": "stderr",
     "output_type": "stream",
     "text": [
      " 95%|█████████▍| 1891/2000 [1:25:27<04:45,  2.62s/it]"
     ]
    },
    {
     "name": "stdout",
     "output_type": "stream",
     "text": [
      "Epoch 1890 | Total Loss: 7.32124\n"
     ]
    },
    {
     "name": "stderr",
     "output_type": "stream",
     "text": [
      " 95%|█████████▌| 1901/2000 [1:25:57<04:54,  2.98s/it]"
     ]
    },
    {
     "name": "stdout",
     "output_type": "stream",
     "text": [
      "Epoch 1900 | Total Loss: 7.33954\n"
     ]
    },
    {
     "name": "stderr",
     "output_type": "stream",
     "text": [
      " 96%|█████████▌| 1911/2000 [1:26:24<03:59,  2.69s/it]"
     ]
    },
    {
     "name": "stdout",
     "output_type": "stream",
     "text": [
      "Epoch 1910 | Total Loss: 7.36055\n"
     ]
    },
    {
     "name": "stderr",
     "output_type": "stream",
     "text": [
      " 96%|█████████▌| 1921/2000 [1:26:51<03:37,  2.75s/it]"
     ]
    },
    {
     "name": "stdout",
     "output_type": "stream",
     "text": [
      "Epoch 1920 | Total Loss: 7.36940\n"
     ]
    },
    {
     "name": "stderr",
     "output_type": "stream",
     "text": [
      " 97%|█████████▋| 1931/2000 [1:27:24<04:17,  3.74s/it]"
     ]
    },
    {
     "name": "stdout",
     "output_type": "stream",
     "text": [
      "Epoch 1930 | Total Loss: 7.29768\n"
     ]
    },
    {
     "name": "stderr",
     "output_type": "stream",
     "text": [
      " 97%|█████████▋| 1941/2000 [1:28:00<03:12,  3.26s/it]"
     ]
    },
    {
     "name": "stdout",
     "output_type": "stream",
     "text": [
      "Epoch 1940 | Total Loss: 7.33625\n"
     ]
    },
    {
     "name": "stderr",
     "output_type": "stream",
     "text": [
      " 98%|█████████▊| 1951/2000 [1:28:30<02:25,  2.97s/it]"
     ]
    },
    {
     "name": "stdout",
     "output_type": "stream",
     "text": [
      "Epoch 1950 | Total Loss: 7.36270\n"
     ]
    },
    {
     "name": "stderr",
     "output_type": "stream",
     "text": [
      " 98%|█████████▊| 1961/2000 [1:29:00<02:00,  3.09s/it]"
     ]
    },
    {
     "name": "stdout",
     "output_type": "stream",
     "text": [
      "Epoch 1960 | Total Loss: 7.33475\n"
     ]
    },
    {
     "name": "stderr",
     "output_type": "stream",
     "text": [
      " 99%|█████████▊| 1971/2000 [1:29:29<01:24,  2.93s/it]"
     ]
    },
    {
     "name": "stdout",
     "output_type": "stream",
     "text": [
      "Epoch 1970 | Total Loss: 7.36113\n"
     ]
    },
    {
     "name": "stderr",
     "output_type": "stream",
     "text": [
      " 99%|█████████▉| 1981/2000 [1:29:57<00:52,  2.78s/it]"
     ]
    },
    {
     "name": "stdout",
     "output_type": "stream",
     "text": [
      "Epoch 1980 | Total Loss: 7.36688\n"
     ]
    },
    {
     "name": "stderr",
     "output_type": "stream",
     "text": [
      "100%|█████████▉| 1991/2000 [1:30:25<00:24,  2.77s/it]"
     ]
    },
    {
     "name": "stdout",
     "output_type": "stream",
     "text": [
      "Epoch 1990 | Total Loss: 7.32586\n"
     ]
    },
    {
     "name": "stderr",
     "output_type": "stream",
     "text": [
      "100%|██████████| 2000/2000 [1:30:44<00:00,  2.72s/it]\n"
     ]
    }
   ],
   "source": [
    "# Initialize the Trainer class\n",
    "trainer = Trainer(\n",
    "        model=model,\n",
    "        optimizer=args.optimizer,\n",
    "        loss_function=None,\n",
    "        lr_scheduler=args.lr_scheduler, \n",
    "        scheduler_params=None,\n",
    "        eval_metric=None, \n",
    "        epochs=args.epochs, \n",
    "        batch_size=args.batch_size, \n",
    "        learning_rate=args.learning_rate, \n",
    "        weight_decay=args.weight_decay, \n",
    "        l1_lambda_phase1=args.l1_lambda_phase1,\n",
    "        l1_lambda_phase2=args.l1_lambda_phase2,\n",
    "        l2_lambda_phase1=args.l2_lambda_phase1,\n",
    "        l2_lambda_phase2=args.l2_lambda_phase2,\n",
    "        eval_every=10,\n",
    "        early_stop_delta=args.early_stop_delta,\n",
    "        early_stop_patience=args.early_stop_patience,\n",
    "        clip_value=args.clip_value,\n",
    "        device_name=\"auto\"\n",
    ")\n",
    "\n",
    "# Run the training phase\n",
    "train_loss_history, val_loss_history = trainer.train(args, train_loader)\n",
    "\n"
   ]
  },
  {
   "cell_type": "code",
   "execution_count": 12,
   "metadata": {},
   "outputs": [
    {
     "data": {
      "image/png": "[encoded data removed]",
      "text/plain": [
       "<Figure size 864x432 with 1 Axes>"
      ]
     },
     "metadata": {
      "needs_background": "light"
     },
     "output_type": "display_data"
    }
   ],
   "source": [
    "train_loss_history_np = [loss for loss in train_loss_history]\n",
    "val_loss_history_np = [loss for loss in val_loss_history]\n",
    "\n",
    "plt.figure(figsize=(12, 6))\n",
    "\n",
    "plt.plot(train_loss_history_np, color='r', label='Training')\n",
    "plt.plot(val_loss_history_np, color='g', label='Validation')\n",
    "\n",
    "plt.xlabel(\"Epochs\")\n",
    "plt.ylabel(\"Value\")\n",
    "plt.title(\"Loss\")\n",
    "\n",
    "plt.legend()\n",
    "plt.show()"
   ]
  },
  {
   "cell_type": "code",
   "execution_count": 10,
   "metadata": {},
   "outputs": [
    {
     "data": {
      "image/png": "[encoded data removed]",
      "text/plain": [
       "<Figure size 1080x2160 with 8 Axes>"
      ]
     },
     "metadata": {
      "needs_background": "light"
     },
     "output_type": "display_data"
    },
    {
     "data": {
      "image/png": "[encoded data removed]",
      "text/plain": [
       "<Figure size 1080x2160 with 40 Axes>"
      ]
     },
     "metadata": {
      "needs_background": "light"
     },
     "output_type": "display_data"
    }
   ],
   "source": [
    "# Generate input values for plotting\n",
    "x_values = torch.linspace(0, 3, 1000).reshape(-1, 1)  # 100 points between -1 and 1\n",
    "\n",
    "input_dim = args.latent_dim\n",
    "output_dim = args.output_dim\n",
    "visualize_gam(model, x_values.to(device), input_dim, output_dim, vis_lat_features = False)\n",
    "\n",
    "input_dim = args.in_features\n",
    "output_dim = args.latent_dim\n",
    "visualize_gam(model, x_values.to(device), input_dim, output_dim, vis_lat_features = True)"
   ]
  },
  {
   "cell_type": "markdown",
   "metadata": {},
   "source": [
    "# Dataset"
   ]
  },
  {
   "cell_type": "code",
   "execution_count": 45,
   "metadata": {},
   "outputs": [],
   "source": [
    "def get_synthetic_data_phase1(num_exp=10, in_features=10):\n",
    "    # Simulate independent variables, x0,...,x4 from a Uniform distribution on [−1, 1]\n",
    "    X_uniform = Uniform(-1, 1).sample((num_exp, in_features-5))\n",
    "    \n",
    "    # Simulate features x5 and x6 from a Normal distribution with mean=0 and std=1\n",
    "    X_normal = torch.normal(0, 1, (num_exp, 5))\n",
    "    \n",
    "    # Combine the uniform and normal features\n",
    "    X = torch.cat([X_uniform, X_normal], dim=1)\n",
    "    print(X.shape)\n",
    "    \n",
    "    # creating y_1\n",
    "    y_1 = X[:, 0] + 0.5*(3*(X[:, 1]**2)-1) + 0.5*(X[:, 2]**3)\n",
    "    y_1 = y_1.reshape(-1, 1)\n",
    "    #print(y_1.shape)\n",
    "    \n",
    "    # creating y_2\n",
    "    y_2 = (1/3) * torch.log(100 * X[:, 5].abs()) + torch.sin(5 * X[:, 6])\n",
    "    y_2 = y_2.reshape(-1, 1)\n",
    "    #print(y_2.shape)\n",
    "    \n",
    "    # creating y_3\n",
    "    y_3 = -(3/4) * torch.exp(-4 * X[:, 7].abs()) + torch.cos(5 * X[:, 8])\n",
    "    y_3 = y_3.reshape(-1, 1)\n",
    "    \n",
    "    # creating y_4\n",
    "    y_4 = torch.sin(5 * X[:, 5]) + 0.5*(3*(X[:, 2]**2)-1)  \n",
    "    y_4 = y_4.reshape(-1, 1)\n",
    "    \n",
    "    # Stack all y_i to form the final target matrix\n",
    "    y = torch.cat([y_1, y_2, y_3, y_4], dim=1)\n",
    "    print(y.shape)\n",
    "    \n",
    "    return X, y\n",
    "\n",
    "\n",
    "def get_synthetic_data_phase2(X_input):\n",
    "    \n",
    "    # creating y_1\n",
    "    y_1 = 4*X_input[:, 0] + 0.5*X_input[:, 1]\n",
    "    y_1 = y_1.reshape(-1, 1)\n",
    "    #print(y_1.shape)\n",
    "    \n",
    "    # creating y_2\n",
    "    y_2 = (1/3) * X_input[:, 2] + 5 * X_input[:, 3]\n",
    "    y_2 = y_2.reshape(-1, 1)\n",
    "    #print(y_2.shape)\n",
    "    \n",
    "    # Stack all y_i to form the final target matrix\n",
    "    y = torch.cat([y_1, y_2], dim=1)\n",
    "    print(y.shape)\n",
    "    \n",
    "    return y\n",
    "\n",
    "\n",
    "def make_loader(X, y, batch_size):\n",
    "    dataset = TensorDataset(torch.tensor(X), torch.tensor(y))\n",
    "    loader = DataLoader(dataset, batch_size=batch_size, shuffle=True)\n",
    "    return loader"
   ]
  },
  {
   "cell_type": "code",
   "execution_count": 46,
   "metadata": {},
   "outputs": [
    {
     "name": "stdout",
     "output_type": "stream",
     "text": [
      "torch.Size([1, 10])\n",
      "torch.Size([1, 4])\n",
      "torch.Size([1, 2])\n"
     ]
    }
   ],
   "source": [
    "X, y = get_synthetic_data_phase1(num_exp=1, in_features=10)\n",
    "Y = get_synthetic_data_phase2(y)"
   ]
  },
  {
   "cell_type": "markdown",
   "metadata": {},
   "source": [
    "# Model architecture"
   ]
  },
  {
   "cell_type": "code",
   "execution_count": 47,
   "metadata": {},
   "outputs": [],
   "source": [
    "def truncated_normal_(tensor, mean: float = 0., std: float = 1.):\n",
    "    \"\"\"\n",
    "    Initializes a tensor with values from a truncated normal distribution\n",
    "    \"\"\"\n",
    "    size = tensor.shape\n",
    "    tmp = tensor.new_empty(size + (4,)).normal_()\n",
    "    valid = (tmp < 2) & (tmp > -2)\n",
    "    ind = valid.max(-1, keepdim=True)[1]\n",
    "    tensor.data.copy_(tmp.gather(-1, ind).squeeze(-1))\n",
    "    tensor.data.mul_(std).add_(mean)\n",
    "\n",
    "# ActivationLayer Class\n",
    "class ActivationLayer(torch.nn.Module):\n",
    "    \"\"\"\n",
    "    Abstract base class for layers with weights and biases\n",
    "    \"\"\"\n",
    "    def __init__(self,\n",
    "                 in_features: int,\n",
    "                 out_features: int):\n",
    "        super().__init__()\n",
    "        \n",
    "        self.weight = torch.nn.Parameter(torch.empty((in_features, out_features)))\n",
    "        self.bias = torch.nn.Parameter(torch.empty(in_features))\n",
    "\n",
    "    def forward(self, x):\n",
    "        raise NotImplementedError(\"abstract method called\")\n",
    "\n",
    "\n",
    "class ExULayer(ActivationLayer):\n",
    "    \"\"\"\n",
    "    Custom layer using exponential activation with weight and bias initialization\n",
    "    \"\"\"\n",
    "    def __init__(self,\n",
    "                 in_features: int,\n",
    "                 out_features: int):\n",
    "        super().__init__(in_features, out_features)\n",
    "        \n",
    "        truncated_normal_(self.weight, mean=4.0, std=0.5)\n",
    "        truncated_normal_(self.bias, std=0.5)\n",
    "\n",
    "    def forward(self, x): \n",
    "        exu = (x - self.bias) @ torch.exp(self.weight)\n",
    "        output = torch.clip(exu, 0, 1)\n",
    "        \n",
    "        if 0:\n",
    "            print('ExULayer_weights:', self.weight.detach().cpu().numpy())\n",
    "            print('ExULayer Normalization L1\\n:', torch.linalg.norm(self.weight.t(), 1, dim=0))\n",
    "            print('ExULayer Normalization L2\\n:',torch.linalg.norm(self.weight.t(), 2, dim=0))\n",
    "        \n",
    "        return output\n",
    "\n",
    "\n",
    "class ReLULayer(ActivationLayer):\n",
    "    \"\"\"\n",
    "    Custom layer using ReLU activation with Xavier weight initialization\n",
    "    \"\"\"\n",
    "    def __init__(self,\n",
    "                 in_features: int,\n",
    "                 out_features: int):\n",
    "        super().__init__(in_features, out_features)\n",
    "        \n",
    "        torch.nn.init.xavier_uniform_(self.weight)\n",
    "        truncated_normal_(self.bias, std=0.5)\n",
    "\n",
    "    def forward(self, x):\n",
    "        output = F.relu((x - self.bias) @ self.weight)\n",
    "        \n",
    "        if 0:\n",
    "            print('ReLULayer_weights:', self.weight.detach().cpu().numpy())\n",
    "            print('ReLULayer Normalization L1:\\n', torch.linalg.norm(self.weight.t(), 1, dim=0))\n",
    "            print('ReLULayer Normalization L2:\\n',torch.linalg.norm(self.weight.t(), 2, dim=0))\n",
    "        \n",
    "        return output\n",
    "\n",
    "\n",
    "# FeatureNN Class\n",
    "class FeatureNN(torch.nn.Module):\n",
    "    \"\"\"\n",
    "    Neural network for individual features\n",
    "    \"\"\"\n",
    "    def __init__(self,\n",
    "                 shallow_units: int,\n",
    "                 hidden_units: Tuple = (),\n",
    "                 shallow_layer: ActivationLayer = ExULayer,\n",
    "                 hidden_layer: ActivationLayer = ReLULayer,\n",
    "                 dropout: float = .5,\n",
    "                 output_dim: int = 1,\n",
    "                 ):\n",
    "        super().__init__()\n",
    "        \n",
    "        # First (shallow) layer\n",
    "        self.shallow_layer = shallow_layer(1, shallow_units)\n",
    "        \n",
    "        # Hidden layers\n",
    "        self.hidden_layers = torch.nn.ModuleList()\n",
    "        in_units = shallow_units\n",
    "        for out_units in hidden_units:\n",
    "            self.hidden_layers.append(hidden_layer(in_units, out_units))\n",
    "            in_units = out_units  # Update in_units to the output of the last layer\n",
    "        \n",
    "        # Dropout layer\n",
    "        self.dropout = torch.nn.Dropout(p=dropout)\n",
    "        \n",
    "        # Output linear layer\n",
    "        self.output_layer = torch.nn.Linear(in_units, output_dim, bias=False)\n",
    "        torch.nn.init.xavier_uniform_(self.output_layer.weight)\n",
    "\n",
    "    def forward(self, x):\n",
    "        x = x.unsqueeze(1)\n",
    "        \n",
    "        # Pass through the shallow layer\n",
    "        x = self.shallow_layer(x)\n",
    "        #x = self.dropout(x)\n",
    "        \n",
    "        # Pass through each hidden layer with dropout\n",
    "        for layer in self.hidden_layers:\n",
    "            x = layer(x)\n",
    "            x = self.dropout(x)\n",
    "            \n",
    "        # Final output layer\n",
    "        x = self.output_layer(x)\n",
    "        \n",
    "        return x\n",
    "\n",
    "\n",
    "# Neural Additive Model (NAM) Class\n",
    "class NeuralAdditiveModel(torch.nn.Module):\n",
    "    \"\"\"\n",
    "    Combines multiple feature networks, each processing one feature, with dropout and bias\n",
    "    \"\"\"\n",
    "    def __init__(self,\n",
    "                 input_size: int,\n",
    "                 shallow_units: int,\n",
    "                 hidden_units: Tuple = (),\n",
    "                 shallow_layer: ActivationLayer = ExULayer,\n",
    "                 hidden_layer: ActivationLayer = ReLULayer,\n",
    "                 hidden_dropout: float = 0.,\n",
    "                 feature_dropout: float = 0.,\n",
    "                 output_dim: int = 1,\n",
    "                 ):\n",
    "        super().__init__()\n",
    "        \n",
    "        self.input_size = input_size\n",
    "\n",
    "        if isinstance(shallow_units, list):\n",
    "            assert len(shallow_units) == input_size\n",
    "        elif isinstance(shallow_units, int):\n",
    "            shallow_units = [shallow_units for _ in range(input_size)]\n",
    "\n",
    "        self.feature_nns = torch.nn.ModuleList([\n",
    "            FeatureNN(shallow_units=shallow_units[i],\n",
    "                      hidden_units=hidden_units,\n",
    "                      shallow_layer=shallow_layer,\n",
    "                      hidden_layer=hidden_layer,\n",
    "                      dropout=hidden_dropout,\n",
    "                      output_dim=output_dim)\n",
    "            for i in range(input_size)\n",
    "        ])\n",
    "        self.feature_dropout = torch.nn.Dropout(p=feature_dropout)\n",
    "        self.bias = torch.nn.Parameter(torch.zeros(output_dim))\n",
    "        \n",
    "    def forward(self, x):\n",
    "        # Collect outputs from each feature network\n",
    "        FeatureNN_out = self._feature_nns(x)\n",
    "        \n",
    "        # Concatenates a sequence of tensors along the latent features dimension \n",
    "        f_out = torch.stack(FeatureNN_out, dim=-1)\n",
    "        \n",
    "        # Sum across features and add bias\n",
    "        f_out = self.feature_dropout(f_out)\n",
    "        outputs = f_out.sum(axis=-1) + self.bias\n",
    "        \n",
    "        if 0:\n",
    "            print('final output', outputs)\n",
    "            print('f_out', f_out)\n",
    "        return outputs, f_out\n",
    "\n",
    "    def _feature_nns(self, x):\n",
    "        return [self.feature_nns[i](x[:, i]) for i in range(self.input_size)]\n",
    "    \n",
    "\n",
    "# Hirarchical Neural Additive Model Class\n",
    "class HierarchNeuralAdditiveModel(torch.nn.Module):\n",
    "    \"\"\"\n",
    "    Hierarch Neural Additive Model\n",
    "    \"\"\"\n",
    "    def __init__(self,\n",
    "                 input_size: int,\n",
    "                 shallow_units: int,\n",
    "                 hidden_units: Tuple = (),\n",
    "                 shallow_layer: ActivationLayer = ExULayer,\n",
    "                 hidden_layer: ActivationLayer = ReLULayer,\n",
    "                 hidden_dropout: float = 0.,\n",
    "                 feature_dropout: float = 0.,\n",
    "                 latent_feature_dropout: float = 0.,\n",
    "                 latent_var_dim: int = 1,\n",
    "                 output_dim: int = 1,\n",
    "                 ):\n",
    "        super().__init__()\n",
    "\n",
    "        self.NAM_features = NeuralAdditiveModel(input_size=input_size,\n",
    "                                shallow_units= shallow_units,\n",
    "                                hidden_units= hidden_units,\n",
    "                                shallow_layer= shallow_layer,\n",
    "                                hidden_layer= hidden_layer,\n",
    "                                hidden_dropout= hidden_dropout,\n",
    "                                feature_dropout= feature_dropout,\n",
    "                                output_dim = latent_var_dim,\n",
    "                                )\n",
    "       \n",
    "\n",
    "        self.NAM_output = NeuralAdditiveModel(input_size=latent_var_dim,\n",
    "                                shallow_units= shallow_units,\n",
    "                                hidden_units= hidden_units,\n",
    "                                shallow_layer= shallow_layer,\n",
    "                                hidden_layer= hidden_layer,\n",
    "                                hidden_dropout= hidden_dropout,\n",
    "                                feature_dropout= latent_feature_dropout,\n",
    "                                output_dim = output_dim,\n",
    "                                )\n",
    "\n",
    "    def forward(self, x):\n",
    "        \n",
    "        latent_outputs, f_out = self.NAM_features(x)\n",
    "\n",
    "        outputs, lat_f_out = self.NAM_output(latent_outputs)\n",
    "       \n",
    "         # Apply softmax to get class probabilities\n",
    "#         outputs = torch.softmax(outputs, dim=-1)\n",
    "\n",
    "        if 0:\n",
    "            print('x:', x.shape)\n",
    "            print('latent_outputs:',latent_outputs.shape)\n",
    "            print('f_out:',f_out.shape)\n",
    "            print('outputs:',outputs.shape)\n",
    "            print('lat_f_out:',lat_f_out.shape)  \n",
    "            \n",
    "        return outputs, lat_f_out"
   ]
  },
  {
   "cell_type": "markdown",
   "metadata": {},
   "source": [
    "# Loss"
   ]
  },
  {
   "cell_type": "code",
   "execution_count": 48,
   "metadata": {},
   "outputs": [],
   "source": [
    "# Loss function for regression\n",
    "def feature_loss(fnn_out, lambda_=0.):\n",
    "    return lambda_ * (fnn_out ** 2).sum() / fnn_out.shape[1]\n",
    "\n",
    "def penalized_mse(logits, truth, fnn_out, feature_penalty=0.0):\n",
    "    feat_loss = feature_loss(fnn_out, feature_penalty)\n",
    "    mse_loss = F.mse_loss(logits.view(-1), truth.view(-1))\n",
    "    loss = mse_loss+feat_loss\n",
    "    return loss\n",
    "\n",
    "def l1_penalty(params, l1_lambda):\n",
    "    l1_norm =  torch.stack([torch.linalg.norm(p, 1) for p in params], dim=0).sum()\n",
    "    return l1_lambda*l1_norm\n",
    "\n",
    "def l2_penalty(params, l1_lambda):\n",
    "    l2_norm =  torch.stack([torch.linalg.norm(p, 2) for p in params], dim=0).sum()\n",
    "    return l1_lambda*l2_norm"
   ]
  },
  {
   "cell_type": "markdown",
   "metadata": {},
   "source": [
    "# Model training"
   ]
  },
  {
   "cell_type": "code",
   "execution_count": 49,
   "metadata": {},
   "outputs": [],
   "source": [
    "def train(model, loader, criterion, optimizer, config):\n",
    "    \n",
    "    # Run training and track with wandb\n",
    "#    total_batches = len(loader) * config['epochs']\n",
    "#    batch_ct = 0\n",
    "    loss_history = []\n",
    "\n",
    "    for epoch in tqdm(range(config['epochs'])):\n",
    "        epoch_loss_history = []\n",
    "        for _, (X, y) in enumerate(loader):\n",
    "            loss = train_batch(X, y, model, optimizer, criterion)\n",
    "#            batch_ct += 1\n",
    "            epoch_loss_history.append(loss)\n",
    "#             # Report metrics every 5th batch\n",
    "#             if ((batch_ct + 1) % 5) == 0:\n",
    "#                 print(f\"Epoch {epoch} | Batch {batch_ct + 1} | Total Loss: {loss:.5f}\")\n",
    "\n",
    "        avg_loss = sum(epoch_loss_history) / len(loader)\n",
    "        loss_history.append(avg_loss)\n",
    "    \n",
    "        if epoch%100==0:\n",
    "            print(f\"Epoch {epoch} | Total Loss: {avg_loss:.5f}\")\n",
    "        \n",
    "    return loss_history\n",
    "        \n",
    "def train_batch(X, y, model, optimizer, criterion):    \n",
    "    X, y = X.to(device), y.to(device)\n",
    "    # Forward pass\n",
    "    logits, fnns_out = model(X)\n",
    "    loss = criterion(logits, y, fnns_out, feature_penalty=0.0001)\n",
    "    \n",
    "    # Backward pass\n",
    "    optimizer.zero_grad()\n",
    "    loss.backward()\n",
    "\n",
    "    # Step with optimizer\n",
    "    optimizer.step()\n",
    "    \n",
    "    if 0:\n",
    "        print('predict outputs shape:',logits.shape)\n",
    "        print('true outputs shape:',y.shape)\n",
    "        print('fnns_out shape:',fnns_out.shape)\n",
    "\n",
    "    return loss"
   ]
  },
  {
   "cell_type": "markdown",
   "metadata": {},
   "source": [
    "# Define the Experiment"
   ]
  },
  {
   "cell_type": "code",
   "execution_count": 50,
   "metadata": {},
   "outputs": [],
   "source": [
    "# define experiment\n",
    "config = dict(\n",
    "    epochs=2000, #100\n",
    "    batch_size=1024, #128\n",
    "    learning_rate=0.0035,\n",
    "    weight_decay=0.0001,\n",
    "    num_exp = 5000,\n",
    "    in_features = 10,\n",
    "    shallow_units=20, #50\n",
    "    hidden_units=(64, 64, 32), #(100, 20)\n",
    "    feature_dropout=0.2,\n",
    "    latent_feature_dropout=0.2,\n",
    "    hidden_dropout=0.2,\n",
    "    latent_dim=4,\n",
    "    output_dim=2,\n",
    "    seed=42,\n",
    "    dataset=\"Uniform_distribution\",\n",
    "    architecture=\"multi_output_NAM\")"
   ]
  },
  {
   "cell_type": "code",
   "execution_count": 51,
   "metadata": {},
   "outputs": [],
   "source": [
    "# model_hir = HierarchNeuralAdditiveModel(input_size= config['in_features'],\n",
    "#                      shallow_units= config['shallow_units'],\n",
    "#                      hidden_units= config['hidden_units'],\n",
    "#                      shallow_layer = ExULayer,\n",
    "#                      hidden_layer = ReLULayer,\n",
    "#                      hidden_dropout = config['hidden_dropout'],\n",
    "#                      feature_dropout = config['feature_dropout'],\n",
    "#                      latent_feature_dropout = config['latent_feature_dropout'],\n",
    "#                      latent_var_dim = config['latent_dim'], \n",
    "#                      output_dim = config['output_dim']).to(device)\n",
    "\n",
    "# model = NeuralAdditiveModel(input_size= config['in_features'],\n",
    "#                  shallow_units= config['shallow_units'],\n",
    "#                  hidden_units= config['hidden_units'],\n",
    "#                  shallow_layer = ExULayer,\n",
    "#                  hidden_layer = ReLULayer,\n",
    "#                  hidden_dropout = config['hidden_dropout'],\n",
    "#                  feature_dropout = config['feature_dropout'],\n",
    "#                  output_dim = config['latent_dim'],           \n",
    "#                  ).to(device)\n",
    "\n",
    "# from torchsummary import summary\n",
    "# summary(model, (1,1))\n",
    "# dummy_input = torch.randn(10, 10)\n",
    "\n",
    "# output,_ = model(dummy_input)\n",
    "\n",
    "# # Create graph visualization\n",
    "# dot = make_dot(output, params=dict(model.named_parameters()))\n",
    "\n",
    "# # # Save the graph to a file\n",
    "# # dot.render(\"network_graph\", format=\"png\")\n",
    "\n",
    "# # Alternatively, view the graph\n",
    "# dot.view()"
   ]
  },
  {
   "cell_type": "code",
   "execution_count": 52,
   "metadata": {},
   "outputs": [],
   "source": [
    "def make(config):\n",
    "    \n",
    "    seed_everything(seed=config['seed'])\n",
    "    \n",
    "    # Make the data\n",
    "    X, y = get_synthetic_data_phase1(num_exp=config['num_exp'], in_features=config['in_features'])\n",
    "    Y = get_synthetic_data_phase2(y)\n",
    "\n",
    "    train_loader = make_loader(X, Y, batch_size=config['batch_size'])\n",
    "\n",
    "    # Make the model\n",
    "    model = HierarchNeuralAdditiveModel(input_size= config['in_features'],\n",
    "                     shallow_units= config['shallow_units'],\n",
    "                     hidden_units= config['hidden_units'],\n",
    "                     shallow_layer = ExULayer,\n",
    "                     hidden_layer = ReLULayer,\n",
    "                     hidden_dropout = config['hidden_dropout'],\n",
    "                     feature_dropout = config['feature_dropout'],\n",
    "                     latent_feature_dropout = config['latent_feature_dropout'],\n",
    "                     latent_var_dim = config['latent_dim'], \n",
    "                     output_dim = config['output_dim'],     \n",
    "                     ).to(device)\n",
    "    \n",
    "#     model = NeuralAdditiveModel(input_size= config['in_features'],\n",
    "#                      shallow_units= config['shallow_units'],\n",
    "#                      hidden_units= config['hidden_units'],\n",
    "#                      shallow_layer = ExULayer,\n",
    "#                      hidden_layer = ReLULayer,\n",
    "#                      hidden_dropout = config['hidden_dropout'],\n",
    "#                      feature_dropout = config['feature_dropout'],\n",
    "#                      output_dim = config['latent_dim'],           \n",
    "#                      ).to(device)\n",
    "    \n",
    "    # Make the loss and optimizer\n",
    "    criterion = penalized_mse\n",
    "    optimizer = torch.optim.Adam(model.parameters(),\n",
    "                                 lr=config['learning_rate'],\n",
    "                                 weight_decay=config['weight_decay'],\n",
    "                                )\n",
    "    \n",
    "    #scheduler = torch.optim.lr_scheduler.StepLR(optimizer, gamma=0.995, step_size=1)\n",
    "    \n",
    "    return model, train_loader, criterion, optimizer"
   ]
  },
  {
   "cell_type": "markdown",
   "metadata": {},
   "source": [
    "# Run"
   ]
  },
  {
   "cell_type": "code",
   "execution_count": 53,
   "metadata": {
    "scrolled": false
   },
   "outputs": [
    {
     "name": "stdout",
     "output_type": "stream",
     "text": [
      "torch.Size([5000, 10])\n",
      "torch.Size([5000, 4])\n",
      "torch.Size([5000, 2])\n"
     ]
    },
    {
     "name": "stderr",
     "output_type": "stream",
     "text": [
      "<ipython-input-45-2f7e99239638>:57: UserWarning: To copy construct from a tensor, it is recommended to use sourceTensor.clone().detach() or sourceTensor.clone().detach().requires_grad_(True), rather than torch.tensor(sourceTensor).\n",
      "  dataset = TensorDataset(torch.tensor(X), torch.tensor(y))\n"
     ]
    },
    {
     "data": {
      "text/plain": [
       "HierarchNeuralAdditiveModel(\n",
       "  (NAM_features): NeuralAdditiveModel(\n",
       "    (feature_nns): ModuleList(\n",
       "      (0): FeatureNN(\n",
       "        (shallow_layer): ExULayer()\n",
       "        (hidden_layers): ModuleList(\n",
       "          (0): ReLULayer()\n",
       "          (1): ReLULayer()\n",
       "          (2): ReLULayer()\n",
       "        )\n",
       "        (dropout): Dropout(p=0.2, inplace=False)\n",
       "        (output_layer): Linear(in_features=32, out_features=4, bias=False)\n",
       "      )\n",
       "      (1): FeatureNN(\n",
       "        (shallow_layer): ExULayer()\n",
       "        (hidden_layers): ModuleList(\n",
       "          (0): ReLULayer()\n",
       "          (1): ReLULayer()\n",
       "          (2): ReLULayer()\n",
       "        )\n",
       "        (dropout): Dropout(p=0.2, inplace=False)\n",
       "        (output_layer): Linear(in_features=32, out_features=4, bias=False)\n",
       "      )\n",
       "      (2): FeatureNN(\n",
       "        (shallow_layer): ExULayer()\n",
       "        (hidden_layers): ModuleList(\n",
       "          (0): ReLULayer()\n",
       "          (1): ReLULayer()\n",
       "          (2): ReLULayer()\n",
       "        )\n",
       "        (dropout): Dropout(p=0.2, inplace=False)\n",
       "        (output_layer): Linear(in_features=32, out_features=4, bias=False)\n",
       "      )\n",
       "      (3): FeatureNN(\n",
       "        (shallow_layer): ExULayer()\n",
       "        (hidden_layers): ModuleList(\n",
       "          (0): ReLULayer()\n",
       "          (1): ReLULayer()\n",
       "          (2): ReLULayer()\n",
       "        )\n",
       "        (dropout): Dropout(p=0.2, inplace=False)\n",
       "        (output_layer): Linear(in_features=32, out_features=4, bias=False)\n",
       "      )\n",
       "      (4): FeatureNN(\n",
       "        (shallow_layer): ExULayer()\n",
       "        (hidden_layers): ModuleList(\n",
       "          (0): ReLULayer()\n",
       "          (1): ReLULayer()\n",
       "          (2): ReLULayer()\n",
       "        )\n",
       "        (dropout): Dropout(p=0.2, inplace=False)\n",
       "        (output_layer): Linear(in_features=32, out_features=4, bias=False)\n",
       "      )\n",
       "      (5): FeatureNN(\n",
       "        (shallow_layer): ExULayer()\n",
       "        (hidden_layers): ModuleList(\n",
       "          (0): ReLULayer()\n",
       "          (1): ReLULayer()\n",
       "          (2): ReLULayer()\n",
       "        )\n",
       "        (dropout): Dropout(p=0.2, inplace=False)\n",
       "        (output_layer): Linear(in_features=32, out_features=4, bias=False)\n",
       "      )\n",
       "      (6): FeatureNN(\n",
       "        (shallow_layer): ExULayer()\n",
       "        (hidden_layers): ModuleList(\n",
       "          (0): ReLULayer()\n",
       "          (1): ReLULayer()\n",
       "          (2): ReLULayer()\n",
       "        )\n",
       "        (dropout): Dropout(p=0.2, inplace=False)\n",
       "        (output_layer): Linear(in_features=32, out_features=4, bias=False)\n",
       "      )\n",
       "      (7): FeatureNN(\n",
       "        (shallow_layer): ExULayer()\n",
       "        (hidden_layers): ModuleList(\n",
       "          (0): ReLULayer()\n",
       "          (1): ReLULayer()\n",
       "          (2): ReLULayer()\n",
       "        )\n",
       "        (dropout): Dropout(p=0.2, inplace=False)\n",
       "        (output_layer): Linear(in_features=32, out_features=4, bias=False)\n",
       "      )\n",
       "      (8): FeatureNN(\n",
       "        (shallow_layer): ExULayer()\n",
       "        (hidden_layers): ModuleList(\n",
       "          (0): ReLULayer()\n",
       "          (1): ReLULayer()\n",
       "          (2): ReLULayer()\n",
       "        )\n",
       "        (dropout): Dropout(p=0.2, inplace=False)\n",
       "        (output_layer): Linear(in_features=32, out_features=4, bias=False)\n",
       "      )\n",
       "      (9): FeatureNN(\n",
       "        (shallow_layer): ExULayer()\n",
       "        (hidden_layers): ModuleList(\n",
       "          (0): ReLULayer()\n",
       "          (1): ReLULayer()\n",
       "          (2): ReLULayer()\n",
       "        )\n",
       "        (dropout): Dropout(p=0.2, inplace=False)\n",
       "        (output_layer): Linear(in_features=32, out_features=4, bias=False)\n",
       "      )\n",
       "    )\n",
       "    (feature_dropout): Dropout(p=0.2, inplace=False)\n",
       "  )\n",
       "  (NAM_output): NeuralAdditiveModel(\n",
       "    (feature_nns): ModuleList(\n",
       "      (0): FeatureNN(\n",
       "        (shallow_layer): ExULayer()\n",
       "        (hidden_layers): ModuleList(\n",
       "          (0): ReLULayer()\n",
       "          (1): ReLULayer()\n",
       "          (2): ReLULayer()\n",
       "        )\n",
       "        (dropout): Dropout(p=0.2, inplace=False)\n",
       "        (output_layer): Linear(in_features=32, out_features=2, bias=False)\n",
       "      )\n",
       "      (1): FeatureNN(\n",
       "        (shallow_layer): ExULayer()\n",
       "        (hidden_layers): ModuleList(\n",
       "          (0): ReLULayer()\n",
       "          (1): ReLULayer()\n",
       "          (2): ReLULayer()\n",
       "        )\n",
       "        (dropout): Dropout(p=0.2, inplace=False)\n",
       "        (output_layer): Linear(in_features=32, out_features=2, bias=False)\n",
       "      )\n",
       "      (2): FeatureNN(\n",
       "        (shallow_layer): ExULayer()\n",
       "        (hidden_layers): ModuleList(\n",
       "          (0): ReLULayer()\n",
       "          (1): ReLULayer()\n",
       "          (2): ReLULayer()\n",
       "        )\n",
       "        (dropout): Dropout(p=0.2, inplace=False)\n",
       "        (output_layer): Linear(in_features=32, out_features=2, bias=False)\n",
       "      )\n",
       "      (3): FeatureNN(\n",
       "        (shallow_layer): ExULayer()\n",
       "        (hidden_layers): ModuleList(\n",
       "          (0): ReLULayer()\n",
       "          (1): ReLULayer()\n",
       "          (2): ReLULayer()\n",
       "        )\n",
       "        (dropout): Dropout(p=0.2, inplace=False)\n",
       "        (output_layer): Linear(in_features=32, out_features=2, bias=False)\n",
       "      )\n",
       "    )\n",
       "    (feature_dropout): Dropout(p=0.2, inplace=False)\n",
       "  )\n",
       ")"
      ]
     },
     "execution_count": 53,
     "metadata": {},
     "output_type": "execute_result"
    }
   ],
   "source": [
    "# make the model, data, and optimization problem\n",
    "model, train_loader, criterion, optimizer = make(config)\n",
    "model"
   ]
  },
  {
   "cell_type": "code",
   "execution_count": 54,
   "metadata": {},
   "outputs": [
    {
     "name": "stderr",
     "output_type": "stream",
     "text": [
      "  0%|                                                                                     | 1/2000 [00:00<25:59,  1.28it/s]"
     ]
    },
    {
     "name": "stdout",
     "output_type": "stream",
     "text": [
      "Epoch 0 | Total Loss: 15.32216\n"
     ]
    },
    {
     "name": "stderr",
     "output_type": "stream",
     "text": [
      "  5%|████▏                                                                              | 101/2000 [01:08<21:56,  1.44it/s]"
     ]
    },
    {
     "name": "stdout",
     "output_type": "stream",
     "text": [
      "Epoch 100 | Total Loss: 13.30928\n"
     ]
    },
    {
     "name": "stderr",
     "output_type": "stream",
     "text": [
      " 10%|████████▎                                                                          | 201/2000 [02:18<21:00,  1.43it/s]"
     ]
    },
    {
     "name": "stdout",
     "output_type": "stream",
     "text": [
      "Epoch 200 | Total Loss: 13.28039\n"
     ]
    },
    {
     "name": "stderr",
     "output_type": "stream",
     "text": [
      " 15%|████████████▍                                                                      | 301/2000 [03:30<20:38,  1.37it/s]"
     ]
    },
    {
     "name": "stdout",
     "output_type": "stream",
     "text": [
      "Epoch 300 | Total Loss: 13.27775\n"
     ]
    },
    {
     "name": "stderr",
     "output_type": "stream",
     "text": [
      " 20%|████████████████▋                                                                  | 401/2000 [04:51<23:59,  1.11it/s]"
     ]
    },
    {
     "name": "stdout",
     "output_type": "stream",
     "text": [
      "Epoch 400 | Total Loss: 13.27909\n"
     ]
    },
    {
     "name": "stderr",
     "output_type": "stream",
     "text": [
      " 25%|███████████████████                                                         | 501/2000 [64:52:57<47:13:35, 113.42s/it]"
     ]
    },
    {
     "name": "stdout",
     "output_type": "stream",
     "text": [
      "Epoch 500 | Total Loss: 13.26938\n"
     ]
    },
    {
     "name": "stderr",
     "output_type": "stream",
     "text": [
      " 30%|████████████████████████                                                        | 601/2000 [64:55:29<29:05,  1.25s/it]"
     ]
    },
    {
     "name": "stdout",
     "output_type": "stream",
     "text": [
      "Epoch 600 | Total Loss: 13.26983\n"
     ]
    },
    {
     "name": "stderr",
     "output_type": "stream",
     "text": [
      " 35%|████████████████████████████                                                    | 701/2000 [64:58:13<47:37,  2.20s/it]"
     ]
    },
    {
     "name": "stdout",
     "output_type": "stream",
     "text": [
      "Epoch 700 | Total Loss: 13.27388\n"
     ]
    },
    {
     "name": "stderr",
     "output_type": "stream",
     "text": [
      " 40%|████████████████████████████████                                                | 801/2000 [65:00:46<33:18,  1.67s/it]"
     ]
    },
    {
     "name": "stdout",
     "output_type": "stream",
     "text": [
      "Epoch 800 | Total Loss: 13.27215\n"
     ]
    },
    {
     "name": "stderr",
     "output_type": "stream",
     "text": [
      " 45%|████████████████████████████████████                                            | 901/2000 [65:03:11<23:54,  1.31s/it]"
     ]
    },
    {
     "name": "stdout",
     "output_type": "stream",
     "text": [
      "Epoch 900 | Total Loss: 13.27532\n"
     ]
    },
    {
     "name": "stderr",
     "output_type": "stream",
     "text": [
      " 50%|███████████████████████████████████████▌                                       | 1001/2000 [65:05:41<22:31,  1.35s/it]"
     ]
    },
    {
     "name": "stdout",
     "output_type": "stream",
     "text": [
      "Epoch 1000 | Total Loss: 13.29069\n"
     ]
    },
    {
     "name": "stderr",
     "output_type": "stream",
     "text": [
      " 55%|███████████████████████████████████████████▍                                   | 1101/2000 [65:08:12<23:40,  1.58s/it]"
     ]
    },
    {
     "name": "stdout",
     "output_type": "stream",
     "text": [
      "Epoch 1100 | Total Loss: 13.26554\n"
     ]
    },
    {
     "name": "stderr",
     "output_type": "stream",
     "text": [
      " 60%|███████████████████████████████████████████████▍                               | 1201/2000 [65:10:45<21:37,  1.62s/it]"
     ]
    },
    {
     "name": "stdout",
     "output_type": "stream",
     "text": [
      "Epoch 1200 | Total Loss: 13.27372\n"
     ]
    },
    {
     "name": "stderr",
     "output_type": "stream",
     "text": [
      " 65%|███████████████████████████████████████████████████▍                           | 1301/2000 [65:13:30<20:10,  1.73s/it]"
     ]
    },
    {
     "name": "stdout",
     "output_type": "stream",
     "text": [
      "Epoch 1300 | Total Loss: 13.26860\n"
     ]
    },
    {
     "name": "stderr",
     "output_type": "stream",
     "text": [
      " 70%|███████████████████████████████████████████████████████▎                       | 1401/2000 [65:16:27<16:22,  1.64s/it]"
     ]
    },
    {
     "name": "stdout",
     "output_type": "stream",
     "text": [
      "Epoch 1400 | Total Loss: 13.28473\n"
     ]
    },
    {
     "name": "stderr",
     "output_type": "stream",
     "text": [
      " 75%|███████████████████████████████████████████████████████████▎                   | 1501/2000 [65:19:24<17:59,  2.16s/it]"
     ]
    },
    {
     "name": "stdout",
     "output_type": "stream",
     "text": [
      "Epoch 1500 | Total Loss: 13.27748\n"
     ]
    },
    {
     "name": "stderr",
     "output_type": "stream",
     "text": [
      " 80%|███████████████████████████████████████████████████████████████▏               | 1601/2000 [65:22:33<15:26,  2.32s/it]"
     ]
    },
    {
     "name": "stdout",
     "output_type": "stream",
     "text": [
      "Epoch 1600 | Total Loss: 13.28720\n"
     ]
    },
    {
     "name": "stderr",
     "output_type": "stream",
     "text": [
      " 85%|███████████████████████████████████████████████████████████████████▏           | 1701/2000 [65:25:40<08:45,  1.76s/it]"
     ]
    },
    {
     "name": "stdout",
     "output_type": "stream",
     "text": [
      "Epoch 1700 | Total Loss: 13.28268\n"
     ]
    },
    {
     "name": "stderr",
     "output_type": "stream",
     "text": [
      " 90%|███████████████████████████████████████████████████████████████████████▏       | 1801/2000 [65:28:59<06:01,  1.82s/it]"
     ]
    },
    {
     "name": "stdout",
     "output_type": "stream",
     "text": [
      "Epoch 1800 | Total Loss: 13.28110\n"
     ]
    },
    {
     "name": "stderr",
     "output_type": "stream",
     "text": [
      " 95%|███████████████████████████████████████████████████████████████████████████    | 1901/2000 [65:32:18<03:19,  2.01s/it]"
     ]
    },
    {
     "name": "stdout",
     "output_type": "stream",
     "text": [
      "Epoch 1900 | Total Loss: 13.28419\n"
     ]
    },
    {
     "name": "stderr",
     "output_type": "stream",
     "text": [
      "100%|██████████████████████████████████████████████████████████████████████████████| 2000/2000 [65:35:52<00:00, 118.08s/it]\n"
     ]
    },
    {
     "data": {
      "image/png": "[encoded data removed]",
      "text/plain": [
       "<Figure size 864x432 with 1 Axes>"
      ]
     },
     "metadata": {
      "needs_background": "light"
     },
     "output_type": "display_data"
    }
   ],
   "source": [
    "# and use them to train the model\n",
    "loss_history = train(model, train_loader, criterion, optimizer, config)\n",
    "loss_history_np = [loss.detach().cpu().numpy() for loss in loss_history]\n",
    "\n",
    "plt.figure(figsize=(12, 6))\n",
    "plt.plot(loss_history_np)\n",
    "plt.legend(['Loss'])\n",
    "plt.show()"
   ]
  },
  {
   "cell_type": "code",
   "execution_count": 55,
   "metadata": {},
   "outputs": [],
   "source": [
    "def visualize_gam(x_values,input_dim, output_dim, vis_lat_features = False):\n",
    "    # Plot learned functions\n",
    "    fig, axes = plt.subplots(input_dim, output_dim, figsize=(15,30))\n",
    "\n",
    "    feature_output_max = {} \n",
    "    feature_output_min = {}\n",
    "\n",
    "    for j in range(output_dim):\n",
    "        feature_output_max[f'output_{j}'] = []\n",
    "        feature_output_min[f'output_{j}'] = []\n",
    "\n",
    "    for i in range(input_dim):\n",
    "        with torch.no_grad():\n",
    "            feature_input = x_values\n",
    "            for j in range(output_dim):\n",
    "                if vis_lat_features:\n",
    "                    feature_output = model.NAM_features.feature_nns[i](feature_input[:, 0])[:, j].cpu().numpy()\n",
    "                else:          \n",
    "                    feature_output = model.NAM_output.feature_nns[i](feature_input[:, 0])[:, j].cpu().numpy()  \n",
    "\n",
    "                feature_output_max[f'output_{j}'].append(max(feature_output)) \n",
    "                feature_output_min[f'output_{j}'].append(min(feature_output))\n",
    "\n",
    "    for i in range(input_dim):\n",
    "        with torch.no_grad(): \n",
    "            for j in range(output_dim):\n",
    "                ax1 = axes[i, j]\n",
    "                if vis_lat_features:\n",
    "                    feature_output = model.NAM_features.feature_nns[i](feature_input[:, 0])[:, j].cpu().numpy()\n",
    "                else:          \n",
    "                    feature_output = model.NAM_output.feature_nns[i](feature_input[:, 0])[:, j].cpu().numpy()\n",
    "                    \n",
    "                ax1.scatter(x_values.cpu().numpy(), feature_output, label=f'Feature {i+1}')\n",
    "                ax1.set_title(f'Feature {i+1} to output {j}')\n",
    "                ax1.set_xlabel('Input')\n",
    "                ax1.set_ylabel('Output')\n",
    "                ax1.set_ylim([min(feature_output_min[f'output_{j}'])*1.3, max(feature_output_max[f'output_{j}'])*1.3])\n",
    "\n",
    "    plt.tight_layout()\n",
    "    plt.show()\n",
    "    return"
   ]
  },
  {
   "cell_type": "code",
   "execution_count": 56,
   "metadata": {
    "scrolled": false
   },
   "outputs": [
    {
     "data": {
      "image/png": "[encoded data removed]",
      "text/plain": [
       "<Figure size 1080x2160 with 8 Axes>"
      ]
     },
     "metadata": {
      "needs_background": "light"
     },
     "output_type": "display_data"
    }
   ],
   "source": [
    "# Generate input values for plotting\n",
    "x_values = torch.linspace(-1, 1, 100).reshape(-1, 1)  # 100 points between -1 and 1\n",
    "\n",
    "vis_lat_features = False\n",
    "input_dim = config['latent_dim']\n",
    "output_dim = config['output_dim']\n",
    "visualize_gam(x_values, input_dim, output_dim, vis_lat_features)"
   ]
  },
  {
   "cell_type": "code",
   "execution_count": 57,
   "metadata": {
    "scrolled": false
   },
   "outputs": [
    {
     "data": {
      "image/png": "[encoded data removed]",
      "text/plain": [
       "<Figure size 1080x2160 with 40 Axes>"
      ]
     },
     "metadata": {
      "needs_background": "light"
     },
     "output_type": "display_data"
    }
   ],
   "source": [
    "# Generate input values for plotting\n",
    "x_values = torch.linspace(-1, 1, 100).reshape(-1, 1)  # 100 points between -1 and 1\n",
    "\n",
    "vis_lat_features = True\n",
    "input_dim = config['in_features']\n",
    "output_dim = config['latent_dim']\n",
    "visualize_gam(x_values, input_dim, output_dim, vis_lat_features)\n"
   ]
  },
  {
   "cell_type": "markdown",
   "metadata": {},
   "source": [
    "# Old"
   ]
  },
  {
   "cell_type": "code",
   "execution_count": 10,
   "metadata": {},
   "outputs": [],
   "source": [
    "# a basic numerical example that demonstrates the functionality of the key parts of the NeuralAdditiveModel class\n",
    "\n",
    "if 0:\n",
    "    import torch\n",
    "    import torch.nn as nn\n",
    "\n",
    "    # Simplified FeatureNN that outputs 3 values per feature (for 3 classes)\n",
    "    class SimpleFeatureNN(nn.Module):\n",
    "        def __init__(self, num_features, num_classes):\n",
    "            super().__init__()\n",
    "            self.input_layer = torch.nn.Linear(1, num_features)\n",
    "            self.output_layer = torch.nn.Linear(num_features, num_classes)\n",
    "\n",
    "        def forward(self, x):\n",
    "            # Linear transformation: output = weight * x + bias\n",
    "            x = self.input_layer(x)\n",
    "            x = self.output_layer(x)\n",
    "            return x\n",
    "\n",
    "    # Simplified NeuralAdditiveModel\n",
    "    class SimpleNeuralAdditiveModel(nn.Module):\n",
    "        def __init__(self, num_features=5, num_classes=3):\n",
    "            super().__init__()\n",
    "            self.input_size = num_features\n",
    "            self.feature_nns = nn.ModuleList([SimpleFeatureNN(num_features, num_classes) for _ in range(num_features)])\n",
    "            self.bias = nn.Parameter(torch.tensor([0.5, 0.6, 0.7]))  # Bias for each class\n",
    "\n",
    "        def forward(self, x):\n",
    "            input_fe = self._feature_nns(x)\n",
    "            print('-----------------')\n",
    "            print(input_fe)\n",
    "            # Collect outputs from each feature network\n",
    "            f_out = torch.stack(input_fe, dim=-1)  # Shape: [batch_size, num_classes, num_features]\n",
    "            print('-----------------')\n",
    "            print(f_out)\n",
    "            # Sum across features\n",
    "            f_out_sum = f_out.sum(dim=-1)  # Shape: [batch_size, num_classes]\n",
    "            print('-----------------')\n",
    "            print(f_out_sum)\n",
    "            # Add bias\n",
    "            output = f_out_sum + self.bias\n",
    "            print('-----------------')\n",
    "            print(output)\n",
    "            # Apply softmax to get class probabilities\n",
    "            output = torch.softmax(output, dim=-1)\n",
    "            print('-----------------')\n",
    "            print(output)\n",
    "\n",
    "            return output, f_out\n",
    "\n",
    "        def _feature_nns(self, x):\n",
    "            return [self.feature_nns[i](x[:, i].unsqueeze(-1)) for i in range(self.input_size)]\n",
    "\n",
    "    # Step 3: Test the Model with a Simple Input\n",
    "\n",
    "    # Define a simple input tensor with 2 features for 1 sample (batch_size = 1)\n",
    "    x_input = torch.tensor([[1.0, 2.0, 1.5, 2.5, 3.0]])  # Shape: [1, 2] (1 sample, 2 features)\n",
    "    print(x_input)\n",
    "    # Initialize the simple model\n",
    "    model = SimpleNeuralAdditiveModel(num_features=5, num_classes=3)\n",
    "\n",
    "    # Perform a forward pass\n",
    "    output, f_out = model(x_input)"
   ]
  },
  {
   "cell_type": "code",
   "execution_count": 80,
   "metadata": {},
   "outputs": [
    {
     "name": "stderr",
     "output_type": "stream",
     "text": [
      "<ipython-input-80-fcd7a1a4c170>:24: UserWarning: To copy construct from a tensor, it is recommended to use sourceTensor.clone().detach() or sourceTensor.clone().detach().requires_grad_(True), rather than torch.tensor(sourceTensor).\n",
      "  train_dataset = TensorDataset(torch.tensor(x_data), torch.tensor(y_data))\n"
     ]
    }
   ],
   "source": [
    "input_size = x_data.shape[-1]\n",
    "shallow_units = 500\n",
    "hidden_units = (300, 100)\n",
    "\n",
    "model = NeuralAdditiveModel(input_size=input_size,\n",
    "                 shallow_units=shallow_units,\n",
    "                 hidden_units=hidden_units,\n",
    "                 shallow_layer = ExULayer,\n",
    "                 hidden_layer = ReLULayer,\n",
    "                 feature_dropout = 0.0,\n",
    "                 hidden_dropout = 0.0,\n",
    "                 )\n",
    "\n",
    "lr=0.4\n",
    "optimizer = torch.optim.AdamW(model.parameters(),\n",
    "                                  lr=lr,\n",
    "                                  weight_decay=0.0\n",
    "                             )\n",
    "#criterion = torch.nn.MSELoss()\n",
    "criterion = penalized_mse\n",
    "scheduler = torch.optim.lr_scheduler.OneCycleLR(optimizer, max_lr=0.5, steps_per_epoch=100, epochs=1000)\n",
    "#StepLR(optimizer, gamma=1, step_size=1)\n",
    "\n",
    "train_dataset = TensorDataset(torch.tensor(x_data), torch.tensor(y_data))\n",
    "train_loader = DataLoader(train_dataset, batch_size=len(train_dataset), shuffle=False)"
   ]
  },
  {
   "cell_type": "code",
   "execution_count": 89,
   "metadata": {},
   "outputs": [
    {
     "name": "stderr",
     "output_type": "stream",
     "text": [
      "train (100/5000) | loss = 31.83157: 100%|████████████████████████████████████████████████| 1/1 [00:00<00:00, 12.87it/s]\n",
      "train (200/5000) | loss = 31.80177: 100%|████████████████████████████████████████████████| 1/1 [00:00<00:00,  9.38it/s]\n",
      "train (300/5000) | loss = 31.78449: 100%|████████████████████████████████████████████████| 1/1 [00:00<00:00, 12.74it/s]\n",
      "train (400/5000) | loss = 31.77496: 100%|████████████████████████████████████████████████| 1/1 [00:00<00:00, 11.61it/s]\n",
      "train (500/5000) | loss = 31.76996: 100%|████████████████████████████████████████████████| 1/1 [00:00<00:00, 12.42it/s]\n",
      "train (600/5000) | loss = 31.76748: 100%|████████████████████████████████████████████████| 1/1 [00:00<00:00, 12.91it/s]\n",
      "train (700/5000) | loss = 31.76634: 100%|████████████████████████████████████████████████| 1/1 [00:00<00:00, 13.87it/s]\n",
      "train (800/5000) | loss = 31.76584: 100%|████████████████████████████████████████████████| 1/1 [00:00<00:00,  9.98it/s]\n",
      "train (900/5000) | loss = 31.76563: 100%|████████████████████████████████████████████████| 1/1 [00:00<00:00, 12.69it/s]\n",
      "train (1000/5000) | loss = 31.76556: 100%|███████████████████████████████████████████████| 1/1 [00:00<00:00, 12.43it/s]\n",
      "train (1100/5000) | loss = 31.76553: 100%|███████████████████████████████████████████████| 1/1 [00:00<00:00, 12.39it/s]\n",
      "train (1200/5000) | loss = 31.76552: 100%|███████████████████████████████████████████████| 1/1 [00:00<00:00,  9.90it/s]\n",
      "train (1300/5000) | loss = 31.76552: 100%|███████████████████████████████████████████████| 1/1 [00:00<00:00, 11.24it/s]\n",
      "train (1400/5000) | loss = 31.76552: 100%|███████████████████████████████████████████████| 1/1 [00:00<00:00,  9.74it/s]\n",
      "train (1500/5000) | loss = 31.76552: 100%|███████████████████████████████████████████████| 1/1 [00:00<00:00, 11.93it/s]\n",
      "train (1600/5000) | loss = 31.76552: 100%|███████████████████████████████████████████████| 1/1 [00:00<00:00, 10.43it/s]\n",
      "train (1700/5000) | loss = 31.76552: 100%|███████████████████████████████████████████████| 1/1 [00:00<00:00, 10.82it/s]\n",
      "train (1800/5000) | loss = 31.76552: 100%|███████████████████████████████████████████████| 1/1 [00:00<00:00, 10.66it/s]\n",
      "train (1900/5000) | loss = 31.76552: 100%|███████████████████████████████████████████████| 1/1 [00:00<00:00,  9.52it/s]\n",
      "train (2000/5000) | loss = 31.76552: 100%|███████████████████████████████████████████████| 1/1 [00:00<00:00, 10.12it/s]\n",
      "train (2100/5000) | loss = 31.76552: 100%|███████████████████████████████████████████████| 1/1 [00:00<00:00,  9.03it/s]\n",
      "train (2200/5000) | loss = 31.76552: 100%|███████████████████████████████████████████████| 1/1 [00:00<00:00, 15.90it/s]\n",
      "train (2300/5000) | loss = 31.76552: 100%|███████████████████████████████████████████████| 1/1 [00:00<00:00, 11.79it/s]\n",
      "train (2400/5000) | loss = 31.76552: 100%|███████████████████████████████████████████████| 1/1 [00:00<00:00, 11.95it/s]\n",
      "train (2500/5000) | loss = 31.76552: 100%|███████████████████████████████████████████████| 1/1 [00:00<00:00, 11.94it/s]\n",
      "train (2600/5000) | loss = 31.76552: 100%|███████████████████████████████████████████████| 1/1 [00:00<00:00, 12.40it/s]\n",
      "train (2700/5000) | loss = 31.76552: 100%|███████████████████████████████████████████████| 1/1 [00:00<00:00, 11.32it/s]\n",
      "train (2800/5000) | loss = 31.76552: 100%|███████████████████████████████████████████████| 1/1 [00:00<00:00, 11.71it/s]\n",
      "train (2900/5000) | loss = 31.76552: 100%|███████████████████████████████████████████████| 1/1 [00:00<00:00, 12.31it/s]\n",
      "train (3000/5000) | loss = 31.76552: 100%|███████████████████████████████████████████████| 1/1 [00:00<00:00, 12.27it/s]\n",
      "train (3100/5000) | loss = 31.76552: 100%|███████████████████████████████████████████████| 1/1 [00:00<00:00, 10.15it/s]\n",
      "train (3200/5000) | loss = 31.76552: 100%|███████████████████████████████████████████████| 1/1 [00:00<00:00,  9.90it/s]\n",
      "train (3300/5000) | loss = 31.76552: 100%|███████████████████████████████████████████████| 1/1 [00:00<00:00, 11.03it/s]\n",
      "train (3400/5000) | loss = 31.76552: 100%|███████████████████████████████████████████████| 1/1 [00:00<00:00, 13.29it/s]\n",
      "train (3500/5000) | loss = 31.76552: 100%|███████████████████████████████████████████████| 1/1 [00:00<00:00, 11.75it/s]\n",
      "train (3600/5000) | loss = 31.76552: 100%|███████████████████████████████████████████████| 1/1 [00:00<00:00, 14.51it/s]\n",
      "train (3700/5000) | loss = 31.76552: 100%|███████████████████████████████████████████████| 1/1 [00:00<00:00, 12.02it/s]\n",
      "train (3800/5000) | loss = 31.76552: 100%|███████████████████████████████████████████████| 1/1 [00:00<00:00, 10.49it/s]\n",
      "train (3900/5000) | loss = 31.76552: 100%|███████████████████████████████████████████████| 1/1 [00:00<00:00, 11.28it/s]\n",
      "train (4000/5000) | loss = 31.76552: 100%|███████████████████████████████████████████████| 1/1 [00:00<00:00, 11.51it/s]\n",
      "train (4100/5000) | loss = 31.76552: 100%|███████████████████████████████████████████████| 1/1 [00:00<00:00, 11.23it/s]\n",
      "train (4200/5000) | loss = 31.76552: 100%|███████████████████████████████████████████████| 1/1 [00:00<00:00, 11.53it/s]\n",
      "train (4300/5000) | loss = 31.76552: 100%|███████████████████████████████████████████████| 1/1 [00:00<00:00, 13.31it/s]\n",
      "train (4400/5000) | loss = 31.76552: 100%|███████████████████████████████████████████████| 1/1 [00:00<00:00, 11.66it/s]\n",
      "train (4500/5000) | loss = 31.76552: 100%|███████████████████████████████████████████████| 1/1 [00:00<00:00, 12.74it/s]\n",
      "train (4600/5000) | loss = 31.76552: 100%|███████████████████████████████████████████████| 1/1 [00:00<00:00, 10.71it/s]\n",
      "train (4700/5000) | loss = 31.76552: 100%|███████████████████████████████████████████████| 1/1 [00:00<00:00,  8.97it/s]\n",
      "train (4800/5000) | loss = 31.76552: 100%|███████████████████████████████████████████████| 1/1 [00:00<00:00, 10.75it/s]\n",
      "train (4900/5000) | loss = 31.76552: 100%|███████████████████████████████████████████████| 1/1 [00:00<00:00, 11.29it/s]\n",
      "train (5000/5000) | loss = 31.76552: 100%|███████████████████████████████████████████████| 1/1 [00:00<00:00, 11.58it/s]\n"
     ]
    },
    {
     "data": {
      "image/png": "[encoded data removed]",
      "text/plain": [
       "<Figure size 864x432 with 1 Axes>"
      ]
     },
     "metadata": {
      "needs_background": "light"
     },
     "output_type": "display_data"
    }
   ],
   "source": [
    "def train_one_epoch(model, criterion, optimizer, data_loader, device, epoch, n_epochs, verbose=False):\n",
    "    pbar = tqdm.tqdm(enumerate(data_loader, start=1), total=len(data_loader), disable=not verbose)\n",
    "    total_loss = 0\n",
    "    for i, (x, y) in pbar:\n",
    "        x, y = x.to(device), y.to(device)\n",
    "        logits, fnns_out = model.forward(x)\n",
    "        loss = criterion(logits, y, fnns_out, feature_penalty=0.0)\n",
    "        #print(loss.item)\n",
    "        total_loss += loss.item()\n",
    "        #print(total_loss)\n",
    "        model.zero_grad()\n",
    "        loss.backward()\n",
    "        optimizer.step()\n",
    "        \n",
    "        pbar.set_description(f\"train ({epoch+1}/{n_epochs}) | loss = {total_loss:.5f}\")\n",
    "        \n",
    "    avg_loss = total_loss / len(data_loader)\n",
    "    wandb.log({\"loss\": avg_loss})\n",
    "    return avg_loss\n",
    "\n",
    "history = []\n",
    "n_epochs = 5000 #2000 #1000\n",
    "\n",
    "for epoch in range(n_epochs):\n",
    "    model = model.train()\n",
    "    verbose = (epoch + 1) % 100 == 0\n",
    "    total_loss = train_one_epoch(model, criterion, optimizer, train_loader, device, epoch, n_epochs, verbose=verbose)\n",
    "    \n",
    "    history.append(total_loss)\n",
    "#     if verbose:\n",
    "#         print(f\"Epoch {epoch + 1} | Total Loss: {total_loss:.5f}\")  \n",
    "        \n",
    "    scheduler.step()\n",
    "\n",
    "plt.figure(figsize=(12, 6))\n",
    "plt.plot(np.array(history))\n",
    "plt.legend(['Loss'])\n",
    "plt.ylim([0,20])\n",
    "plt.show()"
   ]
  },
  {
   "cell_type": "code",
   "execution_count": null,
   "metadata": {},
   "outputs": [],
   "source": [
    "def train_model(x_train, y_train, x_validate, y_validate, device):\n",
    "    model = NeuralAdditiveModel(\n",
    "        input_size=x_train.shape[-1],\n",
    "        shallow_units=nam.data_utils.calculate_n_units(x_train, FLAGS.n_basis_functions, FLAGS.units_multiplier),\n",
    "        hidden_units=list(map(int, FLAGS.hidden_units)),\n",
    "        shallow_layer=ExULayer if FLAGS.shallow_layer == \"exu\" else ReLULayer,\n",
    "        hidden_layer=ExULayer if FLAGS.hidden_layer == \"exu\" else ReLULayer,\n",
    "        hidden_dropout=FLAGS.dropout,\n",
    "        feature_dropout=FLAGS.feature_dropout).to(device)\n",
    "\n",
    "    optimizer = torch.optim.AdamW(model.parameters(),\n",
    "                                  lr=0.01,\n",
    "                                  weight_decay=0.01)\n",
    "    criterion = nam.metrics.penalized_mse if FLAGS.regression else nam.metrics.penalized_cross_entropy\n",
    "    scheduler = torch.optim.lr_scheduler.StepLR(optimizer, gamma=0.995, step_size=1)\n",
    "\n",
    "#     train_dataset = TensorDataset(torch.tensor(x_train), torch.tensor(y_train))\n",
    "#     train_loader = DataLoader(train_dataset, batch_size=FLAGS.batch_size, shuffle=True)\n",
    "#     validate_dataset = TensorDataset(torch.tensor(x_validate), torch.tensor(y_validate))\n",
    "#     validate_loader = DataLoader(validate_dataset, batch_size=FLAGS.batch_size, shuffle=True)\n",
    "\n",
    "#    n_tries = FLAGS.early_stopping_epochs\n",
    "#    best_validation_score, best_weights = 0, None\n",
    "\n",
    "    for epoch in range(5000):\n",
    "        model = model.train()\n",
    "        total_loss = train_one_epoch(model, criterion, optimizer, train_loader, device)\n",
    "        logging.info(f\"epoch {epoch} | train | {total_loss=}\")\n",
    "\n",
    "        scheduler.step()\n",
    "\n",
    "#         model = model.eval()\n",
    "#         metric, val_score = evaluate(model, validate_loader, device)\n",
    "#         logging.info(f\"epoch {epoch} | validate | {metric}={val_score}\")\n",
    "\n",
    "#         # early stopping\n",
    "#         if val_score <= best_validation_score and n_tries > 0:\n",
    "#             n_tries -= 1\n",
    "#             continue\n",
    "#         elif val_score <= best_validation_score:\n",
    "#             logging.info(f\"early stopping at epoch {epoch}\")\n",
    "#             break\n",
    "#         best_validation_score = val_score\n",
    "#         best_weights = copy.deepcopy(model.state_dict())\n",
    "\n",
    "#     model.load_state_dict(best_weights)\n",
    "\n",
    "    return model\n",
    "\n",
    "\n",
    "def train_one_epoch(model, criterion, optimizer, data_loader, device):\n",
    "    pbar = tqdm.tqdm(enumerate(data_loader, start=1), total=len(data_loader))\n",
    "    total_loss = 0\n",
    "    for i, (x, y) in pbar:\n",
    "        x, y = x.to(device), y.to(device)\n",
    "        logits, fnns_out = model.forward(x)\n",
    "        loss = criterion(logits, y, fnns_out, feature_penalty=FLAGS.output_regularization)\n",
    "        total_loss -= (total_loss / i) - (loss.item() / i)\n",
    "        model.zero_grad()\n",
    "        loss.backward()\n",
    "        optimizer.step()\n",
    "        pbar.set_description(f\"train | loss = {total_loss:.5f}\")\n",
    "    return total_loss"
   ]
  }
 ],
 "metadata": {
  "kernelspec": {
   "display_name": "Python 3",
   "language": "python",
   "name": "python3"
  },
  "language_info": {
   "codemirror_mode": {
    "name": "ipython",
    "version": 3
   },
   "file_extension": ".py",
   "mimetype": "text/x-python",
   "name": "python",
   "nbconvert_exporter": "python",
   "pygments_lexer": "ipython3",
   "version": "3.8.8"
  }
 },
 "nbformat": 4,
 "nbformat_minor": 2
}
