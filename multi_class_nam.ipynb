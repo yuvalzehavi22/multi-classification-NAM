{
 "cells": [
  {
   "cell_type": "code",
   "execution_count": 1,
   "metadata": {},
   "outputs": [],
   "source": [
    "import numpy as np\n",
    "from typing import Union, Iterable, Sized, Tuple\n",
    "import torch\n",
    "import torch.nn.functional as F\n",
    "from torch.distributions.uniform import Uniform\n",
    "import matplotlib.pyplot as plt\n",
    "import math\n",
    "import os\n",
    "import random\n",
    "import logging\n",
    "from torch.utils.data import TensorDataset, DataLoader\n",
    "from tqdm import tqdm\n",
    "from torch.optim.lr_scheduler import StepLR\n",
    "\n",
    "from data_processing.data_loader import *\n",
    "from model.activation_layers import ExULayer, ReLULayer, LipschitzMonotonicLayer\n",
    "from model.model_network import HierarchNeuralAdditiveModel\n",
    "from training.trainer import Trainer"
   ]
  },
  {
   "cell_type": "code",
   "execution_count": 2,
   "metadata": {},
   "outputs": [],
   "source": [
    "#!pip install wandb --upgrade"
   ]
  },
  {
   "cell_type": "code",
   "execution_count": 5,
   "metadata": {
    "scrolled": true
   },
   "outputs": [],
   "source": [
    "# import wandb\n",
    "# wandb.login()\n",
    "\n",
    "# run = wandb.init(\n",
    "#     project=\"nam-original\",\n",
    "#     notes=\"My first experiment\",\n",
    "#     tags=[\"baseline\"],\n",
    "# )"
   ]
  },
  {
   "cell_type": "code",
   "execution_count": 3,
   "metadata": {},
   "outputs": [
    {
     "name": "stdout",
     "output_type": "stream",
     "text": [
      "cuda:0\n"
     ]
    }
   ],
   "source": [
    "# Ensure deterministic behavior\n",
    "def seed_everything(seed):\n",
    "    random.seed(seed)\n",
    "    os.environ[\"PYTHONHASHSEED\"] = str(seed)\n",
    "    torch.manual_seed(seed)\n",
    "    torch.cuda.manual_seed(seed)\n",
    "    torch.backends.cudnn.deterministic = True\n",
    "    torch.backends.cudnn.benchmark = False\n",
    "\n",
    "# Device configuration\n",
    "device = torch.device(\"cuda:0\" if torch.cuda.is_available() else \"cpu\")\n",
    "print(device)"
   ]
  },
  {
   "cell_type": "code",
   "execution_count": 6,
   "metadata": {},
   "outputs": [
    {
     "name": "stdout",
     "output_type": "stream",
     "text": [
      "torch.Size([100, 10])\n",
      "torch.Size([100, 4])\n",
      "torch.Size([100, 2])\n",
      "Train size: 80 Val size: 20\n"
     ]
    }
   ],
   "source": [
    "# Generate synthetic data for Phase 1\n",
    "X, y_phase1 = SyntheticDatasetGenerator.get_synthetic_data_phase1(100, 10)\n",
    " \n",
    "# Generate synthetic targets for Phase 2 based on the outputs of Phase 1\n",
    "y_phase2 = SyntheticDatasetGenerator.get_synthetic_data_phase2(y_phase1)\n",
    "\n",
    "# Initialize DataLoaderWrapper with 20% validation split\n",
    "dataloader_wrapper = DataLoaderWrapper(X, y_phase2, val_split=0.2)\n",
    "\n",
    "# Create DataLoaders\n",
    "train_loader, val_loader = dataloader_wrapper.create_dataloaders()\n",
    "\n",
    "# Print the size of training and validation datasets\n",
    "print(\"Train size:\", len(train_loader.dataset), \"Val size:\", len(val_loader.dataset))\n",
    "\n",
    "\n",
    "model = HierarchNeuralAdditiveModel(num_inputs=10, \n",
    "                                    output_dim = 2, \n",
    "                                    latent_var_dim = 4, \n",
    "                                    task_type = 'regression', \n",
    "                                    hierarch_net = True,\n",
    "                                    first_layer_phase1 = 'ReLU',\n",
    "                                    hidden_layer_phase1 = 'ReLU',\n",
    "                                    first_layer_phase2 = 'LipschitzMonotonic',\n",
    "                                    hidden_layer_phase2 = 'LipschitzMonotonic',\n",
    "                                    shallow_phase1 = False,\n",
    "                                    shallow_phase2 = False\n",
    "                                    ).to(device)"
   ]
  },
  {
   "cell_type": "code",
   "execution_count": 6,
   "metadata": {},
   "outputs": [
    {
     "name": "stderr",
     "output_type": "stream",
     "text": [
      " 50%|█████     | 1/2 [00:00<00:00,  8.48it/s]"
     ]
    },
    {
     "name": "stdout",
     "output_type": "stream",
     "text": [
      "x: torch.Size([32, 10])\n",
      "latent_outputs: torch.Size([32, 4])\n",
      "f_out: torch.Size([32, 4, 10])\n",
      "outputs: torch.Size([32, 2])\n",
      "lat_f_out: torch.Size([32, 2, 4])\n",
      "x: torch.Size([32, 10])\n",
      "latent_outputs: torch.Size([32, 4])\n",
      "f_out: torch.Size([32, 4, 10])\n",
      "outputs: torch.Size([32, 2])\n",
      "lat_f_out: torch.Size([32, 2, 4])\n",
      "x: torch.Size([16, 10])\n",
      "latent_outputs: torch.Size([16, 4])\n",
      "f_out: torch.Size([16, 4, 10])\n",
      "outputs: torch.Size([16, 2])\n",
      "lat_f_out: torch.Size([16, 2, 4])\n",
      "Epoch 0 | Total Loss: 1243.19336\n",
      "x: torch.Size([32, 10])\n",
      "latent_outputs: torch.Size([32, 4])\n",
      "f_out: torch.Size([32, 4, 10])\n",
      "outputs: torch.Size([32, 2])\n",
      "lat_f_out: torch.Size([32, 2, 4])\n",
      "x: torch.Size([32, 10])\n",
      "latent_outputs: torch.Size([32, 4])\n",
      "f_out: torch.Size([32, 4, 10])\n",
      "outputs: torch.Size([32, 2])\n",
      "lat_f_out: torch.Size([32, 2, 4])\n"
     ]
    },
    {
     "name": "stderr",
     "output_type": "stream",
     "text": [
      "100%|██████████| 2/2 [00:00<00:00,  7.71it/s]"
     ]
    },
    {
     "name": "stdout",
     "output_type": "stream",
     "text": [
      "x: torch.Size([16, 10])\n",
      "latent_outputs: torch.Size([16, 4])\n",
      "f_out: torch.Size([16, 4, 10])\n",
      "outputs: torch.Size([16, 2])\n",
      "lat_f_out: torch.Size([16, 2, 4])\n"
     ]
    },
    {
     "name": "stderr",
     "output_type": "stream",
     "text": [
      "\n"
     ]
    }
   ],
   "source": [
    "# Example configuration\n",
    "config = {\n",
    "    'epochs': 2,  # Number of epochs\n",
    "    'learning_rate': 0.1,\n",
    "    'weight_decay': 0.001\n",
    "}\n",
    "\n",
    "# Example optimizer (Adam)\n",
    "optimizer = torch.optim.Adam(model.parameters(),\n",
    "                                 lr=config['learning_rate'],\n",
    "                                 weight_decay=config['weight_decay'],\n",
    "                                )\n",
    "\n",
    "# Example learning rate scheduler\n",
    "lr_scheduler = StepLR(optimizer, step_size=10, gamma=0.1)\n",
    "\n",
    "\n",
    "# Initialize the Trainer class\n",
    "trainer = Trainer(\n",
    "    model=model,\n",
    "    optimizer=optimizer,\n",
    "    lr_scheduler=lr_scheduler,\n",
    "    l1_lambda_phase1=0.001,  # Example L1 regularization for phase 1\n",
    "    l2_lambda_phase1=0.001   # Example L2 regularization for phase 1\n",
    ")\n",
    "\n",
    "# Run the training phase\n",
    "loss_history = trainer.train(train_loader, config)"
   ]
  },
  {
   "cell_type": "markdown",
   "metadata": {},
   "source": [
    "# Dataset"
   ]
  },
  {
   "cell_type": "code",
   "execution_count": 45,
   "metadata": {},
   "outputs": [],
   "source": [
    "def get_synthetic_data_phase1(num_exp=10, in_features=10):\n",
    "    # Simulate independent variables, x0,...,x4 from a Uniform distribution on [−1, 1]\n",
    "    X_uniform = Uniform(-1, 1).sample((num_exp, in_features-5))\n",
    "    \n",
    "    # Simulate features x5 and x6 from a Normal distribution with mean=0 and std=1\n",
    "    X_normal = torch.normal(0, 1, (num_exp, 5))\n",
    "    \n",
    "    # Combine the uniform and normal features\n",
    "    X = torch.cat([X_uniform, X_normal], dim=1)\n",
    "    print(X.shape)\n",
    "    \n",
    "    # creating y_1\n",
    "    y_1 = X[:, 0] + 0.5*(3*(X[:, 1]**2)-1) + 0.5*(X[:, 2]**3)\n",
    "    y_1 = y_1.reshape(-1, 1)\n",
    "    #print(y_1.shape)\n",
    "    \n",
    "    # creating y_2\n",
    "    y_2 = (1/3) * torch.log(100 * X[:, 5].abs()) + torch.sin(5 * X[:, 6])\n",
    "    y_2 = y_2.reshape(-1, 1)\n",
    "    #print(y_2.shape)\n",
    "    \n",
    "    # creating y_3\n",
    "    y_3 = -(3/4) * torch.exp(-4 * X[:, 7].abs()) + torch.cos(5 * X[:, 8])\n",
    "    y_3 = y_3.reshape(-1, 1)\n",
    "    \n",
    "    # creating y_4\n",
    "    y_4 = torch.sin(5 * X[:, 5]) + 0.5*(3*(X[:, 2]**2)-1)  \n",
    "    y_4 = y_4.reshape(-1, 1)\n",
    "    \n",
    "    # Stack all y_i to form the final target matrix\n",
    "    y = torch.cat([y_1, y_2, y_3, y_4], dim=1)\n",
    "    print(y.shape)\n",
    "    \n",
    "    return X, y\n",
    "\n",
    "\n",
    "def get_synthetic_data_phase2(X_input):\n",
    "    \n",
    "    # creating y_1\n",
    "    y_1 = 4*X_input[:, 0] + 0.5*X_input[:, 1]\n",
    "    y_1 = y_1.reshape(-1, 1)\n",
    "    #print(y_1.shape)\n",
    "    \n",
    "    # creating y_2\n",
    "    y_2 = (1/3) * X_input[:, 2] + 5 * X_input[:, 3]\n",
    "    y_2 = y_2.reshape(-1, 1)\n",
    "    #print(y_2.shape)\n",
    "    \n",
    "    # Stack all y_i to form the final target matrix\n",
    "    y = torch.cat([y_1, y_2], dim=1)\n",
    "    print(y.shape)\n",
    "    \n",
    "    return y\n",
    "\n",
    "\n",
    "def make_loader(X, y, batch_size):\n",
    "    dataset = TensorDataset(torch.tensor(X), torch.tensor(y))\n",
    "    loader = DataLoader(dataset, batch_size=batch_size, shuffle=True)\n",
    "    return loader"
   ]
  },
  {
   "cell_type": "code",
   "execution_count": 46,
   "metadata": {},
   "outputs": [
    {
     "name": "stdout",
     "output_type": "stream",
     "text": [
      "torch.Size([1, 10])\n",
      "torch.Size([1, 4])\n",
      "torch.Size([1, 2])\n"
     ]
    }
   ],
   "source": [
    "X, y = get_synthetic_data_phase1(num_exp=1, in_features=10)\n",
    "Y = get_synthetic_data_phase2(y)"
   ]
  },
  {
   "cell_type": "markdown",
   "metadata": {},
   "source": [
    "# Model architecture"
   ]
  },
  {
   "cell_type": "code",
   "execution_count": 47,
   "metadata": {},
   "outputs": [],
   "source": [
    "def truncated_normal_(tensor, mean: float = 0., std: float = 1.):\n",
    "    \"\"\"\n",
    "    Initializes a tensor with values from a truncated normal distribution\n",
    "    \"\"\"\n",
    "    size = tensor.shape\n",
    "    tmp = tensor.new_empty(size + (4,)).normal_()\n",
    "    valid = (tmp < 2) & (tmp > -2)\n",
    "    ind = valid.max(-1, keepdim=True)[1]\n",
    "    tensor.data.copy_(tmp.gather(-1, ind).squeeze(-1))\n",
    "    tensor.data.mul_(std).add_(mean)\n",
    "\n",
    "# ActivationLayer Class\n",
    "class ActivationLayer(torch.nn.Module):\n",
    "    \"\"\"\n",
    "    Abstract base class for layers with weights and biases\n",
    "    \"\"\"\n",
    "    def __init__(self,\n",
    "                 in_features: int,\n",
    "                 out_features: int):\n",
    "        super().__init__()\n",
    "        \n",
    "        self.weight = torch.nn.Parameter(torch.empty((in_features, out_features)))\n",
    "        self.bias = torch.nn.Parameter(torch.empty(in_features))\n",
    "\n",
    "    def forward(self, x):\n",
    "        raise NotImplementedError(\"abstract method called\")\n",
    "\n",
    "\n",
    "class ExULayer(ActivationLayer):\n",
    "    \"\"\"\n",
    "    Custom layer using exponential activation with weight and bias initialization\n",
    "    \"\"\"\n",
    "    def __init__(self,\n",
    "                 in_features: int,\n",
    "                 out_features: int):\n",
    "        super().__init__(in_features, out_features)\n",
    "        \n",
    "        truncated_normal_(self.weight, mean=4.0, std=0.5)\n",
    "        truncated_normal_(self.bias, std=0.5)\n",
    "\n",
    "    def forward(self, x): \n",
    "        exu = (x - self.bias) @ torch.exp(self.weight)\n",
    "        output = torch.clip(exu, 0, 1)\n",
    "        \n",
    "        if 0:\n",
    "            print('ExULayer_weights:', self.weight.detach().cpu().numpy())\n",
    "            print('ExULayer Normalization L1\\n:', torch.linalg.norm(self.weight.t(), 1, dim=0))\n",
    "            print('ExULayer Normalization L2\\n:',torch.linalg.norm(self.weight.t(), 2, dim=0))\n",
    "        \n",
    "        return output\n",
    "\n",
    "\n",
    "class ReLULayer(ActivationLayer):\n",
    "    \"\"\"\n",
    "    Custom layer using ReLU activation with Xavier weight initialization\n",
    "    \"\"\"\n",
    "    def __init__(self,\n",
    "                 in_features: int,\n",
    "                 out_features: int):\n",
    "        super().__init__(in_features, out_features)\n",
    "        \n",
    "        torch.nn.init.xavier_uniform_(self.weight)\n",
    "        truncated_normal_(self.bias, std=0.5)\n",
    "\n",
    "    def forward(self, x):\n",
    "        output = F.relu((x - self.bias) @ self.weight)\n",
    "        \n",
    "        if 0:\n",
    "            print('ReLULayer_weights:', self.weight.detach().cpu().numpy())\n",
    "            print('ReLULayer Normalization L1:\\n', torch.linalg.norm(self.weight.t(), 1, dim=0))\n",
    "            print('ReLULayer Normalization L2:\\n',torch.linalg.norm(self.weight.t(), 2, dim=0))\n",
    "        \n",
    "        return output\n",
    "\n",
    "\n",
    "# FeatureNN Class\n",
    "class FeatureNN(torch.nn.Module):\n",
    "    \"\"\"\n",
    "    Neural network for individual features\n",
    "    \"\"\"\n",
    "    def __init__(self,\n",
    "                 shallow_units: int,\n",
    "                 hidden_units: Tuple = (),\n",
    "                 shallow_layer: ActivationLayer = ExULayer,\n",
    "                 hidden_layer: ActivationLayer = ReLULayer,\n",
    "                 dropout: float = .5,\n",
    "                 output_dim: int = 1,\n",
    "                 ):\n",
    "        super().__init__()\n",
    "        \n",
    "        # First (shallow) layer\n",
    "        self.shallow_layer = shallow_layer(1, shallow_units)\n",
    "        \n",
    "        # Hidden layers\n",
    "        self.hidden_layers = torch.nn.ModuleList()\n",
    "        in_units = shallow_units\n",
    "        for out_units in hidden_units:\n",
    "            self.hidden_layers.append(hidden_layer(in_units, out_units))\n",
    "            in_units = out_units  # Update in_units to the output of the last layer\n",
    "        \n",
    "        # Dropout layer\n",
    "        self.dropout = torch.nn.Dropout(p=dropout)\n",
    "        \n",
    "        # Output linear layer\n",
    "        self.output_layer = torch.nn.Linear(in_units, output_dim, bias=False)\n",
    "        torch.nn.init.xavier_uniform_(self.output_layer.weight)\n",
    "\n",
    "    def forward(self, x):\n",
    "        x = x.unsqueeze(1)\n",
    "        \n",
    "        # Pass through the shallow layer\n",
    "        x = self.shallow_layer(x)\n",
    "        #x = self.dropout(x)\n",
    "        \n",
    "        # Pass through each hidden layer with dropout\n",
    "        for layer in self.hidden_layers:\n",
    "            x = layer(x)\n",
    "            x = self.dropout(x)\n",
    "            \n",
    "        # Final output layer\n",
    "        x = self.output_layer(x)\n",
    "        \n",
    "        return x\n",
    "\n",
    "\n",
    "# Neural Additive Model (NAM) Class\n",
    "class NeuralAdditiveModel(torch.nn.Module):\n",
    "    \"\"\"\n",
    "    Combines multiple feature networks, each processing one feature, with dropout and bias\n",
    "    \"\"\"\n",
    "    def __init__(self,\n",
    "                 input_size: int,\n",
    "                 shallow_units: int,\n",
    "                 hidden_units: Tuple = (),\n",
    "                 shallow_layer: ActivationLayer = ExULayer,\n",
    "                 hidden_layer: ActivationLayer = ReLULayer,\n",
    "                 hidden_dropout: float = 0.,\n",
    "                 feature_dropout: float = 0.,\n",
    "                 output_dim: int = 1,\n",
    "                 ):\n",
    "        super().__init__()\n",
    "        \n",
    "        self.input_size = input_size\n",
    "\n",
    "        if isinstance(shallow_units, list):\n",
    "            assert len(shallow_units) == input_size\n",
    "        elif isinstance(shallow_units, int):\n",
    "            shallow_units = [shallow_units for _ in range(input_size)]\n",
    "\n",
    "        self.feature_nns = torch.nn.ModuleList([\n",
    "            FeatureNN(shallow_units=shallow_units[i],\n",
    "                      hidden_units=hidden_units,\n",
    "                      shallow_layer=shallow_layer,\n",
    "                      hidden_layer=hidden_layer,\n",
    "                      dropout=hidden_dropout,\n",
    "                      output_dim=output_dim)\n",
    "            for i in range(input_size)\n",
    "        ])\n",
    "        self.feature_dropout = torch.nn.Dropout(p=feature_dropout)\n",
    "        self.bias = torch.nn.Parameter(torch.zeros(output_dim))\n",
    "        \n",
    "    def forward(self, x):\n",
    "        # Collect outputs from each feature network\n",
    "        FeatureNN_out = self._feature_nns(x)\n",
    "        \n",
    "        # Concatenates a sequence of tensors along the latent features dimension \n",
    "        f_out = torch.stack(FeatureNN_out, dim=-1)\n",
    "        \n",
    "        # Sum across features and add bias\n",
    "        f_out = self.feature_dropout(f_out)\n",
    "        outputs = f_out.sum(axis=-1) + self.bias\n",
    "        \n",
    "        if 0:\n",
    "            print('final output', outputs)\n",
    "            print('f_out', f_out)\n",
    "        return outputs, f_out\n",
    "\n",
    "    def _feature_nns(self, x):\n",
    "        return [self.feature_nns[i](x[:, i]) for i in range(self.input_size)]\n",
    "    \n",
    "\n",
    "# Hirarchical Neural Additive Model Class\n",
    "class HierarchNeuralAdditiveModel(torch.nn.Module):\n",
    "    \"\"\"\n",
    "    Hierarch Neural Additive Model\n",
    "    \"\"\"\n",
    "    def __init__(self,\n",
    "                 input_size: int,\n",
    "                 shallow_units: int,\n",
    "                 hidden_units: Tuple = (),\n",
    "                 shallow_layer: ActivationLayer = ExULayer,\n",
    "                 hidden_layer: ActivationLayer = ReLULayer,\n",
    "                 hidden_dropout: float = 0.,\n",
    "                 feature_dropout: float = 0.,\n",
    "                 latent_feature_dropout: float = 0.,\n",
    "                 latent_var_dim: int = 1,\n",
    "                 output_dim: int = 1,\n",
    "                 ):\n",
    "        super().__init__()\n",
    "\n",
    "        self.NAM_features = NeuralAdditiveModel(input_size=input_size,\n",
    "                                shallow_units= shallow_units,\n",
    "                                hidden_units= hidden_units,\n",
    "                                shallow_layer= shallow_layer,\n",
    "                                hidden_layer= hidden_layer,\n",
    "                                hidden_dropout= hidden_dropout,\n",
    "                                feature_dropout= feature_dropout,\n",
    "                                output_dim = latent_var_dim,\n",
    "                                )\n",
    "       \n",
    "\n",
    "        self.NAM_output = NeuralAdditiveModel(input_size=latent_var_dim,\n",
    "                                shallow_units= shallow_units,\n",
    "                                hidden_units= hidden_units,\n",
    "                                shallow_layer= shallow_layer,\n",
    "                                hidden_layer= hidden_layer,\n",
    "                                hidden_dropout= hidden_dropout,\n",
    "                                feature_dropout= latent_feature_dropout,\n",
    "                                output_dim = output_dim,\n",
    "                                )\n",
    "\n",
    "    def forward(self, x):\n",
    "        \n",
    "        latent_outputs, f_out = self.NAM_features(x)\n",
    "\n",
    "        outputs, lat_f_out = self.NAM_output(latent_outputs)\n",
    "       \n",
    "         # Apply softmax to get class probabilities\n",
    "#         outputs = torch.softmax(outputs, dim=-1)\n",
    "\n",
    "        if 0:\n",
    "            print('x:', x.shape)\n",
    "            print('latent_outputs:',latent_outputs.shape)\n",
    "            print('f_out:',f_out.shape)\n",
    "            print('outputs:',outputs.shape)\n",
    "            print('lat_f_out:',lat_f_out.shape)  \n",
    "            \n",
    "        return outputs, lat_f_out"
   ]
  },
  {
   "cell_type": "markdown",
   "metadata": {},
   "source": [
    "# Loss"
   ]
  },
  {
   "cell_type": "code",
   "execution_count": 48,
   "metadata": {},
   "outputs": [],
   "source": [
    "# Loss function for regression\n",
    "def feature_loss(fnn_out, lambda_=0.):\n",
    "    return lambda_ * (fnn_out ** 2).sum() / fnn_out.shape[1]\n",
    "\n",
    "def penalized_mse(logits, truth, fnn_out, feature_penalty=0.0):\n",
    "    feat_loss = feature_loss(fnn_out, feature_penalty)\n",
    "    mse_loss = F.mse_loss(logits.view(-1), truth.view(-1))\n",
    "    loss = mse_loss+feat_loss\n",
    "    return loss\n",
    "\n",
    "def l1_penalty(params, l1_lambda):\n",
    "    l1_norm =  torch.stack([torch.linalg.norm(p, 1) for p in params], dim=0).sum()\n",
    "    return l1_lambda*l1_norm\n",
    "\n",
    "def l2_penalty(params, l1_lambda):\n",
    "    l2_norm =  torch.stack([torch.linalg.norm(p, 2) for p in params], dim=0).sum()\n",
    "    return l1_lambda*l2_norm"
   ]
  },
  {
   "cell_type": "markdown",
   "metadata": {},
   "source": [
    "# Model training"
   ]
  },
  {
   "cell_type": "code",
   "execution_count": 49,
   "metadata": {},
   "outputs": [],
   "source": [
    "def train(model, loader, criterion, optimizer, config):\n",
    "    \n",
    "    # Run training and track with wandb\n",
    "#    total_batches = len(loader) * config['epochs']\n",
    "#    batch_ct = 0\n",
    "    loss_history = []\n",
    "\n",
    "    for epoch in tqdm(range(config['epochs'])):\n",
    "        epoch_loss_history = []\n",
    "        for _, (X, y) in enumerate(loader):\n",
    "            loss = train_batch(X, y, model, optimizer, criterion)\n",
    "#            batch_ct += 1\n",
    "            epoch_loss_history.append(loss)\n",
    "#             # Report metrics every 5th batch\n",
    "#             if ((batch_ct + 1) % 5) == 0:\n",
    "#                 print(f\"Epoch {epoch} | Batch {batch_ct + 1} | Total Loss: {loss:.5f}\")\n",
    "\n",
    "        avg_loss = sum(epoch_loss_history) / len(loader)\n",
    "        loss_history.append(avg_loss)\n",
    "    \n",
    "        if epoch%100==0:\n",
    "            print(f\"Epoch {epoch} | Total Loss: {avg_loss:.5f}\")\n",
    "        \n",
    "    return loss_history\n",
    "        \n",
    "def train_batch(X, y, model, optimizer, criterion):    \n",
    "    X, y = X.to(device), y.to(device)\n",
    "    # Forward pass\n",
    "    logits, fnns_out = model(X)\n",
    "    loss = criterion(logits, y, fnns_out, feature_penalty=0.0001)\n",
    "    \n",
    "    # Backward pass\n",
    "    optimizer.zero_grad()\n",
    "    loss.backward()\n",
    "\n",
    "    # Step with optimizer\n",
    "    optimizer.step()\n",
    "    \n",
    "    if 0:\n",
    "        print('predict outputs shape:',logits.shape)\n",
    "        print('true outputs shape:',y.shape)\n",
    "        print('fnns_out shape:',fnns_out.shape)\n",
    "\n",
    "    return loss"
   ]
  },
  {
   "cell_type": "markdown",
   "metadata": {},
   "source": [
    "# Define the Experiment"
   ]
  },
  {
   "cell_type": "code",
   "execution_count": 50,
   "metadata": {},
   "outputs": [],
   "source": [
    "# define experiment\n",
    "config = dict(\n",
    "    epochs=2000, #100\n",
    "    batch_size=1024, #128\n",
    "    learning_rate=0.0035,\n",
    "    weight_decay=0.0001,\n",
    "    num_exp = 5000,\n",
    "    in_features = 10,\n",
    "    shallow_units=20, #50\n",
    "    hidden_units=(64, 64, 32), #(100, 20)\n",
    "    feature_dropout=0.2,\n",
    "    latent_feature_dropout=0.2,\n",
    "    hidden_dropout=0.2,\n",
    "    latent_dim=4,\n",
    "    output_dim=2,\n",
    "    seed=42,\n",
    "    dataset=\"Uniform_distribution\",\n",
    "    architecture=\"multi_output_NAM\")"
   ]
  },
  {
   "cell_type": "code",
   "execution_count": 51,
   "metadata": {},
   "outputs": [],
   "source": [
    "# model_hir = HierarchNeuralAdditiveModel(input_size= config['in_features'],\n",
    "#                      shallow_units= config['shallow_units'],\n",
    "#                      hidden_units= config['hidden_units'],\n",
    "#                      shallow_layer = ExULayer,\n",
    "#                      hidden_layer = ReLULayer,\n",
    "#                      hidden_dropout = config['hidden_dropout'],\n",
    "#                      feature_dropout = config['feature_dropout'],\n",
    "#                      latent_feature_dropout = config['latent_feature_dropout'],\n",
    "#                      latent_var_dim = config['latent_dim'], \n",
    "#                      output_dim = config['output_dim']).to(device)\n",
    "\n",
    "# model = NeuralAdditiveModel(input_size= config['in_features'],\n",
    "#                  shallow_units= config['shallow_units'],\n",
    "#                  hidden_units= config['hidden_units'],\n",
    "#                  shallow_layer = ExULayer,\n",
    "#                  hidden_layer = ReLULayer,\n",
    "#                  hidden_dropout = config['hidden_dropout'],\n",
    "#                  feature_dropout = config['feature_dropout'],\n",
    "#                  output_dim = config['latent_dim'],           \n",
    "#                  ).to(device)\n",
    "\n",
    "# from torchsummary import summary\n",
    "# summary(model, (1,1))\n",
    "# dummy_input = torch.randn(10, 10)\n",
    "\n",
    "# output,_ = model(dummy_input)\n",
    "\n",
    "# # Create graph visualization\n",
    "# dot = make_dot(output, params=dict(model.named_parameters()))\n",
    "\n",
    "# # # Save the graph to a file\n",
    "# # dot.render(\"network_graph\", format=\"png\")\n",
    "\n",
    "# # Alternatively, view the graph\n",
    "# dot.view()"
   ]
  },
  {
   "cell_type": "code",
   "execution_count": 52,
   "metadata": {},
   "outputs": [],
   "source": [
    "def make(config):\n",
    "    \n",
    "    seed_everything(seed=config['seed'])\n",
    "    \n",
    "    # Make the data\n",
    "    X, y = get_synthetic_data_phase1(num_exp=config['num_exp'], in_features=config['in_features'])\n",
    "    Y = get_synthetic_data_phase2(y)\n",
    "\n",
    "    train_loader = make_loader(X, Y, batch_size=config['batch_size'])\n",
    "\n",
    "    # Make the model\n",
    "    model = HierarchNeuralAdditiveModel(input_size= config['in_features'],\n",
    "                     shallow_units= config['shallow_units'],\n",
    "                     hidden_units= config['hidden_units'],\n",
    "                     shallow_layer = ExULayer,\n",
    "                     hidden_layer = ReLULayer,\n",
    "                     hidden_dropout = config['hidden_dropout'],\n",
    "                     feature_dropout = config['feature_dropout'],\n",
    "                     latent_feature_dropout = config['latent_feature_dropout'],\n",
    "                     latent_var_dim = config['latent_dim'], \n",
    "                     output_dim = config['output_dim'],     \n",
    "                     ).to(device)\n",
    "    \n",
    "#     model = NeuralAdditiveModel(input_size= config['in_features'],\n",
    "#                      shallow_units= config['shallow_units'],\n",
    "#                      hidden_units= config['hidden_units'],\n",
    "#                      shallow_layer = ExULayer,\n",
    "#                      hidden_layer = ReLULayer,\n",
    "#                      hidden_dropout = config['hidden_dropout'],\n",
    "#                      feature_dropout = config['feature_dropout'],\n",
    "#                      output_dim = config['latent_dim'],           \n",
    "#                      ).to(device)\n",
    "    \n",
    "    # Make the loss and optimizer\n",
    "    criterion = penalized_mse\n",
    "    optimizer = torch.optim.Adam(model.parameters(),\n",
    "                                 lr=config['learning_rate'],\n",
    "                                 weight_decay=config['weight_decay'],\n",
    "                                )\n",
    "    \n",
    "    #scheduler = torch.optim.lr_scheduler.StepLR(optimizer, gamma=0.995, step_size=1)\n",
    "    \n",
    "    return model, train_loader, criterion, optimizer"
   ]
  },
  {
   "cell_type": "markdown",
   "metadata": {},
   "source": [
    "# Run"
   ]
  },
  {
   "cell_type": "code",
   "execution_count": 53,
   "metadata": {
    "scrolled": false
   },
   "outputs": [
    {
     "name": "stdout",
     "output_type": "stream",
     "text": [
      "torch.Size([5000, 10])\n",
      "torch.Size([5000, 4])\n",
      "torch.Size([5000, 2])\n"
     ]
    },
    {
     "name": "stderr",
     "output_type": "stream",
     "text": [
      "<ipython-input-45-2f7e99239638>:57: UserWarning: To copy construct from a tensor, it is recommended to use sourceTensor.clone().detach() or sourceTensor.clone().detach().requires_grad_(True), rather than torch.tensor(sourceTensor).\n",
      "  dataset = TensorDataset(torch.tensor(X), torch.tensor(y))\n"
     ]
    },
    {
     "data": {
      "text/plain": [
       "HierarchNeuralAdditiveModel(\n",
       "  (NAM_features): NeuralAdditiveModel(\n",
       "    (feature_nns): ModuleList(\n",
       "      (0): FeatureNN(\n",
       "        (shallow_layer): ExULayer()\n",
       "        (hidden_layers): ModuleList(\n",
       "          (0): ReLULayer()\n",
       "          (1): ReLULayer()\n",
       "          (2): ReLULayer()\n",
       "        )\n",
       "        (dropout): Dropout(p=0.2, inplace=False)\n",
       "        (output_layer): Linear(in_features=32, out_features=4, bias=False)\n",
       "      )\n",
       "      (1): FeatureNN(\n",
       "        (shallow_layer): ExULayer()\n",
       "        (hidden_layers): ModuleList(\n",
       "          (0): ReLULayer()\n",
       "          (1): ReLULayer()\n",
       "          (2): ReLULayer()\n",
       "        )\n",
       "        (dropout): Dropout(p=0.2, inplace=False)\n",
       "        (output_layer): Linear(in_features=32, out_features=4, bias=False)\n",
       "      )\n",
       "      (2): FeatureNN(\n",
       "        (shallow_layer): ExULayer()\n",
       "        (hidden_layers): ModuleList(\n",
       "          (0): ReLULayer()\n",
       "          (1): ReLULayer()\n",
       "          (2): ReLULayer()\n",
       "        )\n",
       "        (dropout): Dropout(p=0.2, inplace=False)\n",
       "        (output_layer): Linear(in_features=32, out_features=4, bias=False)\n",
       "      )\n",
       "      (3): FeatureNN(\n",
       "        (shallow_layer): ExULayer()\n",
       "        (hidden_layers): ModuleList(\n",
       "          (0): ReLULayer()\n",
       "          (1): ReLULayer()\n",
       "          (2): ReLULayer()\n",
       "        )\n",
       "        (dropout): Dropout(p=0.2, inplace=False)\n",
       "        (output_layer): Linear(in_features=32, out_features=4, bias=False)\n",
       "      )\n",
       "      (4): FeatureNN(\n",
       "        (shallow_layer): ExULayer()\n",
       "        (hidden_layers): ModuleList(\n",
       "          (0): ReLULayer()\n",
       "          (1): ReLULayer()\n",
       "          (2): ReLULayer()\n",
       "        )\n",
       "        (dropout): Dropout(p=0.2, inplace=False)\n",
       "        (output_layer): Linear(in_features=32, out_features=4, bias=False)\n",
       "      )\n",
       "      (5): FeatureNN(\n",
       "        (shallow_layer): ExULayer()\n",
       "        (hidden_layers): ModuleList(\n",
       "          (0): ReLULayer()\n",
       "          (1): ReLULayer()\n",
       "          (2): ReLULayer()\n",
       "        )\n",
       "        (dropout): Dropout(p=0.2, inplace=False)\n",
       "        (output_layer): Linear(in_features=32, out_features=4, bias=False)\n",
       "      )\n",
       "      (6): FeatureNN(\n",
       "        (shallow_layer): ExULayer()\n",
       "        (hidden_layers): ModuleList(\n",
       "          (0): ReLULayer()\n",
       "          (1): ReLULayer()\n",
       "          (2): ReLULayer()\n",
       "        )\n",
       "        (dropout): Dropout(p=0.2, inplace=False)\n",
       "        (output_layer): Linear(in_features=32, out_features=4, bias=False)\n",
       "      )\n",
       "      (7): FeatureNN(\n",
       "        (shallow_layer): ExULayer()\n",
       "        (hidden_layers): ModuleList(\n",
       "          (0): ReLULayer()\n",
       "          (1): ReLULayer()\n",
       "          (2): ReLULayer()\n",
       "        )\n",
       "        (dropout): Dropout(p=0.2, inplace=False)\n",
       "        (output_layer): Linear(in_features=32, out_features=4, bias=False)\n",
       "      )\n",
       "      (8): FeatureNN(\n",
       "        (shallow_layer): ExULayer()\n",
       "        (hidden_layers): ModuleList(\n",
       "          (0): ReLULayer()\n",
       "          (1): ReLULayer()\n",
       "          (2): ReLULayer()\n",
       "        )\n",
       "        (dropout): Dropout(p=0.2, inplace=False)\n",
       "        (output_layer): Linear(in_features=32, out_features=4, bias=False)\n",
       "      )\n",
       "      (9): FeatureNN(\n",
       "        (shallow_layer): ExULayer()\n",
       "        (hidden_layers): ModuleList(\n",
       "          (0): ReLULayer()\n",
       "          (1): ReLULayer()\n",
       "          (2): ReLULayer()\n",
       "        )\n",
       "        (dropout): Dropout(p=0.2, inplace=False)\n",
       "        (output_layer): Linear(in_features=32, out_features=4, bias=False)\n",
       "      )\n",
       "    )\n",
       "    (feature_dropout): Dropout(p=0.2, inplace=False)\n",
       "  )\n",
       "  (NAM_output): NeuralAdditiveModel(\n",
       "    (feature_nns): ModuleList(\n",
       "      (0): FeatureNN(\n",
       "        (shallow_layer): ExULayer()\n",
       "        (hidden_layers): ModuleList(\n",
       "          (0): ReLULayer()\n",
       "          (1): ReLULayer()\n",
       "          (2): ReLULayer()\n",
       "        )\n",
       "        (dropout): Dropout(p=0.2, inplace=False)\n",
       "        (output_layer): Linear(in_features=32, out_features=2, bias=False)\n",
       "      )\n",
       "      (1): FeatureNN(\n",
       "        (shallow_layer): ExULayer()\n",
       "        (hidden_layers): ModuleList(\n",
       "          (0): ReLULayer()\n",
       "          (1): ReLULayer()\n",
       "          (2): ReLULayer()\n",
       "        )\n",
       "        (dropout): Dropout(p=0.2, inplace=False)\n",
       "        (output_layer): Linear(in_features=32, out_features=2, bias=False)\n",
       "      )\n",
       "      (2): FeatureNN(\n",
       "        (shallow_layer): ExULayer()\n",
       "        (hidden_layers): ModuleList(\n",
       "          (0): ReLULayer()\n",
       "          (1): ReLULayer()\n",
       "          (2): ReLULayer()\n",
       "        )\n",
       "        (dropout): Dropout(p=0.2, inplace=False)\n",
       "        (output_layer): Linear(in_features=32, out_features=2, bias=False)\n",
       "      )\n",
       "      (3): FeatureNN(\n",
       "        (shallow_layer): ExULayer()\n",
       "        (hidden_layers): ModuleList(\n",
       "          (0): ReLULayer()\n",
       "          (1): ReLULayer()\n",
       "          (2): ReLULayer()\n",
       "        )\n",
       "        (dropout): Dropout(p=0.2, inplace=False)\n",
       "        (output_layer): Linear(in_features=32, out_features=2, bias=False)\n",
       "      )\n",
       "    )\n",
       "    (feature_dropout): Dropout(p=0.2, inplace=False)\n",
       "  )\n",
       ")"
      ]
     },
     "execution_count": 53,
     "metadata": {},
     "output_type": "execute_result"
    }
   ],
   "source": [
    "# make the model, data, and optimization problem\n",
    "model, train_loader, criterion, optimizer = make(config)\n",
    "model"
   ]
  },
  {
   "cell_type": "code",
   "execution_count": 54,
   "metadata": {},
   "outputs": [
    {
     "name": "stderr",
     "output_type": "stream",
     "text": [
      "  0%|                                                                                     | 1/2000 [00:00<25:59,  1.28it/s]"
     ]
    },
    {
     "name": "stdout",
     "output_type": "stream",
     "text": [
      "Epoch 0 | Total Loss: 15.32216\n"
     ]
    },
    {
     "name": "stderr",
     "output_type": "stream",
     "text": [
      "  5%|████▏                                                                              | 101/2000 [01:08<21:56,  1.44it/s]"
     ]
    },
    {
     "name": "stdout",
     "output_type": "stream",
     "text": [
      "Epoch 100 | Total Loss: 13.30928\n"
     ]
    },
    {
     "name": "stderr",
     "output_type": "stream",
     "text": [
      " 10%|████████▎                                                                          | 201/2000 [02:18<21:00,  1.43it/s]"
     ]
    },
    {
     "name": "stdout",
     "output_type": "stream",
     "text": [
      "Epoch 200 | Total Loss: 13.28039\n"
     ]
    },
    {
     "name": "stderr",
     "output_type": "stream",
     "text": [
      " 15%|████████████▍                                                                      | 301/2000 [03:30<20:38,  1.37it/s]"
     ]
    },
    {
     "name": "stdout",
     "output_type": "stream",
     "text": [
      "Epoch 300 | Total Loss: 13.27775\n"
     ]
    },
    {
     "name": "stderr",
     "output_type": "stream",
     "text": [
      " 20%|████████████████▋                                                                  | 401/2000 [04:51<23:59,  1.11it/s]"
     ]
    },
    {
     "name": "stdout",
     "output_type": "stream",
     "text": [
      "Epoch 400 | Total Loss: 13.27909\n"
     ]
    },
    {
     "name": "stderr",
     "output_type": "stream",
     "text": [
      " 25%|███████████████████                                                         | 501/2000 [64:52:57<47:13:35, 113.42s/it]"
     ]
    },
    {
     "name": "stdout",
     "output_type": "stream",
     "text": [
      "Epoch 500 | Total Loss: 13.26938\n"
     ]
    },
    {
     "name": "stderr",
     "output_type": "stream",
     "text": [
      " 30%|████████████████████████                                                        | 601/2000 [64:55:29<29:05,  1.25s/it]"
     ]
    },
    {
     "name": "stdout",
     "output_type": "stream",
     "text": [
      "Epoch 600 | Total Loss: 13.26983\n"
     ]
    },
    {
     "name": "stderr",
     "output_type": "stream",
     "text": [
      " 35%|████████████████████████████                                                    | 701/2000 [64:58:13<47:37,  2.20s/it]"
     ]
    },
    {
     "name": "stdout",
     "output_type": "stream",
     "text": [
      "Epoch 700 | Total Loss: 13.27388\n"
     ]
    },
    {
     "name": "stderr",
     "output_type": "stream",
     "text": [
      " 40%|████████████████████████████████                                                | 801/2000 [65:00:46<33:18,  1.67s/it]"
     ]
    },
    {
     "name": "stdout",
     "output_type": "stream",
     "text": [
      "Epoch 800 | Total Loss: 13.27215\n"
     ]
    },
    {
     "name": "stderr",
     "output_type": "stream",
     "text": [
      " 45%|████████████████████████████████████                                            | 901/2000 [65:03:11<23:54,  1.31s/it]"
     ]
    },
    {
     "name": "stdout",
     "output_type": "stream",
     "text": [
      "Epoch 900 | Total Loss: 13.27532\n"
     ]
    },
    {
     "name": "stderr",
     "output_type": "stream",
     "text": [
      " 50%|███████████████████████████████████████▌                                       | 1001/2000 [65:05:41<22:31,  1.35s/it]"
     ]
    },
    {
     "name": "stdout",
     "output_type": "stream",
     "text": [
      "Epoch 1000 | Total Loss: 13.29069\n"
     ]
    },
    {
     "name": "stderr",
     "output_type": "stream",
     "text": [
      " 55%|███████████████████████████████████████████▍                                   | 1101/2000 [65:08:12<23:40,  1.58s/it]"
     ]
    },
    {
     "name": "stdout",
     "output_type": "stream",
     "text": [
      "Epoch 1100 | Total Loss: 13.26554\n"
     ]
    },
    {
     "name": "stderr",
     "output_type": "stream",
     "text": [
      " 60%|███████████████████████████████████████████████▍                               | 1201/2000 [65:10:45<21:37,  1.62s/it]"
     ]
    },
    {
     "name": "stdout",
     "output_type": "stream",
     "text": [
      "Epoch 1200 | Total Loss: 13.27372\n"
     ]
    },
    {
     "name": "stderr",
     "output_type": "stream",
     "text": [
      " 65%|███████████████████████████████████████████████████▍                           | 1301/2000 [65:13:30<20:10,  1.73s/it]"
     ]
    },
    {
     "name": "stdout",
     "output_type": "stream",
     "text": [
      "Epoch 1300 | Total Loss: 13.26860\n"
     ]
    },
    {
     "name": "stderr",
     "output_type": "stream",
     "text": [
      " 70%|███████████████████████████████████████████████████████▎                       | 1401/2000 [65:16:27<16:22,  1.64s/it]"
     ]
    },
    {
     "name": "stdout",
     "output_type": "stream",
     "text": [
      "Epoch 1400 | Total Loss: 13.28473\n"
     ]
    },
    {
     "name": "stderr",
     "output_type": "stream",
     "text": [
      " 75%|███████████████████████████████████████████████████████████▎                   | 1501/2000 [65:19:24<17:59,  2.16s/it]"
     ]
    },
    {
     "name": "stdout",
     "output_type": "stream",
     "text": [
      "Epoch 1500 | Total Loss: 13.27748\n"
     ]
    },
    {
     "name": "stderr",
     "output_type": "stream",
     "text": [
      " 80%|███████████████████████████████████████████████████████████████▏               | 1601/2000 [65:22:33<15:26,  2.32s/it]"
     ]
    },
    {
     "name": "stdout",
     "output_type": "stream",
     "text": [
      "Epoch 1600 | Total Loss: 13.28720\n"
     ]
    },
    {
     "name": "stderr",
     "output_type": "stream",
     "text": [
      " 85%|███████████████████████████████████████████████████████████████████▏           | 1701/2000 [65:25:40<08:45,  1.76s/it]"
     ]
    },
    {
     "name": "stdout",
     "output_type": "stream",
     "text": [
      "Epoch 1700 | Total Loss: 13.28268\n"
     ]
    },
    {
     "name": "stderr",
     "output_type": "stream",
     "text": [
      " 90%|███████████████████████████████████████████████████████████████████████▏       | 1801/2000 [65:28:59<06:01,  1.82s/it]"
     ]
    },
    {
     "name": "stdout",
     "output_type": "stream",
     "text": [
      "Epoch 1800 | Total Loss: 13.28110\n"
     ]
    },
    {
     "name": "stderr",
     "output_type": "stream",
     "text": [
      " 95%|███████████████████████████████████████████████████████████████████████████    | 1901/2000 [65:32:18<03:19,  2.01s/it]"
     ]
    },
    {
     "name": "stdout",
     "output_type": "stream",
     "text": [
      "Epoch 1900 | Total Loss: 13.28419\n"
     ]
    },
    {
     "name": "stderr",
     "output_type": "stream",
     "text": [
      "100%|██████████████████████████████████████████████████████████████████████████████| 2000/2000 [65:35:52<00:00, 118.08s/it]\n"
     ]
    },
    {
     "data": {
      "image/png": "[encoded data removed]",
      "text/plain": [
       "<Figure size 864x432 with 1 Axes>"
      ]
     },
     "metadata": {
      "needs_background": "light"
     },
     "output_type": "display_data"
    }
   ],
   "source": [
    "# and use them to train the model\n",
    "loss_history = train(model, train_loader, criterion, optimizer, config)\n",
    "loss_history_np = [loss.detach().cpu().numpy() for loss in loss_history]\n",
    "\n",
    "plt.figure(figsize=(12, 6))\n",
    "plt.plot(loss_history_np)\n",
    "plt.legend(['Loss'])\n",
    "plt.show()"
   ]
  },
  {
   "cell_type": "code",
   "execution_count": 55,
   "metadata": {},
   "outputs": [],
   "source": [
    "def visualize_gam(x_values,input_dim, output_dim, vis_lat_features = False):\n",
    "    # Plot learned functions\n",
    "    fig, axes = plt.subplots(input_dim, output_dim, figsize=(15,30))\n",
    "\n",
    "    feature_output_max = {} \n",
    "    feature_output_min = {}\n",
    "\n",
    "    for j in range(output_dim):\n",
    "        feature_output_max[f'output_{j}'] = []\n",
    "        feature_output_min[f'output_{j}'] = []\n",
    "\n",
    "    for i in range(input_dim):\n",
    "        with torch.no_grad():\n",
    "            feature_input = x_values\n",
    "            for j in range(output_dim):\n",
    "                if vis_lat_features:\n",
    "                    feature_output = model.NAM_features.feature_nns[i](feature_input[:, 0])[:, j].cpu().numpy()\n",
    "                else:          \n",
    "                    feature_output = model.NAM_output.feature_nns[i](feature_input[:, 0])[:, j].cpu().numpy()  \n",
    "\n",
    "                feature_output_max[f'output_{j}'].append(max(feature_output)) \n",
    "                feature_output_min[f'output_{j}'].append(min(feature_output))\n",
    "\n",
    "    for i in range(input_dim):\n",
    "        with torch.no_grad(): \n",
    "            for j in range(output_dim):\n",
    "                ax1 = axes[i, j]\n",
    "                if vis_lat_features:\n",
    "                    feature_output = model.NAM_features.feature_nns[i](feature_input[:, 0])[:, j].cpu().numpy()\n",
    "                else:          \n",
    "                    feature_output = model.NAM_output.feature_nns[i](feature_input[:, 0])[:, j].cpu().numpy()\n",
    "                    \n",
    "                ax1.scatter(x_values.cpu().numpy(), feature_output, label=f'Feature {i+1}')\n",
    "                ax1.set_title(f'Feature {i+1} to output {j}')\n",
    "                ax1.set_xlabel('Input')\n",
    "                ax1.set_ylabel('Output')\n",
    "                ax1.set_ylim([min(feature_output_min[f'output_{j}'])*1.3, max(feature_output_max[f'output_{j}'])*1.3])\n",
    "\n",
    "    plt.tight_layout()\n",
    "    plt.show()\n",
    "    return"
   ]
  },
  {
   "cell_type": "code",
   "execution_count": 56,
   "metadata": {
    "scrolled": false
   },
   "outputs": [
    {
     "data": {
      "image/png": "[encoded data removed]",
      "text/plain": [
       "<Figure size 1080x2160 with 8 Axes>"
      ]
     },
     "metadata": {
      "needs_background": "light"
     },
     "output_type": "display_data"
    }
   ],
   "source": [
    "# Generate input values for plotting\n",
    "x_values = torch.linspace(-1, 1, 100).reshape(-1, 1)  # 100 points between -1 and 1\n",
    "\n",
    "vis_lat_features = False\n",
    "input_dim = config['latent_dim']\n",
    "output_dim = config['output_dim']\n",
    "visualize_gam(x_values, input_dim, output_dim, vis_lat_features)"
   ]
  },
  {
   "cell_type": "code",
   "execution_count": 57,
   "metadata": {
    "scrolled": false
   },
   "outputs": [
    {
     "data": {
      "image/png": "[encoded data removed]",
      "text/plain": [
       "<Figure size 1080x2160 with 40 Axes>"
      ]
     },
     "metadata": {
      "needs_background": "light"
     },
     "output_type": "display_data"
    }
   ],
   "source": [
    "# Generate input values for plotting\n",
    "x_values = torch.linspace(-1, 1, 100).reshape(-1, 1)  # 100 points between -1 and 1\n",
    "\n",
    "vis_lat_features = True\n",
    "input_dim = config['in_features']\n",
    "output_dim = config['latent_dim']\n",
    "visualize_gam(x_values, input_dim, output_dim, vis_lat_features)\n"
   ]
  },
  {
   "cell_type": "markdown",
   "metadata": {},
   "source": [
    "# Old"
   ]
  },
  {
   "cell_type": "code",
   "execution_count": 10,
   "metadata": {},
   "outputs": [],
   "source": [
    "# a basic numerical example that demonstrates the functionality of the key parts of the NeuralAdditiveModel class\n",
    "\n",
    "if 0:\n",
    "    import torch\n",
    "    import torch.nn as nn\n",
    "\n",
    "    # Simplified FeatureNN that outputs 3 values per feature (for 3 classes)\n",
    "    class SimpleFeatureNN(nn.Module):\n",
    "        def __init__(self, num_features, num_classes):\n",
    "            super().__init__()\n",
    "            self.input_layer = torch.nn.Linear(1, num_features)\n",
    "            self.output_layer = torch.nn.Linear(num_features, num_classes)\n",
    "\n",
    "        def forward(self, x):\n",
    "            # Linear transformation: output = weight * x + bias\n",
    "            x = self.input_layer(x)\n",
    "            x = self.output_layer(x)\n",
    "            return x\n",
    "\n",
    "    # Simplified NeuralAdditiveModel\n",
    "    class SimpleNeuralAdditiveModel(nn.Module):\n",
    "        def __init__(self, num_features=5, num_classes=3):\n",
    "            super().__init__()\n",
    "            self.input_size = num_features\n",
    "            self.feature_nns = nn.ModuleList([SimpleFeatureNN(num_features, num_classes) for _ in range(num_features)])\n",
    "            self.bias = nn.Parameter(torch.tensor([0.5, 0.6, 0.7]))  # Bias for each class\n",
    "\n",
    "        def forward(self, x):\n",
    "            input_fe = self._feature_nns(x)\n",
    "            print('-----------------')\n",
    "            print(input_fe)\n",
    "            # Collect outputs from each feature network\n",
    "            f_out = torch.stack(input_fe, dim=-1)  # Shape: [batch_size, num_classes, num_features]\n",
    "            print('-----------------')\n",
    "            print(f_out)\n",
    "            # Sum across features\n",
    "            f_out_sum = f_out.sum(dim=-1)  # Shape: [batch_size, num_classes]\n",
    "            print('-----------------')\n",
    "            print(f_out_sum)\n",
    "            # Add bias\n",
    "            output = f_out_sum + self.bias\n",
    "            print('-----------------')\n",
    "            print(output)\n",
    "            # Apply softmax to get class probabilities\n",
    "            output = torch.softmax(output, dim=-1)\n",
    "            print('-----------------')\n",
    "            print(output)\n",
    "\n",
    "            return output, f_out\n",
    "\n",
    "        def _feature_nns(self, x):\n",
    "            return [self.feature_nns[i](x[:, i].unsqueeze(-1)) for i in range(self.input_size)]\n",
    "\n",
    "    # Step 3: Test the Model with a Simple Input\n",
    "\n",
    "    # Define a simple input tensor with 2 features for 1 sample (batch_size = 1)\n",
    "    x_input = torch.tensor([[1.0, 2.0, 1.5, 2.5, 3.0]])  # Shape: [1, 2] (1 sample, 2 features)\n",
    "    print(x_input)\n",
    "    # Initialize the simple model\n",
    "    model = SimpleNeuralAdditiveModel(num_features=5, num_classes=3)\n",
    "\n",
    "    # Perform a forward pass\n",
    "    output, f_out = model(x_input)"
   ]
  },
  {
   "cell_type": "code",
   "execution_count": 80,
   "metadata": {},
   "outputs": [
    {
     "name": "stderr",
     "output_type": "stream",
     "text": [
      "<ipython-input-80-fcd7a1a4c170>:24: UserWarning: To copy construct from a tensor, it is recommended to use sourceTensor.clone().detach() or sourceTensor.clone().detach().requires_grad_(True), rather than torch.tensor(sourceTensor).\n",
      "  train_dataset = TensorDataset(torch.tensor(x_data), torch.tensor(y_data))\n"
     ]
    }
   ],
   "source": [
    "input_size = x_data.shape[-1]\n",
    "shallow_units = 500\n",
    "hidden_units = (300, 100)\n",
    "\n",
    "model = NeuralAdditiveModel(input_size=input_size,\n",
    "                 shallow_units=shallow_units,\n",
    "                 hidden_units=hidden_units,\n",
    "                 shallow_layer = ExULayer,\n",
    "                 hidden_layer = ReLULayer,\n",
    "                 feature_dropout = 0.0,\n",
    "                 hidden_dropout = 0.0,\n",
    "                 )\n",
    "\n",
    "lr=0.4\n",
    "optimizer = torch.optim.AdamW(model.parameters(),\n",
    "                                  lr=lr,\n",
    "                                  weight_decay=0.0\n",
    "                             )\n",
    "#criterion = torch.nn.MSELoss()\n",
    "criterion = penalized_mse\n",
    "scheduler = torch.optim.lr_scheduler.OneCycleLR(optimizer, max_lr=0.5, steps_per_epoch=100, epochs=1000)\n",
    "#StepLR(optimizer, gamma=1, step_size=1)\n",
    "\n",
    "train_dataset = TensorDataset(torch.tensor(x_data), torch.tensor(y_data))\n",
    "train_loader = DataLoader(train_dataset, batch_size=len(train_dataset), shuffle=False)"
   ]
  },
  {
   "cell_type": "code",
   "execution_count": 89,
   "metadata": {},
   "outputs": [
    {
     "name": "stderr",
     "output_type": "stream",
     "text": [
      "train (100/5000) | loss = 31.83157: 100%|████████████████████████████████████████████████| 1/1 [00:00<00:00, 12.87it/s]\n",
      "train (200/5000) | loss = 31.80177: 100%|████████████████████████████████████████████████| 1/1 [00:00<00:00,  9.38it/s]\n",
      "train (300/5000) | loss = 31.78449: 100%|████████████████████████████████████████████████| 1/1 [00:00<00:00, 12.74it/s]\n",
      "train (400/5000) | loss = 31.77496: 100%|████████████████████████████████████████████████| 1/1 [00:00<00:00, 11.61it/s]\n",
      "train (500/5000) | loss = 31.76996: 100%|████████████████████████████████████████████████| 1/1 [00:00<00:00, 12.42it/s]\n",
      "train (600/5000) | loss = 31.76748: 100%|████████████████████████████████████████████████| 1/1 [00:00<00:00, 12.91it/s]\n",
      "train (700/5000) | loss = 31.76634: 100%|████████████████████████████████████████████████| 1/1 [00:00<00:00, 13.87it/s]\n",
      "train (800/5000) | loss = 31.76584: 100%|████████████████████████████████████████████████| 1/1 [00:00<00:00,  9.98it/s]\n",
      "train (900/5000) | loss = 31.76563: 100%|████████████████████████████████████████████████| 1/1 [00:00<00:00, 12.69it/s]\n",
      "train (1000/5000) | loss = 31.76556: 100%|███████████████████████████████████████████████| 1/1 [00:00<00:00, 12.43it/s]\n",
      "train (1100/5000) | loss = 31.76553: 100%|███████████████████████████████████████████████| 1/1 [00:00<00:00, 12.39it/s]\n",
      "train (1200/5000) | loss = 31.76552: 100%|███████████████████████████████████████████████| 1/1 [00:00<00:00,  9.90it/s]\n",
      "train (1300/5000) | loss = 31.76552: 100%|███████████████████████████████████████████████| 1/1 [00:00<00:00, 11.24it/s]\n",
      "train (1400/5000) | loss = 31.76552: 100%|███████████████████████████████████████████████| 1/1 [00:00<00:00,  9.74it/s]\n",
      "train (1500/5000) | loss = 31.76552: 100%|███████████████████████████████████████████████| 1/1 [00:00<00:00, 11.93it/s]\n",
      "train (1600/5000) | loss = 31.76552: 100%|███████████████████████████████████████████████| 1/1 [00:00<00:00, 10.43it/s]\n",
      "train (1700/5000) | loss = 31.76552: 100%|███████████████████████████████████████████████| 1/1 [00:00<00:00, 10.82it/s]\n",
      "train (1800/5000) | loss = 31.76552: 100%|███████████████████████████████████████████████| 1/1 [00:00<00:00, 10.66it/s]\n",
      "train (1900/5000) | loss = 31.76552: 100%|███████████████████████████████████████████████| 1/1 [00:00<00:00,  9.52it/s]\n",
      "train (2000/5000) | loss = 31.76552: 100%|███████████████████████████████████████████████| 1/1 [00:00<00:00, 10.12it/s]\n",
      "train (2100/5000) | loss = 31.76552: 100%|███████████████████████████████████████████████| 1/1 [00:00<00:00,  9.03it/s]\n",
      "train (2200/5000) | loss = 31.76552: 100%|███████████████████████████████████████████████| 1/1 [00:00<00:00, 15.90it/s]\n",
      "train (2300/5000) | loss = 31.76552: 100%|███████████████████████████████████████████████| 1/1 [00:00<00:00, 11.79it/s]\n",
      "train (2400/5000) | loss = 31.76552: 100%|███████████████████████████████████████████████| 1/1 [00:00<00:00, 11.95it/s]\n",
      "train (2500/5000) | loss = 31.76552: 100%|███████████████████████████████████████████████| 1/1 [00:00<00:00, 11.94it/s]\n",
      "train (2600/5000) | loss = 31.76552: 100%|███████████████████████████████████████████████| 1/1 [00:00<00:00, 12.40it/s]\n",
      "train (2700/5000) | loss = 31.76552: 100%|███████████████████████████████████████████████| 1/1 [00:00<00:00, 11.32it/s]\n",
      "train (2800/5000) | loss = 31.76552: 100%|███████████████████████████████████████████████| 1/1 [00:00<00:00, 11.71it/s]\n",
      "train (2900/5000) | loss = 31.76552: 100%|███████████████████████████████████████████████| 1/1 [00:00<00:00, 12.31it/s]\n",
      "train (3000/5000) | loss = 31.76552: 100%|███████████████████████████████████████████████| 1/1 [00:00<00:00, 12.27it/s]\n",
      "train (3100/5000) | loss = 31.76552: 100%|███████████████████████████████████████████████| 1/1 [00:00<00:00, 10.15it/s]\n",
      "train (3200/5000) | loss = 31.76552: 100%|███████████████████████████████████████████████| 1/1 [00:00<00:00,  9.90it/s]\n",
      "train (3300/5000) | loss = 31.76552: 100%|███████████████████████████████████████████████| 1/1 [00:00<00:00, 11.03it/s]\n",
      "train (3400/5000) | loss = 31.76552: 100%|███████████████████████████████████████████████| 1/1 [00:00<00:00, 13.29it/s]\n",
      "train (3500/5000) | loss = 31.76552: 100%|███████████████████████████████████████████████| 1/1 [00:00<00:00, 11.75it/s]\n",
      "train (3600/5000) | loss = 31.76552: 100%|███████████████████████████████████████████████| 1/1 [00:00<00:00, 14.51it/s]\n",
      "train (3700/5000) | loss = 31.76552: 100%|███████████████████████████████████████████████| 1/1 [00:00<00:00, 12.02it/s]\n",
      "train (3800/5000) | loss = 31.76552: 100%|███████████████████████████████████████████████| 1/1 [00:00<00:00, 10.49it/s]\n",
      "train (3900/5000) | loss = 31.76552: 100%|███████████████████████████████████████████████| 1/1 [00:00<00:00, 11.28it/s]\n",
      "train (4000/5000) | loss = 31.76552: 100%|███████████████████████████████████████████████| 1/1 [00:00<00:00, 11.51it/s]\n",
      "train (4100/5000) | loss = 31.76552: 100%|███████████████████████████████████████████████| 1/1 [00:00<00:00, 11.23it/s]\n",
      "train (4200/5000) | loss = 31.76552: 100%|███████████████████████████████████████████████| 1/1 [00:00<00:00, 11.53it/s]\n",
      "train (4300/5000) | loss = 31.76552: 100%|███████████████████████████████████████████████| 1/1 [00:00<00:00, 13.31it/s]\n",
      "train (4400/5000) | loss = 31.76552: 100%|███████████████████████████████████████████████| 1/1 [00:00<00:00, 11.66it/s]\n",
      "train (4500/5000) | loss = 31.76552: 100%|███████████████████████████████████████████████| 1/1 [00:00<00:00, 12.74it/s]\n",
      "train (4600/5000) | loss = 31.76552: 100%|███████████████████████████████████████████████| 1/1 [00:00<00:00, 10.71it/s]\n",
      "train (4700/5000) | loss = 31.76552: 100%|███████████████████████████████████████████████| 1/1 [00:00<00:00,  8.97it/s]\n",
      "train (4800/5000) | loss = 31.76552: 100%|███████████████████████████████████████████████| 1/1 [00:00<00:00, 10.75it/s]\n",
      "train (4900/5000) | loss = 31.76552: 100%|███████████████████████████████████████████████| 1/1 [00:00<00:00, 11.29it/s]\n",
      "train (5000/5000) | loss = 31.76552: 100%|███████████████████████████████████████████████| 1/1 [00:00<00:00, 11.58it/s]\n"
     ]
    },
    {
     "data": {
      "image/png": "[encoded data removed]",
      "text/plain": [
       "<Figure size 864x432 with 1 Axes>"
      ]
     },
     "metadata": {
      "needs_background": "light"
     },
     "output_type": "display_data"
    }
   ],
   "source": [
    "def train_one_epoch(model, criterion, optimizer, data_loader, device, epoch, n_epochs, verbose=False):\n",
    "    pbar = tqdm.tqdm(enumerate(data_loader, start=1), total=len(data_loader), disable=not verbose)\n",
    "    total_loss = 0\n",
    "    for i, (x, y) in pbar:\n",
    "        x, y = x.to(device), y.to(device)\n",
    "        logits, fnns_out = model.forward(x)\n",
    "        loss = criterion(logits, y, fnns_out, feature_penalty=0.0)\n",
    "        #print(loss.item)\n",
    "        total_loss += loss.item()\n",
    "        #print(total_loss)\n",
    "        model.zero_grad()\n",
    "        loss.backward()\n",
    "        optimizer.step()\n",
    "        \n",
    "        pbar.set_description(f\"train ({epoch+1}/{n_epochs}) | loss = {total_loss:.5f}\")\n",
    "        \n",
    "    avg_loss = total_loss / len(data_loader)\n",
    "    wandb.log({\"loss\": avg_loss})\n",
    "    return avg_loss\n",
    "\n",
    "history = []\n",
    "n_epochs = 5000 #2000 #1000\n",
    "\n",
    "for epoch in range(n_epochs):\n",
    "    model = model.train()\n",
    "    verbose = (epoch + 1) % 100 == 0\n",
    "    total_loss = train_one_epoch(model, criterion, optimizer, train_loader, device, epoch, n_epochs, verbose=verbose)\n",
    "    \n",
    "    history.append(total_loss)\n",
    "#     if verbose:\n",
    "#         print(f\"Epoch {epoch + 1} | Total Loss: {total_loss:.5f}\")  \n",
    "        \n",
    "    scheduler.step()\n",
    "\n",
    "plt.figure(figsize=(12, 6))\n",
    "plt.plot(np.array(history))\n",
    "plt.legend(['Loss'])\n",
    "plt.ylim([0,20])\n",
    "plt.show()"
   ]
  },
  {
   "cell_type": "code",
   "execution_count": null,
   "metadata": {},
   "outputs": [],
   "source": [
    "def train_model(x_train, y_train, x_validate, y_validate, device):\n",
    "    model = NeuralAdditiveModel(\n",
    "        input_size=x_train.shape[-1],\n",
    "        shallow_units=nam.data_utils.calculate_n_units(x_train, FLAGS.n_basis_functions, FLAGS.units_multiplier),\n",
    "        hidden_units=list(map(int, FLAGS.hidden_units)),\n",
    "        shallow_layer=ExULayer if FLAGS.shallow_layer == \"exu\" else ReLULayer,\n",
    "        hidden_layer=ExULayer if FLAGS.hidden_layer == \"exu\" else ReLULayer,\n",
    "        hidden_dropout=FLAGS.dropout,\n",
    "        feature_dropout=FLAGS.feature_dropout).to(device)\n",
    "\n",
    "    optimizer = torch.optim.AdamW(model.parameters(),\n",
    "                                  lr=0.01,\n",
    "                                  weight_decay=0.01)\n",
    "    criterion = nam.metrics.penalized_mse if FLAGS.regression else nam.metrics.penalized_cross_entropy\n",
    "    scheduler = torch.optim.lr_scheduler.StepLR(optimizer, gamma=0.995, step_size=1)\n",
    "\n",
    "#     train_dataset = TensorDataset(torch.tensor(x_train), torch.tensor(y_train))\n",
    "#     train_loader = DataLoader(train_dataset, batch_size=FLAGS.batch_size, shuffle=True)\n",
    "#     validate_dataset = TensorDataset(torch.tensor(x_validate), torch.tensor(y_validate))\n",
    "#     validate_loader = DataLoader(validate_dataset, batch_size=FLAGS.batch_size, shuffle=True)\n",
    "\n",
    "#    n_tries = FLAGS.early_stopping_epochs\n",
    "#    best_validation_score, best_weights = 0, None\n",
    "\n",
    "    for epoch in range(5000):\n",
    "        model = model.train()\n",
    "        total_loss = train_one_epoch(model, criterion, optimizer, train_loader, device)\n",
    "        logging.info(f\"epoch {epoch} | train | {total_loss=}\")\n",
    "\n",
    "        scheduler.step()\n",
    "\n",
    "#         model = model.eval()\n",
    "#         metric, val_score = evaluate(model, validate_loader, device)\n",
    "#         logging.info(f\"epoch {epoch} | validate | {metric}={val_score}\")\n",
    "\n",
    "#         # early stopping\n",
    "#         if val_score <= best_validation_score and n_tries > 0:\n",
    "#             n_tries -= 1\n",
    "#             continue\n",
    "#         elif val_score <= best_validation_score:\n",
    "#             logging.info(f\"early stopping at epoch {epoch}\")\n",
    "#             break\n",
    "#         best_validation_score = val_score\n",
    "#         best_weights = copy.deepcopy(model.state_dict())\n",
    "\n",
    "#     model.load_state_dict(best_weights)\n",
    "\n",
    "    return model\n",
    "\n",
    "\n",
    "def train_one_epoch(model, criterion, optimizer, data_loader, device):\n",
    "    pbar = tqdm.tqdm(enumerate(data_loader, start=1), total=len(data_loader))\n",
    "    total_loss = 0\n",
    "    for i, (x, y) in pbar:\n",
    "        x, y = x.to(device), y.to(device)\n",
    "        logits, fnns_out = model.forward(x)\n",
    "        loss = criterion(logits, y, fnns_out, feature_penalty=FLAGS.output_regularization)\n",
    "        total_loss -= (total_loss / i) - (loss.item() / i)\n",
    "        model.zero_grad()\n",
    "        loss.backward()\n",
    "        optimizer.step()\n",
    "        pbar.set_description(f\"train | loss = {total_loss:.5f}\")\n",
    "    return total_loss"
   ]
  }
 ],
 "metadata": {
  "kernelspec": {
   "display_name": "Python 3",
   "language": "python",
   "name": "python3"
  },
  "language_info": {
   "codemirror_mode": {
    "name": "ipython",
    "version": 3
   },
   "file_extension": ".py",
   "mimetype": "text/x-python",
   "name": "python",
   "nbconvert_exporter": "python",
   "pygments_lexer": "ipython3",
   "version": "3.8.8"
  }
 },
 "nbformat": 4,
 "nbformat_minor": 2
}
