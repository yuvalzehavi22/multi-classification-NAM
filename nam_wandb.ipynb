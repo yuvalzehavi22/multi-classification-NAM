{
 "cells": [
  {
   "cell_type": "code",
   "execution_count": 1,
   "metadata": {},
   "outputs": [],
   "source": [
    "import os\n",
    "import random\n",
    "\n",
    "from typing import Union, Iterable, Sized, Tuple\n",
    "\n",
    "import numpy as np\n",
    "import torch\n",
    "import torch.nn as nn\n",
    "import torch.nn.functional as F\n",
    "import matplotlib.pyplot as plt\n",
    "import math\n",
    "import logging\n",
    "import torchvision\n",
    "import torchvision.transforms as transforms\n",
    "from torch.distributions.uniform import Uniform\n",
    "from tqdm.auto import tqdm\n",
    "from torch.utils.data import TensorDataset, DataLoader"
   ]
  },
  {
   "cell_type": "code",
   "execution_count": 2,
   "metadata": {},
   "outputs": [
    {
     "name": "stderr",
     "output_type": "stream",
     "text": [
      "wandb: Currently logged in as: yuvalzehavi22 (yuvalzehavi_22). Use `wandb login --relogin` to force relogin\n"
     ]
    },
    {
     "data": {
      "text/plain": [
       "True"
      ]
     },
     "execution_count": 2,
     "metadata": {},
     "output_type": "execute_result"
    }
   ],
   "source": [
    "os.environ[\"WANDB_NOTEBOOK_NAME\"] = \"nam_wandb.ipynb\"\n",
    "\n",
    "import wandb\n",
    "wandb.login()"
   ]
  },
  {
   "cell_type": "code",
   "execution_count": 3,
   "metadata": {},
   "outputs": [
    {
     "name": "stdout",
     "output_type": "stream",
     "text": [
      "cpu\n"
     ]
    }
   ],
   "source": [
    "# Ensure deterministic behavior\n",
    "def seed_everything(seed):\n",
    "    random.seed(seed)\n",
    "    os.environ[\"PYTHONHASHSEED\"] = str(seed)\n",
    "    torch.manual_seed(seed)\n",
    "    torch.cuda.manual_seed(seed)\n",
    "    torch.backends.cudnn.deterministic = True\n",
    "    torch.backends.cudnn.benchmark = False\n",
    "\n",
    "# Device configuration\n",
    "device = torch.device(\"cuda:0\" if torch.cuda.is_available() else \"cpu\")\n",
    "print(device)"
   ]
  },
  {
   "cell_type": "markdown",
   "metadata": {},
   "source": [
    "# Define the Data Loading and Model"
   ]
  },
  {
   "cell_type": "code",
   "execution_count": 4,
   "metadata": {},
   "outputs": [],
   "source": [
    "def get_data(num_exp=10, in_features=5):\n",
    "    # Simulate independent variables, x1,...,x5 from a Uniform distribution on [−1, 1]\n",
    "    X = Uniform(-1, 1).sample((num_exp, in_features))\n",
    "\n",
    "    y = X[:, 0] + 0.5*(3*(X[:, 1]**2)-1) + 0.5*(X[:, 2]**3)\n",
    "    y = y.reshape(-1, 1)\n",
    "\n",
    "    return X, y\n",
    "\n",
    "\n",
    "def make_loader(X, y, batch_size):\n",
    "    dataset = TensorDataset(torch.tensor(X), torch.tensor(y))\n",
    "    loader = DataLoader(dataset, batch_size=batch_size, shuffle=True)\n",
    "    return loader\n",
    "\n",
    "#batch_size=len(train_dataset)"
   ]
  },
  {
   "cell_type": "code",
   "execution_count": 5,
   "metadata": {},
   "outputs": [],
   "source": [
    "def truncated_normal_(tensor, mean: float = 0., std: float = 1.):\n",
    "    \"\"\"\n",
    "    Initializes a tensor with values from a truncated normal distribution\n",
    "    \"\"\"\n",
    "    size = tensor.shape\n",
    "    tmp = tensor.new_empty(size + (4,)).normal_()\n",
    "    valid = (tmp < 2) & (tmp > -2)\n",
    "    ind = valid.max(-1, keepdim=True)[1]\n",
    "    tensor.data.copy_(tmp.gather(-1, ind).squeeze(-1))\n",
    "    tensor.data.mul_(std).add_(mean)\n",
    "\n",
    "# ActivationLayer Class\n",
    "class ActivationLayer(torch.nn.Module):\n",
    "    \"\"\"\n",
    "    Abstract base class for layers with weights and biases\n",
    "    \"\"\"\n",
    "    def __init__(self,\n",
    "                 in_features: int,\n",
    "                 out_features: int):\n",
    "        super().__init__()\n",
    "        \n",
    "        self.weight = torch.nn.Parameter(torch.empty((in_features, out_features)))\n",
    "        self.bias = torch.nn.Parameter(torch.empty(in_features))\n",
    "\n",
    "    def forward(self, x):\n",
    "        raise NotImplementedError(\"abstract method called\")\n",
    "\n",
    "\n",
    "class ExULayer(ActivationLayer):\n",
    "    \"\"\"\n",
    "    Custom layer using exponential activation with weight and bias initialization\n",
    "    \"\"\"\n",
    "    def __init__(self,\n",
    "                 in_features: int,\n",
    "                 out_features: int):\n",
    "        super().__init__(in_features, out_features)\n",
    "        \n",
    "        truncated_normal_(self.weight, mean=4.0, std=0.5)\n",
    "        truncated_normal_(self.bias, std=0.5)\n",
    "\n",
    "    def forward(self, x): \n",
    "        exu = (x - self.bias) @ torch.exp(self.weight)\n",
    "        output = torch.clip(exu, 0, 1)\n",
    "        \n",
    "        if 0:\n",
    "            print('ExULayer_weights:', self.weight.detach().cpu().numpy())\n",
    "            print('ExULayer Normalization L1\\n:', torch.linalg.norm(self.weight.t(), 1, dim=0))\n",
    "            print('ExULayer Normalization L2\\n:',torch.linalg.norm(self.weight.t(), 2, dim=0))\n",
    "        \n",
    "        return output\n",
    "\n",
    "\n",
    "class ReLULayer(ActivationLayer):\n",
    "    \"\"\"\n",
    "    Custom layer using ReLU activation with Xavier weight initialization\n",
    "    \"\"\"\n",
    "    def __init__(self,\n",
    "                 in_features: int,\n",
    "                 out_features: int):\n",
    "        super().__init__(in_features, out_features)\n",
    "        \n",
    "        torch.nn.init.xavier_uniform_(self.weight)\n",
    "        truncated_normal_(self.bias, std=0.5)\n",
    "\n",
    "    def forward(self, x):\n",
    "        output = F.relu((x - self.bias) @ self.weight)\n",
    "        \n",
    "        if 0:\n",
    "            print('ReLULayer_weights:', self.weight.detach().cpu().numpy())\n",
    "            print('ReLULayer Normalization L1:\\n', torch.linalg.norm(self.weight.t(), 1, dim=0))\n",
    "            print('ReLULayer Normalization L2:\\n',torch.linalg.norm(self.weight.t(), 2, dim=0))\n",
    "        \n",
    "        return output\n",
    "\n",
    "\n",
    "# FeatureNN Class\n",
    "class FeatureNN(torch.nn.Module):\n",
    "    \"\"\"\n",
    "    Neural network for individual features\n",
    "    \"\"\"\n",
    "    def __init__(self,\n",
    "                 shallow_units: int,\n",
    "                 hidden_units: Tuple = (),\n",
    "                 shallow_layer: ActivationLayer = ExULayer,\n",
    "                 hidden_layer: ActivationLayer = ReLULayer,\n",
    "                 dropout: float = .5,\n",
    "                 latent_var_dim: int = 1,\n",
    "                 ):\n",
    "        super().__init__()\n",
    "        \n",
    "        # First (shallow) layer\n",
    "        self.shallow_layer = shallow_layer(1, shallow_units)\n",
    "        \n",
    "        # Hidden layers\n",
    "        self.hidden_layers = torch.nn.ModuleList()\n",
    "        in_units = shallow_units\n",
    "        for out_units in hidden_units:\n",
    "            self.hidden_layers.append(hidden_layer(in_units, out_units))\n",
    "            in_units = out_units  # Update in_units to the output of the last layer\n",
    "        \n",
    "        # Dropout layer\n",
    "        self.dropout = torch.nn.Dropout(p=dropout)\n",
    "        \n",
    "        # Output linear layer\n",
    "        self.output_layer = torch.nn.Linear(in_units, latent_var_dim, bias=False)\n",
    "        torch.nn.init.xavier_uniform_(self.output_layer.weight)\n",
    "\n",
    "    def forward(self, x):\n",
    "        x = x.unsqueeze(1)\n",
    "        \n",
    "        # Pass through the shallow layer\n",
    "        x = self.shallow_layer(x)\n",
    "        #x = self.dropout(x)\n",
    "        \n",
    "        # Pass through each hidden layer with dropout\n",
    "        for layer in self.hidden_layers:\n",
    "            x = layer(x)\n",
    "            x = self.dropout(x)\n",
    "            \n",
    "        # Final output layer\n",
    "        x = self.output_layer(x)\n",
    "        \n",
    "        return x\n",
    "\n",
    "\n",
    "# Neural Additive Model (NAM) Class\n",
    "class NeuralAdditiveModel(torch.nn.Module):\n",
    "    \"\"\"\n",
    "    Combines multiple feature networks, each processing one feature, with dropout and bias\n",
    "    \"\"\"\n",
    "    def __init__(self,\n",
    "                 input_size: int,\n",
    "                 shallow_units: int,\n",
    "                 hidden_units: Tuple = (),\n",
    "                 shallow_layer: ActivationLayer = ExULayer,\n",
    "                 hidden_layer: ActivationLayer = ReLULayer,\n",
    "                 feature_dropout: float = 0.,\n",
    "                 hidden_dropout: float = 0.,\n",
    "                 latent_var_dim: int = 1,\n",
    "                 ):\n",
    "        super().__init__()\n",
    "        \n",
    "        self.input_size = input_size\n",
    "\n",
    "        if isinstance(shallow_units, list):\n",
    "            assert len(shallow_units) == input_size\n",
    "        elif isinstance(shallow_units, int):\n",
    "            shallow_units = [shallow_units for _ in range(input_size)]\n",
    "\n",
    "        self.feature_nns = torch.nn.ModuleList([\n",
    "            FeatureNN(shallow_units=shallow_units[i],\n",
    "                      hidden_units=hidden_units,\n",
    "                      shallow_layer=shallow_layer,\n",
    "                      hidden_layer=hidden_layer,\n",
    "                      dropout=hidden_dropout,\n",
    "                      latent_var_dim=latent_var_dim)\n",
    "            for i in range(input_size)\n",
    "        ])\n",
    "        self.feature_dropout = torch.nn.Dropout(p=feature_dropout)\n",
    "        self.bias = torch.nn.Parameter(torch.zeros(1))\n",
    "\n",
    "    def forward(self, x):\n",
    "        f_out = torch.cat(self._feature_nns(x), dim=-1)\n",
    "        f_out = self.feature_dropout(f_out)\n",
    "        output = f_out.sum(axis=-1) + self.bias\n",
    "        \n",
    "        if 0:\n",
    "            print('final output', output)\n",
    "            print('f_out', f_out)\n",
    "        return output, f_out\n",
    "\n",
    "    def _feature_nns(self, x):\n",
    "        return [self.feature_nns[i](x[:, i]) for i in range(self.input_size)]"
   ]
  },
  {
   "cell_type": "code",
   "execution_count": 6,
   "metadata": {},
   "outputs": [],
   "source": [
    "# Loss function for regression\n",
    "def feature_loss(fnn_out, lambda_=0.):\n",
    "    return lambda_ * (fnn_out ** 2).sum() / fnn_out.shape[1]\n",
    "\n",
    "def penalized_mse(logits, truth, fnn_out, feature_penalty=0.0):\n",
    "    feat_loss = feature_loss(fnn_out, feature_penalty)\n",
    "    mse_loss = F.mse_loss(logits.view(-1), truth.view(-1))\n",
    "    loss = mse_loss+feat_loss\n",
    "    return loss"
   ]
  },
  {
   "cell_type": "markdown",
   "metadata": {},
   "source": [
    "# Define Training Logic"
   ]
  },
  {
   "cell_type": "code",
   "execution_count": 40,
   "metadata": {},
   "outputs": [],
   "source": [
    "def train(model, loader, criterion, optimizer, config):\n",
    "\n",
    "    # Run training and track with wandb\n",
    "    total_batches = len(loader) * config['epochs']\n",
    "    example_ct = 0  # number of examples seen\n",
    "    batch_ct = 0\n",
    "    loss_history = []\n",
    "    for epoch in tqdm(range(config['epochs'])):\n",
    "        if epoch % 200 == 1:\n",
    "            # avoid overfit, but allow enough steps for fit\n",
    "            X, y = get_data(num_exp=config['num_exp'], in_features=config['in_features'])\n",
    "            loader = make_loader(X, y, batch_size=config['batch_size'])\n",
    "            \n",
    "        epoch_loss_history = []\n",
    "        for _, (X, y) in enumerate(loader):\n",
    "\n",
    "            loss = train_batch(X, y, model, optimizer, criterion)\n",
    "            batch_ct += 1\n",
    "            epoch_loss_history.append(loss)\n",
    "#             # Report metrics every 5th batch\n",
    "#             if ((batch_ct + 1) % 5) == 0:\n",
    "#                 print(f\"Epoch {epoch} | Batch {batch_ct + 1} | Total Loss: {loss:.5f}\")\n",
    "\n",
    "        avg_loss = sum(epoch_loss_history) / len(loader)\n",
    "        loss_history.append(avg_loss)\n",
    "    \n",
    "        if epoch%100==0:\n",
    "            print(f\"Epoch {epoch} | Total Loss: {avg_loss:.5f}\")\n",
    "        \n",
    "    return loss_history\n",
    "        \n",
    "def train_batch(X, y, model, optimizer, criterion):\n",
    "    X, y = X.to(device), y.to(device)\n",
    "    # Forward pass\n",
    "    logits, fnns_out = model(X)\n",
    "    \n",
    "    loss = criterion(logits, y, fnns_out, feature_penalty=0.0001)\n",
    "    \n",
    "    # Backward pass\n",
    "    optimizer.zero_grad()\n",
    "    loss.backward()\n",
    "\n",
    "    # Step with optimizer\n",
    "    optimizer.step()\n",
    "\n",
    "    return loss\n"
   ]
  },
  {
   "cell_type": "code",
   "execution_count": 41,
   "metadata": {},
   "outputs": [],
   "source": [
    "# def train(model, loader, criterion, optimizer, config):\n",
    "#     # Tell wandb to watch what the model gets up to: gradients, weights, and more!\n",
    "#     wandb.watch(model, criterion, log=\"all\", log_freq=10)\n",
    "\n",
    "#     # Run training and track with wandb\n",
    "#     total_batches = len(loader) * config.epochs\n",
    "#     example_ct = 0  # number of examples seen\n",
    "#     batch_ct = 0\n",
    "#     for epoch in tqdm(range(config.epochs)):\n",
    "#         for _, (X, y) in enumerate(loader):\n",
    "\n",
    "#             loss = train_batch(X, y, model, optimizer, criterion)\n",
    "#             example_ct +=  len(X)\n",
    "#             batch_ct += 1\n",
    "\n",
    "#             # Report metrics every 25th batch\n",
    "#             if ((batch_ct + 1) % 25) == 0:\n",
    "#                 train_log(loss, example_ct, epoch)\n",
    "                \n",
    "\n",
    "# def train_batch(X, y, model, optimizer, criterion):\n",
    "#     X, y = X.to(device), y.to(device)\n",
    "    \n",
    "#     # Forward pass\n",
    "#     outputs = model(X)\n",
    "#     loss = criterion(outputs, y)\n",
    "    \n",
    "#     # Backward pass\n",
    "#     optimizer.zero_grad()\n",
    "#     loss.backward()\n",
    "\n",
    "#     # Step with optimizer\n",
    "#     optimizer.step()\n",
    "\n",
    "#     return loss\n",
    "\n",
    "\n",
    "# def train_log(loss, example_ct, epoch):\n",
    "#     # Where the magic happens\n",
    "#     wandb.log({\"epoch\": epoch, \"loss\": loss}, step=example_ct)\n",
    "#     print(f\"Loss after {str(example_ct).zfill(5)} examples: {loss:.3f}\")"
   ]
  },
  {
   "cell_type": "markdown",
   "metadata": {},
   "source": [
    "# Define the Experiment"
   ]
  },
  {
   "cell_type": "code",
   "execution_count": 55,
   "metadata": {},
   "outputs": [],
   "source": [
    "# define experiment\n",
    "config = dict(\n",
    "    epochs=2000,\n",
    "    batch_size=2048,\n",
    "    learning_rate=0.01,\n",
    "    num_exp = 5000,\n",
    "    in_features = 5,\n",
    "    shallow_units=20,\n",
    "    hidden_units=(64, 32),\n",
    "    feature_dropout=0.2,\n",
    "    hidden_dropout=0.1,\n",
    "    latent_dim=1,\n",
    "    seed=123,\n",
    "    dataset=\"Uniform_distribution\",\n",
    "    architecture=\"NAM\")"
   ]
  },
  {
   "cell_type": "code",
   "execution_count": 56,
   "metadata": {},
   "outputs": [
    {
     "data": {
      "text/plain": [
       "1"
      ]
     },
     "execution_count": 56,
     "metadata": {},
     "output_type": "execute_result"
    }
   ],
   "source": [
    "config['latent_dim']"
   ]
  },
  {
   "cell_type": "code",
   "execution_count": 57,
   "metadata": {},
   "outputs": [],
   "source": [
    "def make(config):\n",
    "    \n",
    "    seed_everything(seed=config['seed'])\n",
    "    \n",
    "    # Make the data\n",
    "    X, y = get_data(num_exp=config['num_exp'], in_features=config['in_features'])\n",
    "    train_loader = make_loader(X, y, batch_size=config['batch_size'])\n",
    "\n",
    "\n",
    "    # Make the model\n",
    "    model = NeuralAdditiveModel(input_size= config['in_features'],\n",
    "                     shallow_units= config['shallow_units'],\n",
    "                     hidden_units= config['hidden_units'],\n",
    "                     shallow_layer = ExULayer,\n",
    "                     hidden_layer = ReLULayer,\n",
    "                     feature_dropout = config['feature_dropout'],\n",
    "                     hidden_dropout = config['hidden_dropout'],\n",
    "                     latent_var_dim = config['latent_dim'],           \n",
    "                     ).to(device)\n",
    "\n",
    "    # Make the loss and optimizer\n",
    "    criterion = penalized_mse\n",
    "    optimizer = torch.optim.Adam(model.parameters(),\n",
    "                                 lr=config['learning_rate'],\n",
    "                                 weight_decay=0.00001\n",
    "                                )\n",
    "    \n",
    "    return model, train_loader, criterion, optimizer"
   ]
  },
  {
   "cell_type": "markdown",
   "metadata": {},
   "source": [
    "# Define the Pipeline"
   ]
  },
  {
   "cell_type": "code",
   "execution_count": 58,
   "metadata": {},
   "outputs": [
    {
     "name": "stdout",
     "output_type": "stream",
     "text": [
      "NeuralAdditiveModel(\n",
      "  (feature_nns): ModuleList(\n",
      "    (0): FeatureNN(\n",
      "      (shallow_layer): ExULayer()\n",
      "      (hidden_layers): ModuleList(\n",
      "        (0): ReLULayer()\n",
      "        (1): ReLULayer()\n",
      "      )\n",
      "      (dropout): Dropout(p=0.1, inplace=False)\n",
      "      (output_layer): Linear(in_features=32, out_features=1, bias=False)\n",
      "    )\n",
      "    (1): FeatureNN(\n",
      "      (shallow_layer): ExULayer()\n",
      "      (hidden_layers): ModuleList(\n",
      "        (0): ReLULayer()\n",
      "        (1): ReLULayer()\n",
      "      )\n",
      "      (dropout): Dropout(p=0.1, inplace=False)\n",
      "      (output_layer): Linear(in_features=32, out_features=1, bias=False)\n",
      "    )\n",
      "    (2): FeatureNN(\n",
      "      (shallow_layer): ExULayer()\n",
      "      (hidden_layers): ModuleList(\n",
      "        (0): ReLULayer()\n",
      "        (1): ReLULayer()\n",
      "      )\n",
      "      (dropout): Dropout(p=0.1, inplace=False)\n",
      "      (output_layer): Linear(in_features=32, out_features=1, bias=False)\n",
      "    )\n",
      "    (3): FeatureNN(\n",
      "      (shallow_layer): ExULayer()\n",
      "      (hidden_layers): ModuleList(\n",
      "        (0): ReLULayer()\n",
      "        (1): ReLULayer()\n",
      "      )\n",
      "      (dropout): Dropout(p=0.1, inplace=False)\n",
      "      (output_layer): Linear(in_features=32, out_features=1, bias=False)\n",
      "    )\n",
      "    (4): FeatureNN(\n",
      "      (shallow_layer): ExULayer()\n",
      "      (hidden_layers): ModuleList(\n",
      "        (0): ReLULayer()\n",
      "        (1): ReLULayer()\n",
      "      )\n",
      "      (dropout): Dropout(p=0.1, inplace=False)\n",
      "      (output_layer): Linear(in_features=32, out_features=1, bias=False)\n",
      "    )\n",
      "  )\n",
      "  (feature_dropout): Dropout(p=0.2, inplace=False)\n",
      ")\n",
      "----------------------------------------------------------------\n",
      "        Layer (type)               Output Shape         Param #\n",
      "================================================================\n",
      "          ExULayer-1                   [-1, 20]              21\n",
      "         ReLULayer-2                   [-1, 64]           1,300\n",
      "           Dropout-3                   [-1, 64]               0\n",
      "         ReLULayer-4                   [-1, 32]           2,112\n",
      "           Dropout-5                   [-1, 32]               0\n",
      "            Linear-6                    [-1, 1]              32\n",
      "         FeatureNN-7                    [-1, 1]               0\n",
      "          ExULayer-8                   [-1, 20]              21\n",
      "         ReLULayer-9                   [-1, 64]           1,300\n",
      "          Dropout-10                   [-1, 64]               0\n",
      "        ReLULayer-11                   [-1, 32]           2,112\n",
      "          Dropout-12                   [-1, 32]               0\n",
      "           Linear-13                    [-1, 1]              32\n",
      "        FeatureNN-14                    [-1, 1]               0\n",
      "         ExULayer-15                   [-1, 20]              21\n",
      "        ReLULayer-16                   [-1, 64]           1,300\n",
      "          Dropout-17                   [-1, 64]               0\n",
      "        ReLULayer-18                   [-1, 32]           2,112\n",
      "          Dropout-19                   [-1, 32]               0\n",
      "           Linear-20                    [-1, 1]              32\n",
      "        FeatureNN-21                    [-1, 1]               0\n",
      "         ExULayer-22                   [-1, 20]              21\n",
      "        ReLULayer-23                   [-1, 64]           1,300\n",
      "          Dropout-24                   [-1, 64]               0\n",
      "        ReLULayer-25                   [-1, 32]           2,112\n",
      "          Dropout-26                   [-1, 32]               0\n",
      "           Linear-27                    [-1, 1]              32\n",
      "        FeatureNN-28                    [-1, 1]               0\n",
      "         ExULayer-29                   [-1, 20]              21\n",
      "        ReLULayer-30                   [-1, 64]           1,300\n",
      "          Dropout-31                   [-1, 64]               0\n",
      "        ReLULayer-32                   [-1, 32]           2,112\n",
      "          Dropout-33                   [-1, 32]               0\n",
      "           Linear-34                    [-1, 1]              32\n",
      "        FeatureNN-35                    [-1, 1]               0\n",
      "          Dropout-36                    [-1, 5]               0\n",
      "================================================================\n",
      "Total params: 17,325\n",
      "Trainable params: 17,325\n",
      "Non-trainable params: 0\n",
      "----------------------------------------------------------------\n",
      "Input size (MB): 0.00\n",
      "Forward/backward pass size (MB): 0.01\n",
      "Params size (MB): 0.07\n",
      "Estimated Total Size (MB): 0.07\n",
      "----------------------------------------------------------------\n"
     ]
    },
    {
     "name": "stderr",
     "output_type": "stream",
     "text": [
      "<ipython-input-4-a6f4ed6a94d9>:12: UserWarning: To copy construct from a tensor, it is recommended to use sourceTensor.clone().detach() or sourceTensor.clone().detach().requires_grad_(True), rather than torch.tensor(sourceTensor).\n",
      "  dataset = TensorDataset(torch.tensor(X), torch.tensor(y))\n"
     ]
    }
   ],
   "source": [
    "from torchsummary import summary\n",
    "\n",
    "# make the model, data, and optimization problem\n",
    "model, train_loader, criterion, optimizer = make(config)\n",
    "print(model)\n",
    "\n",
    "# Print a detailed summary of the model\n",
    "summary(model, input_size=(config['in_features'],))"
   ]
  },
  {
   "cell_type": "code",
   "execution_count": 59,
   "metadata": {},
   "outputs": [
    {
     "data": {
      "application/vnd.jupyter.widget-view+json": {
       "model_id": "3f9c7662b3304cc9a868f8bacbd473ea",
       "version_major": 2,
       "version_minor": 0
      },
      "text/plain": [
       "  0%|          | 0/2000 [00:00<?, ?it/s]"
      ]
     },
     "metadata": {},
     "output_type": "display_data"
    },
    {
     "name": "stdout",
     "output_type": "stream",
     "text": [
      "Epoch 0 | Total Loss: 15.07332\n"
     ]
    },
    {
     "name": "stderr",
     "output_type": "stream",
     "text": [
      "<ipython-input-4-a6f4ed6a94d9>:12: UserWarning: To copy construct from a tensor, it is recommended to use sourceTensor.clone().detach() or sourceTensor.clone().detach().requires_grad_(True), rather than torch.tensor(sourceTensor).\n",
      "  dataset = TensorDataset(torch.tensor(X), torch.tensor(y))\n"
     ]
    },
    {
     "name": "stdout",
     "output_type": "stream",
     "text": [
      "Epoch 100 | Total Loss: 0.29429\n",
      "Epoch 200 | Total Loss: 0.26565\n",
      "Epoch 300 | Total Loss: 0.24702\n",
      "Epoch 400 | Total Loss: 0.25101\n",
      "Epoch 500 | Total Loss: 0.24552\n",
      "Epoch 600 | Total Loss: 0.24450\n",
      "Epoch 700 | Total Loss: 0.24334\n",
      "Epoch 800 | Total Loss: 0.24130\n",
      "Epoch 900 | Total Loss: 0.23452\n",
      "Epoch 1000 | Total Loss: 0.24180\n",
      "Epoch 1100 | Total Loss: 0.23570\n",
      "Epoch 1200 | Total Loss: 0.23386\n",
      "Epoch 1300 | Total Loss: 0.23140\n",
      "Epoch 1400 | Total Loss: 0.23384\n",
      "Epoch 1500 | Total Loss: 0.23753\n",
      "Epoch 1600 | Total Loss: 0.22962\n",
      "Epoch 1700 | Total Loss: 0.23581\n",
      "Epoch 1800 | Total Loss: 0.23981\n",
      "Epoch 1900 | Total Loss: 0.22752\n"
     ]
    },
    {
     "data": {
      "image/png": "[encoded data removed]",
      "text/plain": [
       "<Figure size 864x432 with 1 Axes>"
      ]
     },
     "metadata": {
      "needs_background": "light"
     },
     "output_type": "display_data"
    }
   ],
   "source": [
    "# and use them to train the model\n",
    "loss_history = train(model, train_loader, criterion, optimizer, config)\n",
    "loss_history_np = [loss.detach().cpu().numpy() for loss in loss_history]\n",
    "\n",
    "plt.figure(figsize=(12, 6))\n",
    "plt.plot(loss_history_np)\n",
    "plt.legend(['Loss'])\n",
    "plt.show()"
   ]
  },
  {
   "cell_type": "code",
   "execution_count": 63,
   "metadata": {},
   "outputs": [
    {
     "data": {
      "image/png": "[encoded data removed]",
      "text/plain": [
       "<Figure size 720x1440 with 5 Axes>"
      ]
     },
     "metadata": {
      "needs_background": "light"
     },
     "output_type": "display_data"
    }
   ],
   "source": [
    "# Generate input values for plotting\n",
    "x_values = torch.linspace(-1, 1, 100).reshape(-1, 1)  # 100 points between -1 and 1\n",
    "\n",
    "# Plot learned functions\n",
    "fig, axes = plt.subplots(config['in_features'],1, figsize=(10,20))\n",
    "\n",
    "feature_output_max = [] \n",
    "feature_output_min = [] \n",
    "for i in range(config['in_features']):\n",
    "    with torch.no_grad():\n",
    "        feature_input = x_values\n",
    "        feature_output = model.feature_nns[i](feature_input[:, 0]).cpu().numpy()\n",
    "    feature_output_max.append(max(feature_output)) \n",
    "    feature_output_min.append(min(feature_output))\n",
    "    \n",
    "for i in range(config['in_features']):\n",
    "    with torch.no_grad():\n",
    "        axes[i].plot(x_values.cpu().numpy(), model.feature_nns[i](feature_input[:, 0]).cpu().numpy(), label=f'Feature {i+1}')\n",
    "        axes[i].set_title(f'Learned Function for Feature {i+1}')\n",
    "        axes[i].set_xlabel('Input')\n",
    "        axes[i].set_ylabel('Output')\n",
    "        axes[i].set_ylim([min(feature_output_min)*1.3, max(feature_output_max)*1.3])\n",
    "        axes[i].legend()\n",
    "\n",
    "plt.tight_layout()\n",
    "plt.show()"
   ]
  },
  {
   "cell_type": "code",
   "execution_count": null,
   "metadata": {},
   "outputs": [],
   "source": []
  },
  {
   "cell_type": "code",
   "execution_count": null,
   "metadata": {},
   "outputs": [],
   "source": []
  },
  {
   "cell_type": "code",
   "execution_count": null,
   "metadata": {},
   "outputs": [],
   "source": []
  },
  {
   "cell_type": "code",
   "execution_count": 10,
   "metadata": {},
   "outputs": [],
   "source": [
    "def model_pipeline(hyperparameters):\n",
    "\n",
    "    # tell wandb to get started\n",
    "    with wandb.init(project=\"Train NAM\", config=hyperparameters):\n",
    "        print('wandb started...')\n",
    "        # access all HPs through wandb.config, so logging matches execution\n",
    "        config = wandb.config\n",
    "\n",
    "        # make the model, data, and optimization problem\n",
    "        model, train_loader, criterion, optimizer = make(config)\n",
    "        print(model)\n",
    "\n",
    "        # and use them to train the model\n",
    "        train(model, train_loader, criterion, optimizer, config)\n",
    "\n",
    "    return model"
   ]
  },
  {
   "cell_type": "markdown",
   "metadata": {},
   "source": [
    "# Run"
   ]
  },
  {
   "cell_type": "code",
   "execution_count": 11,
   "metadata": {
    "collapsed": true
   },
   "outputs": [
    {
     "ename": "MailboxError",
     "evalue": "transport failed",
     "output_type": "error",
     "traceback": [
      "\u001b[1;31m---------------------------------------------------------------------------\u001b[0m",
      "\u001b[1;31mMailboxError\u001b[0m                              Traceback (most recent call last)",
      "\u001b[1;32m<ipython-input-11-9807c214ebcc>\u001b[0m in \u001b[0;36m<module>\u001b[1;34m\u001b[0m\n\u001b[1;32m----> 1\u001b[1;33m \u001b[0mmodel\u001b[0m \u001b[1;33m=\u001b[0m \u001b[0mmodel_pipeline\u001b[0m\u001b[1;33m(\u001b[0m\u001b[0mconfig\u001b[0m\u001b[1;33m)\u001b[0m\u001b[1;33m\u001b[0m\u001b[1;33m\u001b[0m\u001b[0m\n\u001b[0m",
      "\u001b[1;32m<ipython-input-10-c15933b806bb>\u001b[0m in \u001b[0;36mmodel_pipeline\u001b[1;34m(hyperparameters)\u001b[0m\n\u001b[0;32m      2\u001b[0m \u001b[1;33m\u001b[0m\u001b[0m\n\u001b[0;32m      3\u001b[0m     \u001b[1;31m# tell wandb to get started\u001b[0m\u001b[1;33m\u001b[0m\u001b[1;33m\u001b[0m\u001b[1;33m\u001b[0m\u001b[0m\n\u001b[1;32m----> 4\u001b[1;33m     \u001b[1;32mwith\u001b[0m \u001b[0mwandb\u001b[0m\u001b[1;33m.\u001b[0m\u001b[0minit\u001b[0m\u001b[1;33m(\u001b[0m\u001b[0mproject\u001b[0m\u001b[1;33m=\u001b[0m\u001b[1;34m\"Train NAM\"\u001b[0m\u001b[1;33m,\u001b[0m \u001b[0mconfig\u001b[0m\u001b[1;33m=\u001b[0m\u001b[0mhyperparameters\u001b[0m\u001b[1;33m)\u001b[0m\u001b[1;33m:\u001b[0m\u001b[1;33m\u001b[0m\u001b[1;33m\u001b[0m\u001b[0m\n\u001b[0m\u001b[0;32m      5\u001b[0m         \u001b[0mprint\u001b[0m\u001b[1;33m(\u001b[0m\u001b[1;34m'wandb started...'\u001b[0m\u001b[1;33m)\u001b[0m\u001b[1;33m\u001b[0m\u001b[1;33m\u001b[0m\u001b[0m\n\u001b[0;32m      6\u001b[0m         \u001b[1;31m# access all HPs through wandb.config, so logging matches execution\u001b[0m\u001b[1;33m\u001b[0m\u001b[1;33m\u001b[0m\u001b[1;33m\u001b[0m\u001b[0m\n",
      "\u001b[1;32m~\\anaconda3\\lib\\site-packages\\wandb\\sdk\\wandb_init.py\u001b[0m in \u001b[0;36minit\u001b[1;34m(job_type, dir, config, project, entity, reinit, tags, group, name, notes, magic, config_exclude_keys, config_include_keys, anonymous, mode, allow_val_change, resume, force, tensorboard, sync_tensorboard, monitor_gym, save_code, id, fork_from, resume_from, settings)\u001b[0m\n\u001b[0;32m   1189\u001b[0m         \u001b[1;31m# Need to build delay into this sentry capture because our exit hooks\u001b[0m\u001b[1;33m\u001b[0m\u001b[1;33m\u001b[0m\u001b[1;33m\u001b[0m\u001b[0m\n\u001b[0;32m   1190\u001b[0m         \u001b[1;31m# mess with sentry's ability to send out errors before the program ends.\u001b[0m\u001b[1;33m\u001b[0m\u001b[1;33m\u001b[0m\u001b[1;33m\u001b[0m\u001b[0m\n\u001b[1;32m-> 1191\u001b[1;33m         \u001b[0mwandb\u001b[0m\u001b[1;33m.\u001b[0m\u001b[0m_sentry\u001b[0m\u001b[1;33m.\u001b[0m\u001b[0mreraise\u001b[0m\u001b[1;33m(\u001b[0m\u001b[0me\u001b[0m\u001b[1;33m)\u001b[0m\u001b[1;33m\u001b[0m\u001b[1;33m\u001b[0m\u001b[0m\n\u001b[0m\u001b[0;32m   1192\u001b[0m         \u001b[1;32mraise\u001b[0m \u001b[0mAssertionError\u001b[0m\u001b[1;33m(\u001b[0m\u001b[1;33m)\u001b[0m  \u001b[1;31m# unreachable\u001b[0m\u001b[1;33m\u001b[0m\u001b[1;33m\u001b[0m\u001b[0m\n",
      "\u001b[1;32m~\\anaconda3\\lib\\site-packages\\wandb\\analytics\\sentry.py\u001b[0m in \u001b[0;36mreraise\u001b[1;34m(self, exc)\u001b[0m\n\u001b[0;32m    153\u001b[0m         \u001b[1;31m# this will messily add this \"reraise\" function to the stack trace,\u001b[0m\u001b[1;33m\u001b[0m\u001b[1;33m\u001b[0m\u001b[1;33m\u001b[0m\u001b[0m\n\u001b[0;32m    154\u001b[0m         \u001b[1;31m# but hopefully it's not too bad\u001b[0m\u001b[1;33m\u001b[0m\u001b[1;33m\u001b[0m\u001b[1;33m\u001b[0m\u001b[0m\n\u001b[1;32m--> 155\u001b[1;33m         \u001b[1;32mraise\u001b[0m \u001b[0mexc\u001b[0m\u001b[1;33m.\u001b[0m\u001b[0mwith_traceback\u001b[0m\u001b[1;33m(\u001b[0m\u001b[0msys\u001b[0m\u001b[1;33m.\u001b[0m\u001b[0mexc_info\u001b[0m\u001b[1;33m(\u001b[0m\u001b[1;33m)\u001b[0m\u001b[1;33m[\u001b[0m\u001b[1;36m2\u001b[0m\u001b[1;33m]\u001b[0m\u001b[1;33m)\u001b[0m\u001b[1;33m\u001b[0m\u001b[1;33m\u001b[0m\u001b[0m\n\u001b[0m\u001b[0;32m    156\u001b[0m \u001b[1;33m\u001b[0m\u001b[0m\n\u001b[0;32m    157\u001b[0m     \u001b[1;33m@\u001b[0m\u001b[0m_safe_noop\u001b[0m\u001b[1;33m\u001b[0m\u001b[1;33m\u001b[0m\u001b[0m\n",
      "\u001b[1;32m~\\anaconda3\\lib\\site-packages\\wandb\\sdk\\wandb_init.py\u001b[0m in \u001b[0;36minit\u001b[1;34m(job_type, dir, config, project, entity, reinit, tags, group, name, notes, magic, config_exclude_keys, config_include_keys, anonymous, mode, allow_val_change, resume, force, tensorboard, sync_tensorboard, monitor_gym, save_code, id, fork_from, resume_from, settings)\u001b[0m\n\u001b[0;32m   1175\u001b[0m         \u001b[0mwi\u001b[0m \u001b[1;33m=\u001b[0m \u001b[0m_WandbInit\u001b[0m\u001b[1;33m(\u001b[0m\u001b[1;33m)\u001b[0m\u001b[1;33m\u001b[0m\u001b[1;33m\u001b[0m\u001b[0m\n\u001b[0;32m   1176\u001b[0m         \u001b[0mwi\u001b[0m\u001b[1;33m.\u001b[0m\u001b[0msetup\u001b[0m\u001b[1;33m(\u001b[0m\u001b[0mkwargs\u001b[0m\u001b[1;33m)\u001b[0m\u001b[1;33m\u001b[0m\u001b[1;33m\u001b[0m\u001b[0m\n\u001b[1;32m-> 1177\u001b[1;33m         \u001b[1;32mreturn\u001b[0m \u001b[0mwi\u001b[0m\u001b[1;33m.\u001b[0m\u001b[0minit\u001b[0m\u001b[1;33m(\u001b[0m\u001b[1;33m)\u001b[0m\u001b[1;33m\u001b[0m\u001b[1;33m\u001b[0m\u001b[0m\n\u001b[0m\u001b[0;32m   1178\u001b[0m \u001b[1;33m\u001b[0m\u001b[0m\n\u001b[0;32m   1179\u001b[0m     \u001b[1;32mexcept\u001b[0m \u001b[0mKeyboardInterrupt\u001b[0m \u001b[1;32mas\u001b[0m \u001b[0me\u001b[0m\u001b[1;33m:\u001b[0m\u001b[1;33m\u001b[0m\u001b[1;33m\u001b[0m\u001b[0m\n",
      "\u001b[1;32m~\\anaconda3\\lib\\site-packages\\wandb\\sdk\\wandb_init.py\u001b[0m in \u001b[0;36minit\u001b[1;34m(self)\u001b[0m\n\u001b[0;32m    811\u001b[0m         \u001b[0mrun_start_handle\u001b[0m \u001b[1;33m=\u001b[0m \u001b[0mbackend\u001b[0m\u001b[1;33m.\u001b[0m\u001b[0minterface\u001b[0m\u001b[1;33m.\u001b[0m\u001b[0mdeliver_run_start\u001b[0m\u001b[1;33m(\u001b[0m\u001b[0mrun\u001b[0m\u001b[1;33m.\u001b[0m\u001b[0m_run_obj\u001b[0m\u001b[1;33m)\u001b[0m\u001b[1;33m\u001b[0m\u001b[1;33m\u001b[0m\u001b[0m\n\u001b[0;32m    812\u001b[0m         \u001b[1;31m# TODO: add progress to let user know we are doing something\u001b[0m\u001b[1;33m\u001b[0m\u001b[1;33m\u001b[0m\u001b[1;33m\u001b[0m\u001b[0m\n\u001b[1;32m--> 813\u001b[1;33m         \u001b[0mrun_start_result\u001b[0m \u001b[1;33m=\u001b[0m \u001b[0mrun_start_handle\u001b[0m\u001b[1;33m.\u001b[0m\u001b[0mwait\u001b[0m\u001b[1;33m(\u001b[0m\u001b[0mtimeout\u001b[0m\u001b[1;33m=\u001b[0m\u001b[1;36m30\u001b[0m\u001b[1;33m)\u001b[0m\u001b[1;33m\u001b[0m\u001b[1;33m\u001b[0m\u001b[0m\n\u001b[0m\u001b[0;32m    814\u001b[0m         \u001b[1;32mif\u001b[0m \u001b[0mrun_start_result\u001b[0m \u001b[1;32mis\u001b[0m \u001b[1;32mNone\u001b[0m\u001b[1;33m:\u001b[0m\u001b[1;33m\u001b[0m\u001b[1;33m\u001b[0m\u001b[0m\n\u001b[0;32m    815\u001b[0m             \u001b[0mrun_start_handle\u001b[0m\u001b[1;33m.\u001b[0m\u001b[0mabandon\u001b[0m\u001b[1;33m(\u001b[0m\u001b[1;33m)\u001b[0m\u001b[1;33m\u001b[0m\u001b[1;33m\u001b[0m\u001b[0m\n",
      "\u001b[1;32m~\\anaconda3\\lib\\site-packages\\wandb\\sdk\\lib\\mailbox.py\u001b[0m in \u001b[0;36mwait\u001b[1;34m(self, timeout, on_probe, on_progress, release, cancel)\u001b[0m\n\u001b[0;32m    279\u001b[0m             \u001b[1;32mif\u001b[0m \u001b[0mself\u001b[0m\u001b[1;33m.\u001b[0m\u001b[0m_keepalive\u001b[0m \u001b[1;32mand\u001b[0m \u001b[0mself\u001b[0m\u001b[1;33m.\u001b[0m\u001b[0m_interface\u001b[0m\u001b[1;33m:\u001b[0m\u001b[1;33m\u001b[0m\u001b[1;33m\u001b[0m\u001b[0m\n\u001b[0;32m    280\u001b[0m                 \u001b[1;32mif\u001b[0m \u001b[0mself\u001b[0m\u001b[1;33m.\u001b[0m\u001b[0m_interface\u001b[0m\u001b[1;33m.\u001b[0m\u001b[0m_transport_keepalive_failed\u001b[0m\u001b[1;33m(\u001b[0m\u001b[1;33m)\u001b[0m\u001b[1;33m:\u001b[0m\u001b[1;33m\u001b[0m\u001b[1;33m\u001b[0m\u001b[0m\n\u001b[1;32m--> 281\u001b[1;33m                     \u001b[1;32mraise\u001b[0m \u001b[0mMailboxError\u001b[0m\u001b[1;33m(\u001b[0m\u001b[1;34m\"transport failed\"\u001b[0m\u001b[1;33m)\u001b[0m\u001b[1;33m\u001b[0m\u001b[1;33m\u001b[0m\u001b[0m\n\u001b[0m\u001b[0;32m    282\u001b[0m \u001b[1;33m\u001b[0m\u001b[0m\n\u001b[0;32m    283\u001b[0m             \u001b[0mfound\u001b[0m\u001b[1;33m,\u001b[0m \u001b[0mabandoned\u001b[0m \u001b[1;33m=\u001b[0m \u001b[0mself\u001b[0m\u001b[1;33m.\u001b[0m\u001b[0m_slot\u001b[0m\u001b[1;33m.\u001b[0m\u001b[0m_get_and_clear\u001b[0m\u001b[1;33m(\u001b[0m\u001b[0mtimeout\u001b[0m\u001b[1;33m=\u001b[0m\u001b[0mwait_timeout\u001b[0m\u001b[1;33m)\u001b[0m\u001b[1;33m\u001b[0m\u001b[1;33m\u001b[0m\u001b[0m\n",
      "\u001b[1;31mMailboxError\u001b[0m: transport failed"
     ]
    }
   ],
   "source": [
    "model = model_pipeline(config)"
   ]
  },
  {
   "cell_type": "code",
   "execution_count": null,
   "metadata": {},
   "outputs": [],
   "source": []
  }
 ],
 "metadata": {
  "kernelspec": {
   "display_name": "Python 3",
   "language": "python",
   "name": "python3"
  },
  "language_info": {
   "codemirror_mode": {
    "name": "ipython",
    "version": 3
   },
   "file_extension": ".py",
   "mimetype": "text/x-python",
   "name": "python",
   "nbconvert_exporter": "python",
   "pygments_lexer": "ipython3",
   "version": "3.8.3"
  }
 },
 "nbformat": 4,
 "nbformat_minor": 2
}
